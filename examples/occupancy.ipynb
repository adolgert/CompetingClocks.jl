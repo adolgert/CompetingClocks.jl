{
 "cells": [
  {
   "attachments": {},
   "cell_type": "markdown",
   "metadata": {},
   "source": [
    "# Test Samplers by Hopping on a Graph\n",
    "\n",
    "Let's test samplers by checking whether they run a model the same way. The model is that a particle hops around a graph, from graph node to graph node. Each hop is determined by a continuous univariate distribution. We'll let a particle hop around and then ask, at the end, how much time it spent on each node."
   ]
  },
  {
   "cell_type": "code",
   "execution_count": 2,
   "metadata": {},
   "outputs": [
    {
     "name": "stderr",
     "output_type": "stream",
     "text": [
      "\u001b[32m\u001b[1m  Activating\u001b[22m\u001b[39m project at `~/dev/CompetingClocks/examples`\n"
     ]
    }
   ],
   "source": [
    "using Pkg\n",
    "Pkg.activate(\".\")\n",
    "using CompetingClocks\n",
    "using LinearAlgebra\n",
    "using Plots\n",
    "using StatsPlots\n",
    "using Revise"
   ]
  },
  {
   "cell_type": "code",
   "execution_count": 3,
   "metadata": {},
   "outputs": [
    {
     "data": {
      "text/plain": [
       "sample_run_graph_occupancy (generic function with 2 methods)"
      ]
     },
     "metadata": {},
     "output_type": "display_data"
    }
   ],
   "source": [
    "include(\"../test/graph_occupancy.jl\")"
   ]
  },
  {
   "attachments": {},
   "cell_type": "markdown",
   "metadata": {},
   "source": [
    "Make the model. This model is made by a random number generator, where the random number generator determines which nodes are connected (so you can hop from one to the other) and which distribution determines the speed of each hop.\n",
    "\n",
    "Our plan is to use bootstrapping to estimate how much variance we should expect with different samplers. We'll start with a sampler we trust and run this 100 times. Then assume the average result is our expected value. We look at the odds ratio of those 100 draws to see how big they can get. Then, when we want to test another sampler, run it 10 or 100 times and look to see if its odds ratios are mostly within the range that we've seen already."
   ]
  },
  {
   "cell_type": "code",
   "execution_count": 4,
   "metadata": {},
   "outputs": [
    {
     "data": {
      "text/plain": [
       "24"
      ]
     },
     "metadata": {},
     "output_type": "display_data"
    }
   ],
   "source": [
    "Threads.nthreads()"
   ]
  },
  {
   "cell_type": "code",
   "execution_count": 5,
   "metadata": {},
   "outputs": [
    {
     "data": {
      "text/plain": [
       "8"
      ]
     },
     "metadata": {},
     "output_type": "display_data"
    }
   ],
   "source": [
    "model_rng = Xoshiro(3498217)  # Random number generator.\n",
    "features = Dict{String,Bool}(\n",
    "    \"weibull\"=>false, \"gamma\"=>false, \"past\"=>false, \"future\"=>false,\n",
    "    \"memory\"=>false)\n",
    "singleton_groc = GraphOccupancy(features, model_rng)\n",
    "length(singleton_groc)"
   ]
  },
  {
   "cell_type": "code",
   "execution_count": 6,
   "metadata": {},
   "outputs": [
    {
     "data": {
      "text/plain": [
       "generate_samples (generic function with 1 method)"
      ]
     },
     "metadata": {},
     "output_type": "display_data"
    }
   ],
   "source": [
    "function generate_samples(singleton_groc, singleton_sampler, trial_cnt)\n",
    "    occupancy = zeros(Float64, (length(singleton_groc), trial_cnt))\n",
    "    rng = Xoshiro(24370233)\n",
    "    Threads.@threads for trial_idx in 1:trial_cnt\n",
    "        # Deepcopy the model because it contains state from each time it has run.\n",
    "        groc = deepcopy(singleton_groc)\n",
    "        sampler = deepcopy(singleton_sampler)\n",
    "        occ, observations = run_graph_occupancy(groc, 1e6, sampler, rng)\n",
    "        occupancy[:, trial_idx] .= occ\n",
    "    end\n",
    "    occupancy\n",
    "end"
   ]
  },
  {
   "cell_type": "code",
   "execution_count": 7,
   "metadata": {},
   "outputs": [
    {
     "data": {
      "text/plain": [
       "8×100 Matrix{Float64}:\n",
       "      1.4288e5        1.42884e5  1.42114e5  …  142325.0        1.42539e5\n",
       " 159915.0             1.59626e5  1.59709e5          1.59849e5  1.59399e5\n",
       "      1.26278e5  127622.0        1.26762e5          1.27929e5  1.27342e5\n",
       "      0.0             0.0        0.0                0.0        0.0\n",
       "      1.26599e5       1.265e5    1.26851e5          1.26619e5  1.26672e5\n",
       "      1.3696e5        1.36329e5  1.36819e5  …       1.36383e5  1.36808e5\n",
       "      1.42558e5       1.42389e5  1.42734e5     142173.0        1.42075e5\n",
       "      1.64811e5       1.6465e5   1.65012e5          1.6472e5   1.65165e5"
      ]
     },
     "metadata": {},
     "output_type": "display_data"
    }
   ],
   "source": [
    "# sampler = FirstReaction{keyspace(GraphOccupancy)}()\n",
    "sampler = FirstToFire{keyspace(GraphOccupancy)}()\n",
    "trial_cnt = 100\n",
    "occupancy = generate_samples(singleton_groc, sampler, trial_cnt)"
   ]
  },
  {
   "attachments": {},
   "cell_type": "markdown",
   "metadata": {},
   "source": [
    "That zero dwell time is pesky. It means there was a component of the graph that wasn't connected, which is fine, but it will throw off the stats. We're going to see how likely each draw is using https://en.wikipedia.org/wiki/Multinomial_test. Here, we're treating particle-is-on-the-node as a draw for that node as the outcome. It's not right, but we can use this for a bootstrap. The natural logarithm of the likelihood ratio between the probabilities of the two runs is\n",
    "$$\n",
    "    -2\\sum_{i=1}^{k} x_i \\ln\\left(\\frac{\\pi_i}{p_i}\\right)\n",
    "$$\n",
    "Here, we assign the expected value, $\\pi_i$ from the mean of many runs. $x_i$ is the time for the particle on a particular node, and $p_i$ is the fraction of time on one node, normalized by time on all nodes."
   ]
  },
  {
   "cell_type": "code",
   "execution_count": 8,
   "metadata": {},
   "outputs": [
    {
     "data": {
      "text/plain": [
       "maximum_likelihood (generic function with 1 method)"
      ]
     },
     "metadata": {},
     "output_type": "display_data"
    }
   ],
   "source": [
    "function occupancy_likelihood_ratio(occupancy, mle)\n",
    "    # Sometimes a graph node is disconnected, so remove those.\n",
    "    keep_row = [sum(occupancy[check_idx,:]) > 0 for check_idx in 1:size(occupancy, 1)]\n",
    "    occupancy = occupancy[keep_row, :]\n",
    "    category_cnt, trial_cnt = size(occupancy)\n",
    "    odds_ratio = zeros(Float64, trial_cnt)\n",
    "    for trial_idx in 1:trial_cnt\n",
    "        relative_occupancy = occupancy[:, trial_idx] / sum(occupancy[:, trial_idx])\n",
    "        log_odds = 0.0\n",
    "        for node_idx in 1:category_cnt\n",
    "            log_odds += occupancy[node_idx, trial_idx] * log(mle[node_idx] / relative_occupancy[node_idx])\n",
    "        end\n",
    "        odds_ratio[trial_idx] = -2 * log_odds\n",
    "    end\n",
    "    return odds_ratio\n",
    "end\n",
    "\n",
    "function maximum_likelihood(occupancy)\n",
    "    # Sometimes a graph node is disconnected, so remove those.\n",
    "    keep_row = [sum(occupancy[check_idx,:]) > 0 for check_idx in 1:size(occupancy, 1)]\n",
    "    occupancy = occupancy[keep_row, :]\n",
    "    category_cnt = size(occupancy, 1)\n",
    "    trial_cnt = size(occupancy, 2)\n",
    "    expected_occupancy = sum(occupancy; dims=2) / trial_cnt\n",
    "    mle = expected_occupancy / sum(expected_occupancy)\n",
    "end"
   ]
  },
  {
   "attachments": {},
   "cell_type": "markdown",
   "metadata": {},
   "source": [
    "This set of 100 numbers is 100 odds ratios. If we do a bunch of draws from another sampler, we expect their odds ratios to be mostly in this range."
   ]
  },
  {
   "cell_type": "code",
   "execution_count": 9,
   "metadata": {},
   "outputs": [
    {
     "data": {
      "text/plain": [
       "100-element Vector{Float64}:\n",
       "   0.3907189945959715\n",
       "   0.5201943806818576\n",
       "   0.625171177895254\n",
       "   0.6253998516927481\n",
       "   0.7028588845286095\n",
       "   1.0751081077071944\n",
       "   1.2879539474881767\n",
       "   1.4142008268183304\n",
       "   1.4324751573565209\n",
       "   1.4729401031464704\n",
       "   ⋮\n",
       "  18.30270353131482\n",
       "  19.243630426334732\n",
       "  19.73558837672863\n",
       "  20.928766306535977\n",
       "  25.586088615255107\n",
       " 232.1920479878372\n",
       " 300.8371113460353\n",
       " 312.6121599973576\n",
       " 320.61356181077554"
      ]
     },
     "metadata": {},
     "output_type": "display_data"
    }
   ],
   "source": [
    "mle = maximum_likelihood(occupancy)\n",
    "odds_ratios = occupancy_likelihood_ratio(occupancy, mle)\n",
    "sort!(odds_ratios)"
   ]
  },
  {
   "attachments": {},
   "cell_type": "markdown",
   "metadata": {},
   "source": [
    "Just checking that a perfect odds ratio is basically zero."
   ]
  },
  {
   "cell_type": "code",
   "execution_count": 10,
   "metadata": {},
   "outputs": [
    {
     "data": {
      "text/plain": [
       "2-element Vector{Float64}:\n",
       " -2.538419875464029e-10\n",
       " -2.538419875464029e-10"
      ]
     },
     "metadata": {},
     "output_type": "display_data"
    }
   ],
   "source": [
    "perfect = zeros(length(mle), 2)\n",
    "perfect[:,1] .= mle * 1e6\n",
    "perfect[:,2] .= mle * 1e6\n",
    "occupancy_likelihood_ratio(perfect, mle)"
   ]
  },
  {
   "attachments": {},
   "cell_type": "markdown",
   "metadata": {},
   "source": [
    "Now we're ready to evaluate the FirstToFire sampler. This should behave identically to the FirstReaction sampler, especially considering that this model disables all enabled nodes at every step."
   ]
  },
  {
   "cell_type": "code",
   "execution_count": 11,
   "metadata": {},
   "outputs": [
    {
     "data": {
      "text/plain": [
       "8×10 Matrix{Float64}:\n",
       "      1.41576e5       1.41387e5       1.41177e5  …       1.41486e5  1.41204e5\n",
       "      1.58107e5       1.58886e5       1.58517e5          1.58334e5  1.58523e5\n",
       "      1.31875e5       1.3138e5   132054.0                1.31882e5  1.31867e5\n",
       "      0.0             0.0             0.0                0.0        0.0\n",
       " 127559.0             1.26871e5       1.27066e5          1.2713e5   1.27026e5\n",
       "      1.36656e5       1.36896e5       1.3662e5   …       1.36509e5  1.36967e5\n",
       "      1.41469e5       1.4167e5        1.41826e5     141521.0        1.41776e5\n",
       "      1.62757e5  162910.0             1.6274e5           1.63137e5  1.62636e5"
      ]
     },
     "metadata": {},
     "output_type": "display_data"
    }
   ],
   "source": [
    "# sampler = FirstToFire{keyspace(GraphOccupancy)}()\n",
    "sampler = FirstReaction{keyspace(GraphOccupancy)}()\n",
    "trial_cnt = 10\n",
    "first_to_fire = generate_samples(singleton_groc, sampler, trial_cnt)"
   ]
  },
  {
   "attachments": {},
   "cell_type": "markdown",
   "metadata": {},
   "source": [
    "Well, these odds don't look like they are in the right range."
   ]
  },
  {
   "cell_type": "code",
   "execution_count": 12,
   "metadata": {},
   "outputs": [
    {
     "data": {
      "text/plain": [
       "10-element Vector{Float64}:\n",
       " 171.1807075316824\n",
       " 180.17026727930124\n",
       " 180.4123010946496\n",
       " 204.67988763567064\n",
       " 219.01948865904933\n",
       " 228.32391664819988\n",
       " 235.20382545811663\n",
       " 239.95617188287997\n",
       " 250.31063916207404\n",
       " 259.0211724964465"
      ]
     },
     "metadata": {},
     "output_type": "display_data"
    }
   ],
   "source": [
    "ftf_odds_ratio = occupancy_likelihood_ratio(first_to_fire, mle)\n",
    "sort!(ftf_odds_ratio)"
   ]
  },
  {
   "cell_type": "code",
   "execution_count": 13,
   "metadata": {},
   "outputs": [
    {
     "data": {
      "image/png": "[encoded data removed]",
      "image/svg+xml": [
       "<?xml version=\"1.0\" encoding=\"utf-8\"?>\n",
       "<svg xmlns=\"http://www.w3.org/2000/svg\" xmlns:xlink=\"http://www.w3.org/1999/xlink\" width=\"600\" height=\"400\" viewBox=\"0 0 2400 1600\">\n",
       "<defs>\n",
       "  <clipPath id=\"clip310\">\n",
       "    <rect x=\"0\" y=\"0\" width=\"2400\" height=\"1600\"/>\n",
       "  </clipPath>\n",
       "</defs>\n",
       "<path clip-path=\"url(#clip310)\" d=\"M0 1600 L2400 1600 L2400 0 L0 0  Z\" fill=\"#ffffff\" fill-rule=\"evenodd\" fill-opacity=\"1\"/>\n",
       "<defs>\n",
       "  <clipPath id=\"clip311\">\n",
       "    <rect x=\"480\" y=\"0\" width=\"1681\" height=\"1600\"/>\n",
       "  </clipPath>\n",
       "</defs>\n",
       "<path clip-path=\"url(#clip310)\" d=\"M141.853 1486.45 L2352.76 1486.45 L2352.76 123.472 L141.853 123.472  Z\" fill=\"#ffffff\" fill-rule=\"evenodd\" fill-opacity=\"1\"/>\n",
       "<defs>\n",
       "  <clipPath id=\"clip312\">\n",
       "    <rect x=\"141\" y=\"123\" width=\"2212\" height=\"1364\"/>\n",
       "  </clipPath>\n",
       "</defs>\n",
       "<polyline clip-path=\"url(#clip312)\" style=\"stroke:#000000; stroke-linecap:round; stroke-linejoin:round; stroke-width:2; stroke-opacity:0.1; fill:none\" points=\"263.457,1486.45 263.457,123.472 \"/>\n",
       "<polyline clip-path=\"url(#clip312)\" style=\"stroke:#000000; stroke-linecap:round; stroke-linejoin:round; stroke-width:2; stroke-opacity:0.1; fill:none\" points=\"868.901,1486.45 868.901,123.472 \"/>\n",
       "<polyline clip-path=\"url(#clip312)\" style=\"stroke:#000000; stroke-linecap:round; stroke-linejoin:round; stroke-width:2; stroke-opacity:0.1; fill:none\" points=\"1474.35,1486.45 1474.35,123.472 \"/>\n",
       "<polyline clip-path=\"url(#clip312)\" style=\"stroke:#000000; stroke-linecap:round; stroke-linejoin:round; stroke-width:2; stroke-opacity:0.1; fill:none\" points=\"2079.79,1486.45 2079.79,123.472 \"/>\n",
       "<polyline clip-path=\"url(#clip310)\" style=\"stroke:#000000; stroke-linecap:round; stroke-linejoin:round; stroke-width:4; stroke-opacity:1; fill:none\" points=\"141.853,1486.45 2352.76,1486.45 \"/>\n",
       "<polyline clip-path=\"url(#clip310)\" style=\"stroke:#000000; stroke-linecap:round; stroke-linejoin:round; stroke-width:4; stroke-opacity:1; fill:none\" points=\"263.457,1486.45 263.457,1467.55 \"/>\n",
       "<polyline clip-path=\"url(#clip310)\" style=\"stroke:#000000; stroke-linecap:round; stroke-linejoin:round; stroke-width:4; stroke-opacity:1; fill:none\" points=\"868.901,1486.45 868.901,1467.55 \"/>\n",
       "<polyline clip-path=\"url(#clip310)\" style=\"stroke:#000000; stroke-linecap:round; stroke-linejoin:round; stroke-width:4; stroke-opacity:1; fill:none\" points=\"1474.35,1486.45 1474.35,1467.55 \"/>\n",
       "<polyline clip-path=\"url(#clip310)\" style=\"stroke:#000000; stroke-linecap:round; stroke-linejoin:round; stroke-width:4; stroke-opacity:1; fill:none\" points=\"2079.79,1486.45 2079.79,1467.55 \"/>\n",
       "<path clip-path=\"url(#clip310)\" d=\"M263.457 1517.37 Q259.845 1517.37 258.017 1520.93 Q256.211 1524.47 256.211 1531.6 Q256.211 1538.71 258.017 1542.27 Q259.845 1545.82 263.457 1545.82 Q267.091 1545.82 268.896 1542.27 Q270.725 1538.71 270.725 1531.6 Q270.725 1524.47 268.896 1520.93 Q267.091 1517.37 263.457 1517.37 M263.457 1513.66 Q269.267 1513.66 272.322 1518.27 Q275.401 1522.85 275.401 1531.6 Q275.401 1540.33 272.322 1544.94 Q269.267 1549.52 263.457 1549.52 Q257.646 1549.52 254.568 1544.94 Q251.512 1540.33 251.512 1531.6 Q251.512 1522.85 254.568 1518.27 Q257.646 1513.66 263.457 1513.66 Z\" fill=\"#000000\" fill-rule=\"nonzero\" fill-opacity=\"1\" /><path clip-path=\"url(#clip310)\" d=\"M828.508 1544.91 L836.147 1544.91 L836.147 1518.55 L827.837 1520.21 L827.837 1515.95 L836.101 1514.29 L840.777 1514.29 L840.777 1544.91 L848.415 1544.91 L848.415 1548.85 L828.508 1548.85 L828.508 1544.91 Z\" fill=\"#000000\" fill-rule=\"nonzero\" fill-opacity=\"1\" /><path clip-path=\"url(#clip310)\" d=\"M867.86 1517.37 Q864.249 1517.37 862.42 1520.93 Q860.614 1524.47 860.614 1531.6 Q860.614 1538.71 862.42 1542.27 Q864.249 1545.82 867.86 1545.82 Q871.494 1545.82 873.3 1542.27 Q875.128 1538.71 875.128 1531.6 Q875.128 1524.47 873.3 1520.93 Q871.494 1517.37 867.86 1517.37 M867.86 1513.66 Q873.67 1513.66 876.725 1518.27 Q879.804 1522.85 879.804 1531.6 Q879.804 1540.33 876.725 1544.94 Q873.67 1549.52 867.86 1549.52 Q862.05 1549.52 858.971 1544.94 Q855.915 1540.33 855.915 1531.6 Q855.915 1522.85 858.971 1518.27 Q862.05 1513.66 867.86 1513.66 Z\" fill=\"#000000\" fill-rule=\"nonzero\" fill-opacity=\"1\" /><path clip-path=\"url(#clip310)\" d=\"M898.022 1517.37 Q894.411 1517.37 892.582 1520.93 Q890.776 1524.47 890.776 1531.6 Q890.776 1538.71 892.582 1542.27 Q894.411 1545.82 898.022 1545.82 Q901.656 1545.82 903.461 1542.27 Q905.29 1538.71 905.29 1531.6 Q905.29 1524.47 903.461 1520.93 Q901.656 1517.37 898.022 1517.37 M898.022 1513.66 Q903.832 1513.66 906.887 1518.27 Q909.966 1522.85 909.966 1531.6 Q909.966 1540.33 906.887 1544.94 Q903.832 1549.52 898.022 1549.52 Q892.211 1549.52 889.133 1544.94 Q886.077 1540.33 886.077 1531.6 Q886.077 1522.85 889.133 1518.27 Q892.211 1513.66 898.022 1513.66 Z\" fill=\"#000000\" fill-rule=\"nonzero\" fill-opacity=\"1\" /><path clip-path=\"url(#clip310)\" d=\"M1438.04 1544.91 L1454.36 1544.91 L1454.36 1548.85 L1432.41 1548.85 L1432.41 1544.91 Q1435.08 1542.16 1439.66 1537.53 Q1444.27 1532.88 1445.45 1531.53 Q1447.69 1529.01 1448.57 1527.27 Q1449.47 1525.51 1449.47 1523.82 Q1449.47 1521.07 1447.53 1519.33 Q1445.61 1517.6 1442.51 1517.6 Q1440.31 1517.6 1437.85 1518.36 Q1435.42 1519.13 1432.65 1520.68 L1432.65 1515.95 Q1435.47 1514.82 1437.92 1514.24 Q1440.38 1513.66 1442.41 1513.66 Q1447.78 1513.66 1450.98 1516.35 Q1454.17 1519.03 1454.17 1523.52 Q1454.17 1525.65 1453.36 1527.57 Q1452.58 1529.47 1450.47 1532.07 Q1449.89 1532.74 1446.79 1535.95 Q1443.69 1539.15 1438.04 1544.91 Z\" fill=\"#000000\" fill-rule=\"nonzero\" fill-opacity=\"1\" /><path clip-path=\"url(#clip310)\" d=\"M1474.17 1517.37 Q1470.56 1517.37 1468.73 1520.93 Q1466.93 1524.47 1466.93 1531.6 Q1466.93 1538.71 1468.73 1542.27 Q1470.56 1545.82 1474.17 1545.82 Q1477.81 1545.82 1479.61 1542.27 Q1481.44 1538.71 1481.44 1531.6 Q1481.44 1524.47 1479.61 1520.93 Q1477.81 1517.37 1474.17 1517.37 M1474.17 1513.66 Q1479.98 1513.66 1483.04 1518.27 Q1486.12 1522.85 1486.12 1531.6 Q1486.12 1540.33 1483.04 1544.94 Q1479.98 1549.52 1474.17 1549.52 Q1468.36 1549.52 1465.28 1544.94 Q1462.23 1540.33 1462.23 1531.6 Q1462.23 1522.85 1465.28 1518.27 Q1468.36 1513.66 1474.17 1513.66 Z\" fill=\"#000000\" fill-rule=\"nonzero\" fill-opacity=\"1\" /><path clip-path=\"url(#clip310)\" d=\"M1504.33 1517.37 Q1500.72 1517.37 1498.89 1520.93 Q1497.09 1524.47 1497.09 1531.6 Q1497.09 1538.71 1498.89 1542.27 Q1500.72 1545.82 1504.33 1545.82 Q1507.97 1545.82 1509.77 1542.27 Q1511.6 1538.71 1511.6 1531.6 Q1511.6 1524.47 1509.77 1520.93 Q1507.97 1517.37 1504.33 1517.37 M1504.33 1513.66 Q1510.14 1513.66 1513.2 1518.27 Q1516.28 1522.85 1516.28 1531.6 Q1516.28 1540.33 1513.2 1544.94 Q1510.14 1549.52 1504.33 1549.52 Q1498.52 1549.52 1495.45 1544.94 Q1492.39 1540.33 1492.39 1531.6 Q1492.39 1522.85 1495.45 1518.27 Q1498.52 1513.66 1504.33 1513.66 Z\" fill=\"#000000\" fill-rule=\"nonzero\" fill-opacity=\"1\" /><path clip-path=\"url(#clip310)\" d=\"M2053.55 1530.21 Q2056.91 1530.93 2058.78 1533.2 Q2060.68 1535.47 2060.68 1538.8 Q2060.68 1543.92 2057.16 1546.72 Q2053.65 1549.52 2047.16 1549.52 Q2044.99 1549.52 2042.67 1549.08 Q2040.38 1548.66 2037.93 1547.81 L2037.93 1543.29 Q2039.87 1544.43 2042.19 1545.01 Q2044.5 1545.58 2047.03 1545.58 Q2051.42 1545.58 2053.71 1543.85 Q2056.03 1542.11 2056.03 1538.8 Q2056.03 1535.75 2053.88 1534.03 Q2051.75 1532.3 2047.93 1532.3 L2043.9 1532.3 L2043.9 1528.45 L2048.11 1528.45 Q2051.56 1528.45 2053.39 1527.09 Q2055.22 1525.7 2055.22 1523.11 Q2055.22 1520.45 2053.32 1519.03 Q2051.45 1517.6 2047.93 1517.6 Q2046.01 1517.6 2043.81 1518.01 Q2041.61 1518.43 2038.97 1519.31 L2038.97 1515.14 Q2041.63 1514.4 2043.95 1514.03 Q2046.28 1513.66 2048.34 1513.66 Q2053.67 1513.66 2056.77 1516.09 Q2059.87 1518.5 2059.87 1522.62 Q2059.87 1525.49 2058.23 1527.48 Q2056.59 1529.45 2053.55 1530.21 Z\" fill=\"#000000\" fill-rule=\"nonzero\" fill-opacity=\"1\" /><path clip-path=\"url(#clip310)\" d=\"M2079.55 1517.37 Q2075.94 1517.37 2074.11 1520.93 Q2072.3 1524.47 2072.3 1531.6 Q2072.3 1538.71 2074.11 1542.27 Q2075.94 1545.82 2079.55 1545.82 Q2083.18 1545.82 2084.99 1542.27 Q2086.82 1538.71 2086.82 1531.6 Q2086.82 1524.47 2084.99 1520.93 Q2083.18 1517.37 2079.55 1517.37 M2079.55 1513.66 Q2085.36 1513.66 2088.41 1518.27 Q2091.49 1522.85 2091.49 1531.6 Q2091.49 1540.33 2088.41 1544.94 Q2085.36 1549.52 2079.55 1549.52 Q2073.74 1549.52 2070.66 1544.94 Q2067.6 1540.33 2067.6 1531.6 Q2067.6 1522.85 2070.66 1518.27 Q2073.74 1513.66 2079.55 1513.66 Z\" fill=\"#000000\" fill-rule=\"nonzero\" fill-opacity=\"1\" /><path clip-path=\"url(#clip310)\" d=\"M2109.71 1517.37 Q2106.1 1517.37 2104.27 1520.93 Q2102.46 1524.47 2102.46 1531.6 Q2102.46 1538.71 2104.27 1542.27 Q2106.1 1545.82 2109.71 1545.82 Q2113.34 1545.82 2115.15 1542.27 Q2116.98 1538.71 2116.98 1531.6 Q2116.98 1524.47 2115.15 1520.93 Q2113.34 1517.37 2109.71 1517.37 M2109.71 1513.66 Q2115.52 1513.66 2118.58 1518.27 Q2121.65 1522.85 2121.65 1531.6 Q2121.65 1540.33 2118.58 1544.94 Q2115.52 1549.52 2109.71 1549.52 Q2103.9 1549.52 2100.82 1544.94 Q2097.77 1540.33 2097.77 1531.6 Q2097.77 1522.85 2100.82 1518.27 Q2103.9 1513.66 2109.71 1513.66 Z\" fill=\"#000000\" fill-rule=\"nonzero\" fill-opacity=\"1\" /><polyline clip-path=\"url(#clip312)\" style=\"stroke:#000000; stroke-linecap:round; stroke-linejoin:round; stroke-width:2; stroke-opacity:0.1; fill:none\" points=\"141.853,1447.87 2352.76,1447.87 \"/>\n",
       "<polyline clip-path=\"url(#clip312)\" style=\"stroke:#000000; stroke-linecap:round; stroke-linejoin:round; stroke-width:2; stroke-opacity:0.1; fill:none\" points=\"141.853,1209.76 2352.76,1209.76 \"/>\n",
       "<polyline clip-path=\"url(#clip312)\" style=\"stroke:#000000; stroke-linecap:round; stroke-linejoin:round; stroke-width:2; stroke-opacity:0.1; fill:none\" points=\"141.853,971.641 2352.76,971.641 \"/>\n",
       "<polyline clip-path=\"url(#clip312)\" style=\"stroke:#000000; stroke-linecap:round; stroke-linejoin:round; stroke-width:2; stroke-opacity:0.1; fill:none\" points=\"141.853,733.525 2352.76,733.525 \"/>\n",
       "<polyline clip-path=\"url(#clip312)\" style=\"stroke:#000000; stroke-linecap:round; stroke-linejoin:round; stroke-width:2; stroke-opacity:0.1; fill:none\" points=\"141.853,495.409 2352.76,495.409 \"/>\n",
       "<polyline clip-path=\"url(#clip312)\" style=\"stroke:#000000; stroke-linecap:round; stroke-linejoin:round; stroke-width:2; stroke-opacity:0.1; fill:none\" points=\"141.853,257.293 2352.76,257.293 \"/>\n",
       "<polyline clip-path=\"url(#clip310)\" style=\"stroke:#000000; stroke-linecap:round; stroke-linejoin:round; stroke-width:4; stroke-opacity:1; fill:none\" points=\"141.853,1486.45 141.853,123.472 \"/>\n",
       "<polyline clip-path=\"url(#clip310)\" style=\"stroke:#000000; stroke-linecap:round; stroke-linejoin:round; stroke-width:4; stroke-opacity:1; fill:none\" points=\"141.853,1447.87 160.751,1447.87 \"/>\n",
       "<polyline clip-path=\"url(#clip310)\" style=\"stroke:#000000; stroke-linecap:round; stroke-linejoin:round; stroke-width:4; stroke-opacity:1; fill:none\" points=\"141.853,1209.76 160.751,1209.76 \"/>\n",
       "<polyline clip-path=\"url(#clip310)\" style=\"stroke:#000000; stroke-linecap:round; stroke-linejoin:round; stroke-width:4; stroke-opacity:1; fill:none\" points=\"141.853,971.641 160.751,971.641 \"/>\n",
       "<polyline clip-path=\"url(#clip310)\" style=\"stroke:#000000; stroke-linecap:round; stroke-linejoin:round; stroke-width:4; stroke-opacity:1; fill:none\" points=\"141.853,733.525 160.751,733.525 \"/>\n",
       "<polyline clip-path=\"url(#clip310)\" style=\"stroke:#000000; stroke-linecap:round; stroke-linejoin:round; stroke-width:4; stroke-opacity:1; fill:none\" points=\"141.853,495.409 160.751,495.409 \"/>\n",
       "<polyline clip-path=\"url(#clip310)\" style=\"stroke:#000000; stroke-linecap:round; stroke-linejoin:round; stroke-width:4; stroke-opacity:1; fill:none\" points=\"141.853,257.293 160.751,257.293 \"/>\n",
       "<path clip-path=\"url(#clip310)\" d=\"M93.9086 1433.67 Q90.2975 1433.67 88.4688 1437.24 Q86.6632 1440.78 86.6632 1447.91 Q86.6632 1455.01 88.4688 1458.58 Q90.2975 1462.12 93.9086 1462.12 Q97.5428 1462.12 99.3483 1458.58 Q101.177 1455.01 101.177 1447.91 Q101.177 1440.78 99.3483 1437.24 Q97.5428 1433.67 93.9086 1433.67 M93.9086 1429.97 Q99.7187 1429.97 102.774 1434.57 Q105.853 1439.16 105.853 1447.91 Q105.853 1456.63 102.774 1461.24 Q99.7187 1465.82 93.9086 1465.82 Q88.0984 1465.82 85.0197 1461.24 Q81.9642 1456.63 81.9642 1447.91 Q81.9642 1439.16 85.0197 1434.57 Q88.0984 1429.97 93.9086 1429.97 Z\" fill=\"#000000\" fill-rule=\"nonzero\" fill-opacity=\"1\" /><path clip-path=\"url(#clip310)\" d=\"M54.5569 1223.1 L62.1958 1223.1 L62.1958 1196.74 L53.8856 1198.4 L53.8856 1194.14 L62.1495 1192.48 L66.8254 1192.48 L66.8254 1223.1 L74.4642 1223.1 L74.4642 1227.04 L54.5569 1227.04 L54.5569 1223.1 Z\" fill=\"#000000\" fill-rule=\"nonzero\" fill-opacity=\"1\" /><path clip-path=\"url(#clip310)\" d=\"M93.9086 1195.56 Q90.2975 1195.56 88.4688 1199.12 Q86.6632 1202.66 86.6632 1209.79 Q86.6632 1216.9 88.4688 1220.46 Q90.2975 1224 93.9086 1224 Q97.5428 1224 99.3483 1220.46 Q101.177 1216.9 101.177 1209.79 Q101.177 1202.66 99.3483 1199.12 Q97.5428 1195.56 93.9086 1195.56 M93.9086 1191.85 Q99.7187 1191.85 102.774 1196.46 Q105.853 1201.04 105.853 1209.79 Q105.853 1218.52 102.774 1223.13 Q99.7187 1227.71 93.9086 1227.71 Q88.0984 1227.71 85.0197 1223.13 Q81.9642 1218.52 81.9642 1209.79 Q81.9642 1201.04 85.0197 1196.46 Q88.0984 1191.85 93.9086 1191.85 Z\" fill=\"#000000\" fill-rule=\"nonzero\" fill-opacity=\"1\" /><path clip-path=\"url(#clip310)\" d=\"M57.7745 984.986 L74.0939 984.986 L74.0939 988.921 L52.1495 988.921 L52.1495 984.986 Q54.8115 982.231 59.3949 977.602 Q64.0013 972.949 65.1819 971.606 Q67.4272 969.083 68.3068 967.347 Q69.2096 965.588 69.2096 963.898 Q69.2096 961.144 67.2652 959.407 Q65.3439 957.671 62.2421 957.671 Q60.043 957.671 57.5893 958.435 Q55.1588 959.199 52.381 960.75 L52.381 956.028 Q55.2051 954.894 57.6588 954.315 Q60.1124 953.736 62.1495 953.736 Q67.5198 953.736 70.7142 956.421 Q73.9087 959.107 73.9087 963.597 Q73.9087 965.727 73.0985 967.648 Q72.3115 969.546 70.205 972.139 Q69.6263 972.81 66.5245 976.028 Q63.4226 979.222 57.7745 984.986 Z\" fill=\"#000000\" fill-rule=\"nonzero\" fill-opacity=\"1\" /><path clip-path=\"url(#clip310)\" d=\"M93.9086 957.44 Q90.2975 957.44 88.4688 961.005 Q86.6632 964.546 86.6632 971.676 Q86.6632 978.782 88.4688 982.347 Q90.2975 985.889 93.9086 985.889 Q97.5428 985.889 99.3483 982.347 Q101.177 978.782 101.177 971.676 Q101.177 964.546 99.3483 961.005 Q97.5428 957.44 93.9086 957.44 M93.9086 953.736 Q99.7187 953.736 102.774 958.343 Q105.853 962.926 105.853 971.676 Q105.853 980.403 102.774 985.009 Q99.7187 989.592 93.9086 989.592 Q88.0984 989.592 85.0197 985.009 Q81.9642 980.403 81.9642 971.676 Q81.9642 962.926 85.0197 958.343 Q88.0984 953.736 93.9086 953.736 Z\" fill=\"#000000\" fill-rule=\"nonzero\" fill-opacity=\"1\" /><path clip-path=\"url(#clip310)\" d=\"M67.9133 732.171 Q71.2698 732.889 73.1448 735.157 Q75.0429 737.426 75.0429 740.759 Q75.0429 745.875 71.5244 748.676 Q68.0059 751.477 61.5245 751.477 Q59.3486 751.477 57.0338 751.037 Q54.7421 750.62 52.2884 749.764 L52.2884 745.25 Q54.2328 746.384 56.5477 746.963 Q58.8625 747.541 61.3856 747.541 Q65.7837 747.541 68.0754 745.805 Q70.3902 744.069 70.3902 740.759 Q70.3902 737.703 68.2374 735.99 Q66.1078 734.254 62.2884 734.254 L58.2606 734.254 L58.2606 730.412 L62.4735 730.412 Q65.9226 730.412 67.7513 729.046 Q69.58 727.657 69.58 725.065 Q69.58 722.403 67.6819 720.991 Q65.8069 719.555 62.2884 719.555 Q60.3671 719.555 58.168 719.972 Q55.969 720.389 53.3301 721.268 L53.3301 717.102 Q55.9921 716.361 58.3069 715.991 Q60.6449 715.62 62.705 715.62 Q68.0291 715.62 71.1309 718.051 Q74.2327 720.458 74.2327 724.579 Q74.2327 727.449 72.5892 729.44 Q70.9457 731.407 67.9133 732.171 Z\" fill=\"#000000\" fill-rule=\"nonzero\" fill-opacity=\"1\" /><path clip-path=\"url(#clip310)\" d=\"M93.9086 719.324 Q90.2975 719.324 88.4688 722.889 Q86.6632 726.43 86.6632 733.56 Q86.6632 740.666 88.4688 744.231 Q90.2975 747.773 93.9086 747.773 Q97.5428 747.773 99.3483 744.231 Q101.177 740.666 101.177 733.56 Q101.177 726.43 99.3483 722.889 Q97.5428 719.324 93.9086 719.324 M93.9086 715.62 Q99.7187 715.62 102.774 720.227 Q105.853 724.81 105.853 733.56 Q105.853 742.287 102.774 746.893 Q99.7187 751.477 93.9086 751.477 Q88.0984 751.477 85.0197 746.893 Q81.9642 742.287 81.9642 733.56 Q81.9642 724.81 85.0197 720.227 Q88.0984 715.62 93.9086 715.62 Z\" fill=\"#000000\" fill-rule=\"nonzero\" fill-opacity=\"1\" /><path clip-path=\"url(#clip310)\" d=\"M66.5939 482.203 L54.7884 500.652 L66.5939 500.652 L66.5939 482.203 M65.367 478.129 L71.2466 478.129 L71.2466 500.652 L76.1772 500.652 L76.1772 504.541 L71.2466 504.541 L71.2466 512.689 L66.5939 512.689 L66.5939 504.541 L50.9921 504.541 L50.9921 500.027 L65.367 478.129 Z\" fill=\"#000000\" fill-rule=\"nonzero\" fill-opacity=\"1\" /><path clip-path=\"url(#clip310)\" d=\"M93.9086 481.208 Q90.2975 481.208 88.4688 484.773 Q86.6632 488.314 86.6632 495.444 Q86.6632 502.55 88.4688 506.115 Q90.2975 509.657 93.9086 509.657 Q97.5428 509.657 99.3483 506.115 Q101.177 502.55 101.177 495.444 Q101.177 488.314 99.3483 484.773 Q97.5428 481.208 93.9086 481.208 M93.9086 477.504 Q99.7187 477.504 102.774 482.111 Q105.853 486.694 105.853 495.444 Q105.853 504.171 102.774 508.777 Q99.7187 513.361 93.9086 513.361 Q88.0984 513.361 85.0197 508.777 Q81.9642 504.171 81.9642 495.444 Q81.9642 486.694 85.0197 482.111 Q88.0984 477.504 93.9086 477.504 Z\" fill=\"#000000\" fill-rule=\"nonzero\" fill-opacity=\"1\" /><path clip-path=\"url(#clip310)\" d=\"M53.793 240.013 L72.1494 240.013 L72.1494 243.948 L58.0754 243.948 L58.0754 252.421 Q59.0939 252.073 60.1124 251.911 Q61.131 251.726 62.1495 251.726 Q67.9365 251.726 71.3161 254.897 Q74.6957 258.069 74.6957 263.485 Q74.6957 269.064 71.2235 272.166 Q67.7513 275.245 61.4319 275.245 Q59.256 275.245 56.9875 274.874 Q54.7421 274.504 52.3347 273.763 L52.3347 269.064 Q54.418 270.198 56.6402 270.754 Q58.8625 271.309 61.3393 271.309 Q65.3439 271.309 67.6819 269.203 Q70.0198 267.096 70.0198 263.485 Q70.0198 259.874 67.6819 257.768 Q65.3439 255.661 61.3393 255.661 Q59.4643 255.661 57.5893 256.078 Q55.7375 256.495 53.793 257.374 L53.793 240.013 Z\" fill=\"#000000\" fill-rule=\"nonzero\" fill-opacity=\"1\" /><path clip-path=\"url(#clip310)\" d=\"M93.9086 243.092 Q90.2975 243.092 88.4688 246.657 Q86.6632 250.198 86.6632 257.328 Q86.6632 264.434 88.4688 267.999 Q90.2975 271.541 93.9086 271.541 Q97.5428 271.541 99.3483 267.999 Q101.177 264.434 101.177 257.328 Q101.177 250.198 99.3483 246.657 Q97.5428 243.092 93.9086 243.092 M93.9086 239.388 Q99.7187 239.388 102.774 243.995 Q105.853 248.578 105.853 257.328 Q105.853 266.055 102.774 270.661 Q99.7187 275.245 93.9086 275.245 Q88.0984 275.245 85.0197 270.661 Q81.9642 266.055 81.9642 257.328 Q81.9642 248.578 85.0197 243.995 Q88.0984 239.388 93.9086 239.388 Z\" fill=\"#000000\" fill-rule=\"nonzero\" fill-opacity=\"1\" /><path clip-path=\"url(#clip310)\" d=\"M793.036 17.6457 Q784.124 17.6457 778.858 24.2892 Q773.632 30.9327 773.632 42.3968 Q773.632 53.8203 778.858 60.4638 Q784.124 67.1073 793.036 67.1073 Q801.948 67.1073 807.133 60.4638 Q812.359 53.8203 812.359 42.3968 Q812.359 30.9327 807.133 24.2892 Q801.948 17.6457 793.036 17.6457 M793.036 11.0023 Q805.756 11.0023 813.372 19.5497 Q820.987 28.0566 820.987 42.3968 Q820.987 56.6965 813.372 65.2439 Q805.756 73.7508 793.036 73.7508 Q780.276 73.7508 772.619 65.2439 Q765.004 56.737 765.004 42.3968 Q765.004 28.0566 772.619 19.5497 Q780.276 11.0023 793.036 11.0023 Z\" fill=\"#000000\" fill-rule=\"nonzero\" fill-opacity=\"1\" /><path clip-path=\"url(#clip310)\" d=\"M863.319 34.0924 L863.319 9.54393 L870.773 9.54393 L870.773 72.576 L863.319 72.576 L863.319 65.7705 Q860.97 69.8214 857.364 71.8063 Q853.8 73.7508 848.776 73.7508 Q840.553 73.7508 835.368 67.1883 Q830.223 60.6258 830.223 49.9314 Q830.223 39.2371 835.368 32.6746 Q840.553 26.1121 848.776 26.1121 Q853.8 26.1121 857.364 28.0971 Q860.97 30.0415 863.319 34.0924 M837.92 49.9314 Q837.92 58.1548 841.282 62.8538 Q844.685 67.5124 850.599 67.5124 Q856.514 67.5124 859.916 62.8538 Q863.319 58.1548 863.319 49.9314 Q863.319 41.7081 859.916 37.0496 Q856.514 32.3505 850.599 32.3505 Q844.685 32.3505 841.282 37.0496 Q837.92 41.7081 837.92 49.9314 Z\" fill=\"#000000\" fill-rule=\"nonzero\" fill-opacity=\"1\" /><path clip-path=\"url(#clip310)\" d=\"M915.981 34.0924 L915.981 9.54393 L923.435 9.54393 L923.435 72.576 L915.981 72.576 L915.981 65.7705 Q913.631 69.8214 910.026 71.8063 Q906.461 73.7508 901.438 73.7508 Q893.215 73.7508 888.03 67.1883 Q882.885 60.6258 882.885 49.9314 Q882.885 39.2371 888.03 32.6746 Q893.215 26.1121 901.438 26.1121 Q906.461 26.1121 910.026 28.0971 Q913.631 30.0415 915.981 34.0924 M890.582 49.9314 Q890.582 58.1548 893.944 62.8538 Q897.347 67.5124 903.261 67.5124 Q909.175 67.5124 912.578 62.8538 Q915.981 58.1548 915.981 49.9314 Q915.981 41.7081 912.578 37.0496 Q909.175 32.3505 903.261 32.3505 Q897.347 32.3505 893.944 37.0496 Q890.582 41.7081 890.582 49.9314 Z\" fill=\"#000000\" fill-rule=\"nonzero\" fill-opacity=\"1\" /><path clip-path=\"url(#clip310)\" d=\"M967.711 28.5427 L967.711 35.5912 Q964.551 33.9709 961.149 33.1607 Q957.746 32.3505 954.1 32.3505 Q948.55 32.3505 945.755 34.0519 Q943 35.7533 943 39.156 Q943 41.7486 944.985 43.2475 Q946.97 44.7058 952.966 46.0426 L955.518 46.6097 Q963.458 48.3111 966.779 51.4303 Q970.142 54.509 970.142 60.0587 Q970.142 66.3781 965.118 70.0644 Q960.136 73.7508 951.386 73.7508 Q947.74 73.7508 943.77 73.0216 Q939.841 72.3329 935.466 70.9151 L935.466 63.2184 Q939.598 65.3654 943.608 66.4591 Q947.619 67.5124 951.548 67.5124 Q956.814 67.5124 959.65 65.73 Q962.485 63.9071 962.485 60.6258 Q962.485 57.5877 960.419 55.9673 Q958.394 54.3469 951.467 52.8481 L948.874 52.2405 Q941.947 50.7821 938.869 47.7845 Q935.79 44.7463 935.79 39.4801 Q935.79 33.0797 940.327 29.5959 Q944.864 26.1121 953.209 26.1121 Q957.341 26.1121 960.987 26.7198 Q964.632 27.3274 967.711 28.5427 Z\" fill=\"#000000\" fill-rule=\"nonzero\" fill-opacity=\"1\" /><path clip-path=\"url(#clip310)\" d=\"M1037.39 44.2197 Q1040.02 45.1109 1042.49 48.0275 Q1045 50.9442 1047.51 56.0483 L1055.82 72.576 L1047.03 72.576 L1039.29 57.061 Q1036.29 50.9847 1033.46 48.9997 Q1030.66 47.0148 1025.8 47.0148 L1016.89 47.0148 L1016.89 72.576 L1008.71 72.576 L1008.71 12.096 L1027.18 12.096 Q1037.55 12.096 1042.65 16.4305 Q1047.76 20.7649 1047.76 29.5149 Q1047.76 35.2267 1045.08 38.994 Q1042.45 42.7613 1037.39 44.2197 M1016.89 18.8205 L1016.89 40.2903 L1027.18 40.2903 Q1033.09 40.2903 1036.09 37.5762 Q1039.13 34.8216 1039.13 29.5149 Q1039.13 24.2082 1036.09 21.5346 Q1033.09 18.8205 1027.18 18.8205 L1016.89 18.8205 Z\" fill=\"#000000\" fill-rule=\"nonzero\" fill-opacity=\"1\" /><path clip-path=\"url(#clip310)\" d=\"M1084.82 49.7694 Q1075.79 49.7694 1072.31 51.8354 Q1068.82 53.9013 1068.82 58.8839 Q1068.82 62.8538 1071.41 65.2034 Q1074.05 67.5124 1078.54 67.5124 Q1084.74 67.5124 1088.47 63.1374 Q1092.24 58.7219 1092.24 51.4303 L1092.24 49.7694 L1084.82 49.7694 M1099.69 46.6907 L1099.69 72.576 L1092.24 72.576 L1092.24 65.6895 Q1089.68 69.8214 1085.88 71.8063 Q1082.07 73.7508 1076.56 73.7508 Q1069.59 73.7508 1065.46 69.8619 Q1061.37 65.9325 1061.37 59.3701 Q1061.37 51.7138 1066.47 47.825 Q1071.62 43.9361 1081.78 43.9361 L1092.24 43.9361 L1092.24 43.2069 Q1092.24 38.0623 1088.83 35.2672 Q1085.47 32.4315 1079.35 32.4315 Q1075.47 32.4315 1071.78 33.3632 Q1068.09 34.295 1064.69 36.1584 L1064.69 29.2718 Q1068.78 27.692 1072.63 26.9223 Q1076.48 26.1121 1080.12 26.1121 Q1089.97 26.1121 1094.83 31.2163 Q1099.69 36.3204 1099.69 46.6907 Z\" fill=\"#000000\" fill-rule=\"nonzero\" fill-opacity=\"1\" /><path clip-path=\"url(#clip310)\" d=\"M1122.42 14.324 L1122.42 27.2059 L1137.77 27.2059 L1137.77 32.9987 L1122.42 32.9987 L1122.42 57.6282 Q1122.42 63.1779 1123.91 64.7578 Q1125.45 66.3376 1130.11 66.3376 L1137.77 66.3376 L1137.77 72.576 L1130.11 72.576 Q1121.48 72.576 1118.2 69.3758 Q1114.92 66.1351 1114.92 57.6282 L1114.92 32.9987 L1109.45 32.9987 L1109.45 27.2059 L1114.92 27.2059 L1114.92 14.324 L1122.42 14.324 Z\" fill=\"#000000\" fill-rule=\"nonzero\" fill-opacity=\"1\" /><path clip-path=\"url(#clip310)\" d=\"M1147.57 27.2059 L1155.02 27.2059 L1155.02 72.576 L1147.57 72.576 L1147.57 27.2059 M1147.57 9.54393 L1155.02 9.54393 L1155.02 18.9825 L1147.57 18.9825 L1147.57 9.54393 Z\" fill=\"#000000\" fill-rule=\"nonzero\" fill-opacity=\"1\" /><path clip-path=\"url(#clip310)\" d=\"M1188.2 32.4315 Q1182.21 32.4315 1178.72 37.1306 Q1175.24 41.7891 1175.24 49.9314 Q1175.24 58.0738 1178.68 62.7728 Q1182.17 67.4314 1188.2 67.4314 Q1194.16 67.4314 1197.64 62.7323 Q1201.12 58.0333 1201.12 49.9314 Q1201.12 41.8701 1197.64 37.1711 Q1194.16 32.4315 1188.2 32.4315 M1188.2 26.1121 Q1197.92 26.1121 1203.47 32.4315 Q1209.02 38.7509 1209.02 49.9314 Q1209.02 61.0714 1203.47 67.4314 Q1197.92 73.7508 1188.2 73.7508 Q1178.44 73.7508 1172.89 67.4314 Q1167.38 61.0714 1167.38 49.9314 Q1167.38 38.7509 1172.89 32.4315 Q1178.44 26.1121 1188.2 26.1121 Z\" fill=\"#000000\" fill-rule=\"nonzero\" fill-opacity=\"1\" /><path clip-path=\"url(#clip310)\" d=\"M1293.36 16.7545 L1293.36 25.383 Q1289.23 21.5346 1284.53 19.6307 Q1279.87 17.7268 1274.61 17.7268 Q1264.24 17.7268 1258.73 24.0867 Q1253.22 30.4061 1253.22 42.3968 Q1253.22 54.3469 1258.73 60.7069 Q1264.24 67.0263 1274.61 67.0263 Q1279.87 67.0263 1284.53 65.1223 Q1289.23 63.2184 1293.36 59.3701 L1293.36 67.9175 Q1289.07 70.8341 1284.25 72.2924 Q1279.47 73.7508 1274.12 73.7508 Q1260.39 73.7508 1252.49 65.3654 Q1244.59 56.9395 1244.59 42.3968 Q1244.59 27.8135 1252.49 19.4281 Q1260.39 11.0023 1274.12 11.0023 Q1279.55 11.0023 1284.33 12.4606 Q1289.15 13.8784 1293.36 16.7545 Z\" fill=\"#000000\" fill-rule=\"nonzero\" fill-opacity=\"1\" /><path clip-path=\"url(#clip310)\" d=\"M1323.26 32.4315 Q1317.26 32.4315 1313.78 37.1306 Q1310.3 41.7891 1310.3 49.9314 Q1310.3 58.0738 1313.74 62.7728 Q1317.22 67.4314 1323.26 67.4314 Q1329.21 67.4314 1332.7 62.7323 Q1336.18 58.0333 1336.18 49.9314 Q1336.18 41.8701 1332.7 37.1711 Q1329.21 32.4315 1323.26 32.4315 M1323.26 26.1121 Q1332.98 26.1121 1338.53 32.4315 Q1344.08 38.7509 1344.08 49.9314 Q1344.08 61.0714 1338.53 67.4314 Q1332.98 73.7508 1323.26 73.7508 Q1313.5 73.7508 1307.95 67.4314 Q1302.44 61.0714 1302.44 49.9314 Q1302.44 38.7509 1307.95 32.4315 Q1313.5 26.1121 1323.26 26.1121 Z\" fill=\"#000000\" fill-rule=\"nonzero\" fill-opacity=\"1\" /><path clip-path=\"url(#clip310)\" d=\"M1391.76 35.9153 Q1394.55 30.8922 1398.44 28.5022 Q1402.33 26.1121 1407.6 26.1121 Q1414.69 26.1121 1418.54 31.0947 Q1422.38 36.0368 1422.38 45.1919 L1422.38 72.576 L1414.89 72.576 L1414.89 45.4349 Q1414.89 38.913 1412.58 35.7533 Q1410.27 32.5936 1405.53 32.5936 Q1399.74 32.5936 1396.38 36.4419 Q1393.02 40.2903 1393.02 46.9338 L1393.02 72.576 L1385.52 72.576 L1385.52 45.4349 Q1385.52 38.8725 1383.21 35.7533 Q1380.9 32.5936 1376.08 32.5936 Q1370.37 32.5936 1367.01 36.4824 Q1363.65 40.3308 1363.65 46.9338 L1363.65 72.576 L1356.15 72.576 L1356.15 27.2059 L1363.65 27.2059 L1363.65 34.2544 Q1366.2 30.082 1369.76 28.0971 Q1373.33 26.1121 1378.23 26.1121 Q1383.17 26.1121 1386.62 28.6237 Q1390.1 31.1352 1391.76 35.9153 Z\" fill=\"#000000\" fill-rule=\"nonzero\" fill-opacity=\"1\" /><path clip-path=\"url(#clip310)\" d=\"M1444.46 65.7705 L1444.46 89.8329 L1436.97 89.8329 L1436.97 27.2059 L1444.46 27.2059 L1444.46 34.0924 Q1446.81 30.0415 1450.38 28.0971 Q1453.98 26.1121 1458.96 26.1121 Q1467.23 26.1121 1472.37 32.6746 Q1477.56 39.2371 1477.56 49.9314 Q1477.56 60.6258 1472.37 67.1883 Q1467.23 73.7508 1458.96 73.7508 Q1453.98 73.7508 1450.38 71.8063 Q1446.81 69.8214 1444.46 65.7705 M1469.82 49.9314 Q1469.82 41.7081 1466.42 37.0496 Q1463.06 32.3505 1457.14 32.3505 Q1451.23 32.3505 1447.82 37.0496 Q1444.46 41.7081 1444.46 49.9314 Q1444.46 58.1548 1447.82 62.8538 Q1451.23 67.5124 1457.14 67.5124 Q1463.06 67.5124 1466.42 62.8538 Q1469.82 58.1548 1469.82 49.9314 Z\" fill=\"#000000\" fill-rule=\"nonzero\" fill-opacity=\"1\" /><path clip-path=\"url(#clip310)\" d=\"M1510.53 49.7694 Q1501.5 49.7694 1498.01 51.8354 Q1494.53 53.9013 1494.53 58.8839 Q1494.53 62.8538 1497.12 65.2034 Q1499.76 67.5124 1504.25 67.5124 Q1510.45 67.5124 1514.18 63.1374 Q1517.95 58.7219 1517.95 51.4303 L1517.95 49.7694 L1510.53 49.7694 M1525.4 46.6907 L1525.4 72.576 L1517.95 72.576 L1517.95 65.6895 Q1515.39 69.8214 1511.59 71.8063 Q1507.78 73.7508 1502.27 73.7508 Q1495.3 73.7508 1491.17 69.8619 Q1487.08 65.9325 1487.08 59.3701 Q1487.08 51.7138 1492.18 47.825 Q1497.33 43.9361 1507.49 43.9361 L1517.95 43.9361 L1517.95 43.2069 Q1517.95 38.0623 1514.54 35.2672 Q1511.18 32.4315 1505.06 32.4315 Q1501.17 32.4315 1497.49 33.3632 Q1493.8 34.295 1490.4 36.1584 L1490.4 29.2718 Q1494.49 27.692 1498.34 26.9223 Q1502.19 26.1121 1505.83 26.1121 Q1515.68 26.1121 1520.54 31.2163 Q1525.4 36.3204 1525.4 46.6907 Z\" fill=\"#000000\" fill-rule=\"nonzero\" fill-opacity=\"1\" /><path clip-path=\"url(#clip310)\" d=\"M1567.04 34.1734 Q1565.79 33.4443 1564.29 33.1202 Q1562.83 32.7556 1561.05 32.7556 Q1554.73 32.7556 1551.32 36.8875 Q1547.96 40.9789 1547.96 48.6757 L1547.96 72.576 L1540.47 72.576 L1540.47 27.2059 L1547.96 27.2059 L1547.96 34.2544 Q1550.31 30.1225 1554.08 28.1376 Q1557.85 26.1121 1563.23 26.1121 Q1564 26.1121 1564.94 26.2337 Q1565.87 26.3147 1567 26.5172 L1567.04 34.1734 Z\" fill=\"#000000\" fill-rule=\"nonzero\" fill-opacity=\"1\" /><path clip-path=\"url(#clip310)\" d=\"M1574.86 27.2059 L1582.31 27.2059 L1582.31 72.576 L1574.86 72.576 L1574.86 27.2059 M1574.86 9.54393 L1582.31 9.54393 L1582.31 18.9825 L1574.86 18.9825 L1574.86 9.54393 Z\" fill=\"#000000\" fill-rule=\"nonzero\" fill-opacity=\"1\" /><path clip-path=\"url(#clip310)\" d=\"M1626.83 28.5427 L1626.83 35.5912 Q1623.67 33.9709 1620.27 33.1607 Q1616.87 32.3505 1613.22 32.3505 Q1607.67 32.3505 1604.88 34.0519 Q1602.12 35.7533 1602.12 39.156 Q1602.12 41.7486 1604.11 43.2475 Q1606.09 44.7058 1612.09 46.0426 L1614.64 46.6097 Q1622.58 48.3111 1625.9 51.4303 Q1629.26 54.509 1629.26 60.0587 Q1629.26 66.3781 1624.24 70.0644 Q1619.26 73.7508 1610.51 73.7508 Q1606.86 73.7508 1602.89 73.0216 Q1598.96 72.3329 1594.59 70.9151 L1594.59 63.2184 Q1598.72 65.3654 1602.73 66.4591 Q1606.74 67.5124 1610.67 67.5124 Q1615.94 67.5124 1618.77 65.73 Q1621.61 63.9071 1621.61 60.6258 Q1621.61 57.5877 1619.54 55.9673 Q1617.52 54.3469 1610.59 52.8481 L1608 52.2405 Q1601.07 50.7821 1597.99 47.7845 Q1594.91 44.7463 1594.91 39.4801 Q1594.91 33.0797 1599.45 29.5959 Q1603.99 26.1121 1612.33 26.1121 Q1616.46 26.1121 1620.11 26.7198 Q1623.75 27.3274 1626.83 28.5427 Z\" fill=\"#000000\" fill-rule=\"nonzero\" fill-opacity=\"1\" /><path clip-path=\"url(#clip310)\" d=\"M1658.71 32.4315 Q1652.72 32.4315 1649.24 37.1306 Q1645.75 41.7891 1645.75 49.9314 Q1645.75 58.0738 1649.19 62.7728 Q1652.68 67.4314 1658.71 67.4314 Q1664.67 67.4314 1668.15 62.7323 Q1671.64 58.0333 1671.64 49.9314 Q1671.64 41.8701 1668.15 37.1711 Q1664.67 32.4315 1658.71 32.4315 M1658.71 26.1121 Q1668.44 26.1121 1673.99 32.4315 Q1679.54 38.7509 1679.54 49.9314 Q1679.54 61.0714 1673.99 67.4314 Q1668.44 73.7508 1658.71 73.7508 Q1648.95 73.7508 1643.4 67.4314 Q1637.89 61.0714 1637.89 49.9314 Q1637.89 38.7509 1643.4 32.4315 Q1648.95 26.1121 1658.71 26.1121 Z\" fill=\"#000000\" fill-rule=\"nonzero\" fill-opacity=\"1\" /><path clip-path=\"url(#clip310)\" d=\"M1729.61 45.1919 L1729.61 72.576 L1722.15 72.576 L1722.15 45.4349 Q1722.15 38.994 1719.64 35.7938 Q1717.13 32.5936 1712.11 32.5936 Q1706.07 32.5936 1702.59 36.4419 Q1699.1 40.2903 1699.1 46.9338 L1699.1 72.576 L1691.61 72.576 L1691.61 27.2059 L1699.1 27.2059 L1699.1 34.2544 Q1701.78 30.163 1705.38 28.1376 Q1709.03 26.1121 1713.77 26.1121 Q1721.58 26.1121 1725.59 30.9732 Q1729.61 35.7938 1729.61 45.1919 Z\" fill=\"#000000\" fill-rule=\"nonzero\" fill-opacity=\"1\" /><path clip-path=\"url(#clip312)\" d=\"M263.457 162.047 L263.457 1447.87 L293.729 1447.87 L293.729 162.047 L263.457 162.047 L263.457 162.047  Z\" fill=\"#009af9\" fill-rule=\"evenodd\" fill-opacity=\"1\"/>\n",
       "<polyline clip-path=\"url(#clip312)\" style=\"stroke:#000000; stroke-linecap:round; stroke-linejoin:round; stroke-width:4; stroke-opacity:1; fill:none\" points=\"263.457,162.047 263.457,1447.87 293.729,1447.87 293.729,162.047 263.457,162.047 \"/>\n",
       "<path clip-path=\"url(#clip312)\" d=\"M293.729 828.772 L293.729 1447.87 L324.001 1447.87 L324.001 828.772 L293.729 828.772 L293.729 828.772  Z\" fill=\"#009af9\" fill-rule=\"evenodd\" fill-opacity=\"1\"/>\n",
       "<polyline clip-path=\"url(#clip312)\" style=\"stroke:#000000; stroke-linecap:round; stroke-linejoin:round; stroke-width:4; stroke-opacity:1; fill:none\" points=\"293.729,828.772 293.729,1447.87 324.001,1447.87 324.001,828.772 293.729,828.772 \"/>\n",
       "<path clip-path=\"url(#clip312)\" d=\"M324.001 1209.76 L324.001 1447.87 L354.273 1447.87 L354.273 1209.76 L324.001 1209.76 L324.001 1209.76  Z\" fill=\"#009af9\" fill-rule=\"evenodd\" fill-opacity=\"1\"/>\n",
       "<polyline clip-path=\"url(#clip312)\" style=\"stroke:#000000; stroke-linecap:round; stroke-linejoin:round; stroke-width:4; stroke-opacity:1; fill:none\" points=\"324.001,1209.76 324.001,1447.87 354.273,1447.87 354.273,1209.76 324.001,1209.76 \"/>\n",
       "<path clip-path=\"url(#clip312)\" d=\"M354.273 1352.63 L354.273 1447.87 L384.546 1447.87 L384.546 1352.63 L354.273 1352.63 L354.273 1352.63  Z\" fill=\"#009af9\" fill-rule=\"evenodd\" fill-opacity=\"1\"/>\n",
       "<polyline clip-path=\"url(#clip312)\" style=\"stroke:#000000; stroke-linecap:round; stroke-linejoin:round; stroke-width:4; stroke-opacity:1; fill:none\" points=\"354.273,1352.63 354.273,1447.87 384.546,1447.87 384.546,1352.63 354.273,1352.63 \"/>\n",
       "<path clip-path=\"url(#clip312)\" d=\"M384.546 1424.06 L384.546 1447.87 L414.818 1447.87 L414.818 1424.06 L384.546 1424.06 L384.546 1424.06  Z\" fill=\"#009af9\" fill-rule=\"evenodd\" fill-opacity=\"1\"/>\n",
       "<polyline clip-path=\"url(#clip312)\" style=\"stroke:#000000; stroke-linecap:round; stroke-linejoin:round; stroke-width:4; stroke-opacity:1; fill:none\" points=\"384.546,1424.06 384.546,1447.87 414.818,1447.87 414.818,1424.06 384.546,1424.06 \"/>\n",
       "<path clip-path=\"url(#clip312)\" d=\"M414.818 1424.06 L414.818 1447.87 L445.09 1447.87 L445.09 1424.06 L414.818 1424.06 L414.818 1424.06  Z\" fill=\"#009af9\" fill-rule=\"evenodd\" fill-opacity=\"1\"/>\n",
       "<polyline clip-path=\"url(#clip312)\" style=\"stroke:#000000; stroke-linecap:round; stroke-linejoin:round; stroke-width:4; stroke-opacity:1; fill:none\" points=\"414.818,1424.06 414.818,1447.87 445.09,1447.87 445.09,1424.06 414.818,1424.06 \"/>\n",
       "<path clip-path=\"url(#clip312)\" d=\"M445.09 1447.87 L445.09 1447.87 L475.362 1447.87 L475.362 1447.87 L445.09 1447.87 L445.09 1447.87  Z\" fill=\"#009af9\" fill-rule=\"evenodd\" fill-opacity=\"1\"/>\n",
       "<polyline clip-path=\"url(#clip312)\" style=\"stroke:#000000; stroke-linecap:round; stroke-linejoin:round; stroke-width:4; stroke-opacity:1; fill:none\" points=\"445.09,1447.87 445.09,1447.87 475.362,1447.87 445.09,1447.87 \"/>\n",
       "<path clip-path=\"url(#clip312)\" d=\"M475.362 1447.87 L475.362 1447.87 L505.634 1447.87 L505.634 1447.87 L475.362 1447.87 L475.362 1447.87  Z\" fill=\"#009af9\" fill-rule=\"evenodd\" fill-opacity=\"1\"/>\n",
       "<polyline clip-path=\"url(#clip312)\" style=\"stroke:#000000; stroke-linecap:round; stroke-linejoin:round; stroke-width:4; stroke-opacity:1; fill:none\" points=\"475.362,1447.87 475.362,1447.87 505.634,1447.87 475.362,1447.87 \"/>\n",
       "<path clip-path=\"url(#clip312)\" d=\"M505.634 1447.87 L505.634 1447.87 L535.907 1447.87 L535.907 1447.87 L505.634 1447.87 L505.634 1447.87  Z\" fill=\"#009af9\" fill-rule=\"evenodd\" fill-opacity=\"1\"/>\n",
       "<polyline clip-path=\"url(#clip312)\" style=\"stroke:#000000; stroke-linecap:round; stroke-linejoin:round; stroke-width:4; stroke-opacity:1; fill:none\" points=\"505.634,1447.87 505.634,1447.87 535.907,1447.87 505.634,1447.87 \"/>\n",
       "<path clip-path=\"url(#clip312)\" d=\"M535.907 1447.87 L535.907 1447.87 L566.179 1447.87 L566.179 1447.87 L535.907 1447.87 L535.907 1447.87  Z\" fill=\"#009af9\" fill-rule=\"evenodd\" fill-opacity=\"1\"/>\n",
       "<polyline clip-path=\"url(#clip312)\" style=\"stroke:#000000; stroke-linecap:round; stroke-linejoin:round; stroke-width:4; stroke-opacity:1; fill:none\" points=\"535.907,1447.87 535.907,1447.87 566.179,1447.87 535.907,1447.87 \"/>\n",
       "<path clip-path=\"url(#clip312)\" d=\"M566.179 1447.87 L566.179 1447.87 L596.451 1447.87 L596.451 1447.87 L566.179 1447.87 L566.179 1447.87  Z\" fill=\"#009af9\" fill-rule=\"evenodd\" fill-opacity=\"1\"/>\n",
       "<polyline clip-path=\"url(#clip312)\" style=\"stroke:#000000; stroke-linecap:round; stroke-linejoin:round; stroke-width:4; stroke-opacity:1; fill:none\" points=\"566.179,1447.87 566.179,1447.87 596.451,1447.87 566.179,1447.87 \"/>\n",
       "<path clip-path=\"url(#clip312)\" d=\"M596.451 1447.87 L596.451 1447.87 L626.723 1447.87 L626.723 1447.87 L596.451 1447.87 L596.451 1447.87  Z\" fill=\"#009af9\" fill-rule=\"evenodd\" fill-opacity=\"1\"/>\n",
       "<polyline clip-path=\"url(#clip312)\" style=\"stroke:#000000; stroke-linecap:round; stroke-linejoin:round; stroke-width:4; stroke-opacity:1; fill:none\" points=\"596.451,1447.87 596.451,1447.87 626.723,1447.87 596.451,1447.87 \"/>\n",
       "<path clip-path=\"url(#clip312)\" d=\"M626.723 1447.87 L626.723 1447.87 L656.996 1447.87 L656.996 1447.87 L626.723 1447.87 L626.723 1447.87  Z\" fill=\"#009af9\" fill-rule=\"evenodd\" fill-opacity=\"1\"/>\n",
       "<polyline clip-path=\"url(#clip312)\" style=\"stroke:#000000; stroke-linecap:round; stroke-linejoin:round; stroke-width:4; stroke-opacity:1; fill:none\" points=\"626.723,1447.87 626.723,1447.87 656.996,1447.87 626.723,1447.87 \"/>\n",
       "<path clip-path=\"url(#clip312)\" d=\"M656.996 1447.87 L656.996 1447.87 L687.268 1447.87 L687.268 1447.87 L656.996 1447.87 L656.996 1447.87  Z\" fill=\"#009af9\" fill-rule=\"evenodd\" fill-opacity=\"1\"/>\n",
       "<polyline clip-path=\"url(#clip312)\" style=\"stroke:#000000; stroke-linecap:round; stroke-linejoin:round; stroke-width:4; stroke-opacity:1; fill:none\" points=\"656.996,1447.87 656.996,1447.87 687.268,1447.87 656.996,1447.87 \"/>\n",
       "<path clip-path=\"url(#clip312)\" d=\"M687.268 1447.87 L687.268 1447.87 L717.54 1447.87 L717.54 1447.87 L687.268 1447.87 L687.268 1447.87  Z\" fill=\"#009af9\" fill-rule=\"evenodd\" fill-opacity=\"1\"/>\n",
       "<polyline clip-path=\"url(#clip312)\" style=\"stroke:#000000; stroke-linecap:round; stroke-linejoin:round; stroke-width:4; stroke-opacity:1; fill:none\" points=\"687.268,1447.87 687.268,1447.87 717.54,1447.87 687.268,1447.87 \"/>\n",
       "<path clip-path=\"url(#clip312)\" d=\"M717.54 1447.87 L717.54 1447.87 L747.812 1447.87 L747.812 1447.87 L717.54 1447.87 L717.54 1447.87  Z\" fill=\"#009af9\" fill-rule=\"evenodd\" fill-opacity=\"1\"/>\n",
       "<polyline clip-path=\"url(#clip312)\" style=\"stroke:#000000; stroke-linecap:round; stroke-linejoin:round; stroke-width:4; stroke-opacity:1; fill:none\" points=\"717.54,1447.87 717.54,1447.87 747.812,1447.87 717.54,1447.87 \"/>\n",
       "<path clip-path=\"url(#clip312)\" d=\"M747.812 1447.87 L747.812 1447.87 L778.085 1447.87 L778.085 1447.87 L747.812 1447.87 L747.812 1447.87  Z\" fill=\"#009af9\" fill-rule=\"evenodd\" fill-opacity=\"1\"/>\n",
       "<polyline clip-path=\"url(#clip312)\" style=\"stroke:#000000; stroke-linecap:round; stroke-linejoin:round; stroke-width:4; stroke-opacity:1; fill:none\" points=\"747.812,1447.87 747.812,1447.87 778.085,1447.87 747.812,1447.87 \"/>\n",
       "<path clip-path=\"url(#clip312)\" d=\"M778.085 1447.87 L778.085 1447.87 L808.357 1447.87 L808.357 1447.87 L778.085 1447.87 L778.085 1447.87  Z\" fill=\"#009af9\" fill-rule=\"evenodd\" fill-opacity=\"1\"/>\n",
       "<polyline clip-path=\"url(#clip312)\" style=\"stroke:#000000; stroke-linecap:round; stroke-linejoin:round; stroke-width:4; stroke-opacity:1; fill:none\" points=\"778.085,1447.87 778.085,1447.87 808.357,1447.87 778.085,1447.87 \"/>\n",
       "<path clip-path=\"url(#clip312)\" d=\"M808.357 1447.87 L808.357 1447.87 L838.629 1447.87 L838.629 1447.87 L808.357 1447.87 L808.357 1447.87  Z\" fill=\"#009af9\" fill-rule=\"evenodd\" fill-opacity=\"1\"/>\n",
       "<polyline clip-path=\"url(#clip312)\" style=\"stroke:#000000; stroke-linecap:round; stroke-linejoin:round; stroke-width:4; stroke-opacity:1; fill:none\" points=\"808.357,1447.87 808.357,1447.87 838.629,1447.87 808.357,1447.87 \"/>\n",
       "<path clip-path=\"url(#clip312)\" d=\"M838.629 1447.87 L838.629 1447.87 L868.901 1447.87 L868.901 1447.87 L838.629 1447.87 L838.629 1447.87  Z\" fill=\"#009af9\" fill-rule=\"evenodd\" fill-opacity=\"1\"/>\n",
       "<polyline clip-path=\"url(#clip312)\" style=\"stroke:#000000; stroke-linecap:round; stroke-linejoin:round; stroke-width:4; stroke-opacity:1; fill:none\" points=\"838.629,1447.87 838.629,1447.87 868.901,1447.87 838.629,1447.87 \"/>\n",
       "<path clip-path=\"url(#clip312)\" d=\"M868.901 1447.87 L868.901 1447.87 L899.174 1447.87 L899.174 1447.87 L868.901 1447.87 L868.901 1447.87  Z\" fill=\"#009af9\" fill-rule=\"evenodd\" fill-opacity=\"1\"/>\n",
       "<polyline clip-path=\"url(#clip312)\" style=\"stroke:#000000; stroke-linecap:round; stroke-linejoin:round; stroke-width:4; stroke-opacity:1; fill:none\" points=\"868.901,1447.87 868.901,1447.87 899.174,1447.87 868.901,1447.87 \"/>\n",
       "<path clip-path=\"url(#clip312)\" d=\"M899.174 1447.87 L899.174 1447.87 L929.446 1447.87 L929.446 1447.87 L899.174 1447.87 L899.174 1447.87  Z\" fill=\"#009af9\" fill-rule=\"evenodd\" fill-opacity=\"1\"/>\n",
       "<polyline clip-path=\"url(#clip312)\" style=\"stroke:#000000; stroke-linecap:round; stroke-linejoin:round; stroke-width:4; stroke-opacity:1; fill:none\" points=\"899.174,1447.87 899.174,1447.87 929.446,1447.87 899.174,1447.87 \"/>\n",
       "<path clip-path=\"url(#clip312)\" d=\"M929.446 1447.87 L929.446 1447.87 L959.718 1447.87 L959.718 1447.87 L929.446 1447.87 L929.446 1447.87  Z\" fill=\"#009af9\" fill-rule=\"evenodd\" fill-opacity=\"1\"/>\n",
       "<polyline clip-path=\"url(#clip312)\" style=\"stroke:#000000; stroke-linecap:round; stroke-linejoin:round; stroke-width:4; stroke-opacity:1; fill:none\" points=\"929.446,1447.87 929.446,1447.87 959.718,1447.87 929.446,1447.87 \"/>\n",
       "<path clip-path=\"url(#clip312)\" d=\"M959.718 1447.87 L959.718 1447.87 L989.99 1447.87 L989.99 1447.87 L959.718 1447.87 L959.718 1447.87  Z\" fill=\"#009af9\" fill-rule=\"evenodd\" fill-opacity=\"1\"/>\n",
       "<polyline clip-path=\"url(#clip312)\" style=\"stroke:#000000; stroke-linecap:round; stroke-linejoin:round; stroke-width:4; stroke-opacity:1; fill:none\" points=\"959.718,1447.87 959.718,1447.87 989.99,1447.87 959.718,1447.87 \"/>\n",
       "<path clip-path=\"url(#clip312)\" d=\"M989.99 1447.87 L989.99 1447.87 L1020.26 1447.87 L1020.26 1447.87 L989.99 1447.87 L989.99 1447.87  Z\" fill=\"#009af9\" fill-rule=\"evenodd\" fill-opacity=\"1\"/>\n",
       "<polyline clip-path=\"url(#clip312)\" style=\"stroke:#000000; stroke-linecap:round; stroke-linejoin:round; stroke-width:4; stroke-opacity:1; fill:none\" points=\"989.99,1447.87 989.99,1447.87 1020.26,1447.87 989.99,1447.87 \"/>\n",
       "<path clip-path=\"url(#clip312)\" d=\"M1020.26 1447.87 L1020.26 1447.87 L1050.53 1447.87 L1050.53 1447.87 L1020.26 1447.87 L1020.26 1447.87  Z\" fill=\"#009af9\" fill-rule=\"evenodd\" fill-opacity=\"1\"/>\n",
       "<polyline clip-path=\"url(#clip312)\" style=\"stroke:#000000; stroke-linecap:round; stroke-linejoin:round; stroke-width:4; stroke-opacity:1; fill:none\" points=\"1020.26,1447.87 1020.26,1447.87 1050.53,1447.87 1020.26,1447.87 \"/>\n",
       "<path clip-path=\"url(#clip312)\" d=\"M1050.53 1447.87 L1050.53 1447.87 L1080.81 1447.87 L1080.81 1447.87 L1050.53 1447.87 L1050.53 1447.87  Z\" fill=\"#009af9\" fill-rule=\"evenodd\" fill-opacity=\"1\"/>\n",
       "<polyline clip-path=\"url(#clip312)\" style=\"stroke:#000000; stroke-linecap:round; stroke-linejoin:round; stroke-width:4; stroke-opacity:1; fill:none\" points=\"1050.53,1447.87 1050.53,1447.87 1080.81,1447.87 1050.53,1447.87 \"/>\n",
       "<path clip-path=\"url(#clip312)\" d=\"M1080.81 1447.87 L1080.81 1447.87 L1111.08 1447.87 L1111.08 1447.87 L1080.81 1447.87 L1080.81 1447.87  Z\" fill=\"#009af9\" fill-rule=\"evenodd\" fill-opacity=\"1\"/>\n",
       "<polyline clip-path=\"url(#clip312)\" style=\"stroke:#000000; stroke-linecap:round; stroke-linejoin:round; stroke-width:4; stroke-opacity:1; fill:none\" points=\"1080.81,1447.87 1080.81,1447.87 1111.08,1447.87 1080.81,1447.87 \"/>\n",
       "<path clip-path=\"url(#clip312)\" d=\"M1111.08 1447.87 L1111.08 1447.87 L1141.35 1447.87 L1141.35 1447.87 L1111.08 1447.87 L1111.08 1447.87  Z\" fill=\"#009af9\" fill-rule=\"evenodd\" fill-opacity=\"1\"/>\n",
       "<polyline clip-path=\"url(#clip312)\" style=\"stroke:#000000; stroke-linecap:round; stroke-linejoin:round; stroke-width:4; stroke-opacity:1; fill:none\" points=\"1111.08,1447.87 1111.08,1447.87 1141.35,1447.87 1111.08,1447.87 \"/>\n",
       "<path clip-path=\"url(#clip312)\" d=\"M1141.35 1447.87 L1141.35 1447.87 L1171.62 1447.87 L1171.62 1447.87 L1141.35 1447.87 L1141.35 1447.87  Z\" fill=\"#009af9\" fill-rule=\"evenodd\" fill-opacity=\"1\"/>\n",
       "<polyline clip-path=\"url(#clip312)\" style=\"stroke:#000000; stroke-linecap:round; stroke-linejoin:round; stroke-width:4; stroke-opacity:1; fill:none\" points=\"1141.35,1447.87 1141.35,1447.87 1171.62,1447.87 1141.35,1447.87 \"/>\n",
       "<path clip-path=\"url(#clip312)\" d=\"M1171.62 1447.87 L1171.62 1447.87 L1201.9 1447.87 L1201.9 1447.87 L1171.62 1447.87 L1171.62 1447.87  Z\" fill=\"#009af9\" fill-rule=\"evenodd\" fill-opacity=\"1\"/>\n",
       "<polyline clip-path=\"url(#clip312)\" style=\"stroke:#000000; stroke-linecap:round; stroke-linejoin:round; stroke-width:4; stroke-opacity:1; fill:none\" points=\"1171.62,1447.87 1171.62,1447.87 1201.9,1447.87 1171.62,1447.87 \"/>\n",
       "<path clip-path=\"url(#clip312)\" d=\"M1201.9 1447.87 L1201.9 1447.87 L1232.17 1447.87 L1232.17 1447.87 L1201.9 1447.87 L1201.9 1447.87  Z\" fill=\"#009af9\" fill-rule=\"evenodd\" fill-opacity=\"1\"/>\n",
       "<polyline clip-path=\"url(#clip312)\" style=\"stroke:#000000; stroke-linecap:round; stroke-linejoin:round; stroke-width:4; stroke-opacity:1; fill:none\" points=\"1201.9,1447.87 1201.9,1447.87 1232.17,1447.87 1201.9,1447.87 \"/>\n",
       "<path clip-path=\"url(#clip312)\" d=\"M1232.17 1447.87 L1232.17 1447.87 L1262.44 1447.87 L1262.44 1447.87 L1232.17 1447.87 L1232.17 1447.87  Z\" fill=\"#009af9\" fill-rule=\"evenodd\" fill-opacity=\"1\"/>\n",
       "<polyline clip-path=\"url(#clip312)\" style=\"stroke:#000000; stroke-linecap:round; stroke-linejoin:round; stroke-width:4; stroke-opacity:1; fill:none\" points=\"1232.17,1447.87 1232.17,1447.87 1262.44,1447.87 1232.17,1447.87 \"/>\n",
       "<path clip-path=\"url(#clip312)\" d=\"M1262.44 1447.87 L1262.44 1447.87 L1292.71 1447.87 L1292.71 1447.87 L1262.44 1447.87 L1262.44 1447.87  Z\" fill=\"#009af9\" fill-rule=\"evenodd\" fill-opacity=\"1\"/>\n",
       "<polyline clip-path=\"url(#clip312)\" style=\"stroke:#000000; stroke-linecap:round; stroke-linejoin:round; stroke-width:4; stroke-opacity:1; fill:none\" points=\"1262.44,1447.87 1262.44,1447.87 1292.71,1447.87 1262.44,1447.87 \"/>\n",
       "<path clip-path=\"url(#clip312)\" d=\"M1292.71 1447.87 L1292.71 1447.87 L1322.99 1447.87 L1322.99 1447.87 L1292.71 1447.87 L1292.71 1447.87  Z\" fill=\"#009af9\" fill-rule=\"evenodd\" fill-opacity=\"1\"/>\n",
       "<polyline clip-path=\"url(#clip312)\" style=\"stroke:#000000; stroke-linecap:round; stroke-linejoin:round; stroke-width:4; stroke-opacity:1; fill:none\" points=\"1292.71,1447.87 1292.71,1447.87 1322.99,1447.87 1292.71,1447.87 \"/>\n",
       "<path clip-path=\"url(#clip312)\" d=\"M1322.99 1447.87 L1322.99 1447.87 L1353.26 1447.87 L1353.26 1447.87 L1322.99 1447.87 L1322.99 1447.87  Z\" fill=\"#009af9\" fill-rule=\"evenodd\" fill-opacity=\"1\"/>\n",
       "<polyline clip-path=\"url(#clip312)\" style=\"stroke:#000000; stroke-linecap:round; stroke-linejoin:round; stroke-width:4; stroke-opacity:1; fill:none\" points=\"1322.99,1447.87 1322.99,1447.87 1353.26,1447.87 1322.99,1447.87 \"/>\n",
       "<path clip-path=\"url(#clip312)\" d=\"M1353.26 1447.87 L1353.26 1447.87 L1383.53 1447.87 L1383.53 1447.87 L1353.26 1447.87 L1353.26 1447.87  Z\" fill=\"#009af9\" fill-rule=\"evenodd\" fill-opacity=\"1\"/>\n",
       "<polyline clip-path=\"url(#clip312)\" style=\"stroke:#000000; stroke-linecap:round; stroke-linejoin:round; stroke-width:4; stroke-opacity:1; fill:none\" points=\"1353.26,1447.87 1353.26,1447.87 1383.53,1447.87 1353.26,1447.87 \"/>\n",
       "<path clip-path=\"url(#clip312)\" d=\"M1383.53 1447.87 L1383.53 1447.87 L1413.8 1447.87 L1413.8 1447.87 L1383.53 1447.87 L1383.53 1447.87  Z\" fill=\"#009af9\" fill-rule=\"evenodd\" fill-opacity=\"1\"/>\n",
       "<polyline clip-path=\"url(#clip312)\" style=\"stroke:#000000; stroke-linecap:round; stroke-linejoin:round; stroke-width:4; stroke-opacity:1; fill:none\" points=\"1383.53,1447.87 1383.53,1447.87 1413.8,1447.87 1383.53,1447.87 \"/>\n",
       "<path clip-path=\"url(#clip312)\" d=\"M1413.8 1447.87 L1413.8 1447.87 L1444.07 1447.87 L1444.07 1447.87 L1413.8 1447.87 L1413.8 1447.87  Z\" fill=\"#009af9\" fill-rule=\"evenodd\" fill-opacity=\"1\"/>\n",
       "<polyline clip-path=\"url(#clip312)\" style=\"stroke:#000000; stroke-linecap:round; stroke-linejoin:round; stroke-width:4; stroke-opacity:1; fill:none\" points=\"1413.8,1447.87 1413.8,1447.87 1444.07,1447.87 1413.8,1447.87 \"/>\n",
       "<path clip-path=\"url(#clip312)\" d=\"M1444.07 1447.87 L1444.07 1447.87 L1474.35 1447.87 L1474.35 1447.87 L1444.07 1447.87 L1444.07 1447.87  Z\" fill=\"#009af9\" fill-rule=\"evenodd\" fill-opacity=\"1\"/>\n",
       "<polyline clip-path=\"url(#clip312)\" style=\"stroke:#000000; stroke-linecap:round; stroke-linejoin:round; stroke-width:4; stroke-opacity:1; fill:none\" points=\"1444.07,1447.87 1444.07,1447.87 1474.35,1447.87 1444.07,1447.87 \"/>\n",
       "<path clip-path=\"url(#clip312)\" d=\"M1474.35 1447.87 L1474.35 1447.87 L1504.62 1447.87 L1504.62 1447.87 L1474.35 1447.87 L1474.35 1447.87  Z\" fill=\"#009af9\" fill-rule=\"evenodd\" fill-opacity=\"1\"/>\n",
       "<polyline clip-path=\"url(#clip312)\" style=\"stroke:#000000; stroke-linecap:round; stroke-linejoin:round; stroke-width:4; stroke-opacity:1; fill:none\" points=\"1474.35,1447.87 1474.35,1447.87 1504.62,1447.87 1474.35,1447.87 \"/>\n",
       "<path clip-path=\"url(#clip312)\" d=\"M1504.62 1447.87 L1504.62 1447.87 L1534.89 1447.87 L1534.89 1447.87 L1504.62 1447.87 L1504.62 1447.87  Z\" fill=\"#009af9\" fill-rule=\"evenodd\" fill-opacity=\"1\"/>\n",
       "<polyline clip-path=\"url(#clip312)\" style=\"stroke:#000000; stroke-linecap:round; stroke-linejoin:round; stroke-width:4; stroke-opacity:1; fill:none\" points=\"1504.62,1447.87 1504.62,1447.87 1534.89,1447.87 1504.62,1447.87 \"/>\n",
       "<path clip-path=\"url(#clip312)\" d=\"M1534.89 1447.87 L1534.89 1447.87 L1565.16 1447.87 L1565.16 1447.87 L1534.89 1447.87 L1534.89 1447.87  Z\" fill=\"#009af9\" fill-rule=\"evenodd\" fill-opacity=\"1\"/>\n",
       "<polyline clip-path=\"url(#clip312)\" style=\"stroke:#000000; stroke-linecap:round; stroke-linejoin:round; stroke-width:4; stroke-opacity:1; fill:none\" points=\"1534.89,1447.87 1534.89,1447.87 1565.16,1447.87 1534.89,1447.87 \"/>\n",
       "<path clip-path=\"url(#clip312)\" d=\"M1565.16 1447.87 L1565.16 1447.87 L1595.44 1447.87 L1595.44 1447.87 L1565.16 1447.87 L1565.16 1447.87  Z\" fill=\"#009af9\" fill-rule=\"evenodd\" fill-opacity=\"1\"/>\n",
       "<polyline clip-path=\"url(#clip312)\" style=\"stroke:#000000; stroke-linecap:round; stroke-linejoin:round; stroke-width:4; stroke-opacity:1; fill:none\" points=\"1565.16,1447.87 1565.16,1447.87 1595.44,1447.87 1565.16,1447.87 \"/>\n",
       "<path clip-path=\"url(#clip312)\" d=\"M1595.44 1447.87 L1595.44 1447.87 L1625.71 1447.87 L1625.71 1447.87 L1595.44 1447.87 L1595.44 1447.87  Z\" fill=\"#009af9\" fill-rule=\"evenodd\" fill-opacity=\"1\"/>\n",
       "<polyline clip-path=\"url(#clip312)\" style=\"stroke:#000000; stroke-linecap:round; stroke-linejoin:round; stroke-width:4; stroke-opacity:1; fill:none\" points=\"1595.44,1447.87 1595.44,1447.87 1625.71,1447.87 1595.44,1447.87 \"/>\n",
       "<path clip-path=\"url(#clip312)\" d=\"M1625.71 1447.87 L1625.71 1447.87 L1655.98 1447.87 L1655.98 1447.87 L1625.71 1447.87 L1625.71 1447.87  Z\" fill=\"#009af9\" fill-rule=\"evenodd\" fill-opacity=\"1\"/>\n",
       "<polyline clip-path=\"url(#clip312)\" style=\"stroke:#000000; stroke-linecap:round; stroke-linejoin:round; stroke-width:4; stroke-opacity:1; fill:none\" points=\"1625.71,1447.87 1625.71,1447.87 1655.98,1447.87 1625.71,1447.87 \"/>\n",
       "<path clip-path=\"url(#clip312)\" d=\"M1655.98 1424.06 L1655.98 1447.87 L1686.25 1447.87 L1686.25 1424.06 L1655.98 1424.06 L1655.98 1424.06  Z\" fill=\"#009af9\" fill-rule=\"evenodd\" fill-opacity=\"1\"/>\n",
       "<polyline clip-path=\"url(#clip312)\" style=\"stroke:#000000; stroke-linecap:round; stroke-linejoin:round; stroke-width:4; stroke-opacity:1; fill:none\" points=\"1655.98,1424.06 1655.98,1447.87 1686.25,1447.87 1686.25,1424.06 1655.98,1424.06 \"/>\n",
       "<path clip-path=\"url(#clip312)\" d=\"M1686.25 1447.87 L1686.25 1447.87 L1716.52 1447.87 L1716.52 1447.87 L1686.25 1447.87 L1686.25 1447.87  Z\" fill=\"#009af9\" fill-rule=\"evenodd\" fill-opacity=\"1\"/>\n",
       "<polyline clip-path=\"url(#clip312)\" style=\"stroke:#000000; stroke-linecap:round; stroke-linejoin:round; stroke-width:4; stroke-opacity:1; fill:none\" points=\"1686.25,1447.87 1686.25,1447.87 1716.52,1447.87 1686.25,1447.87 \"/>\n",
       "<path clip-path=\"url(#clip312)\" d=\"M1716.52 1447.87 L1716.52 1447.87 L1746.8 1447.87 L1746.8 1447.87 L1716.52 1447.87 L1716.52 1447.87  Z\" fill=\"#009af9\" fill-rule=\"evenodd\" fill-opacity=\"1\"/>\n",
       "<polyline clip-path=\"url(#clip312)\" style=\"stroke:#000000; stroke-linecap:round; stroke-linejoin:round; stroke-width:4; stroke-opacity:1; fill:none\" points=\"1716.52,1447.87 1716.52,1447.87 1746.8,1447.87 1716.52,1447.87 \"/>\n",
       "<path clip-path=\"url(#clip312)\" d=\"M1746.8 1447.87 L1746.8 1447.87 L1777.07 1447.87 L1777.07 1447.87 L1746.8 1447.87 L1746.8 1447.87  Z\" fill=\"#009af9\" fill-rule=\"evenodd\" fill-opacity=\"1\"/>\n",
       "<polyline clip-path=\"url(#clip312)\" style=\"stroke:#000000; stroke-linecap:round; stroke-linejoin:round; stroke-width:4; stroke-opacity:1; fill:none\" points=\"1746.8,1447.87 1746.8,1447.87 1777.07,1447.87 1746.8,1447.87 \"/>\n",
       "<path clip-path=\"url(#clip312)\" d=\"M1777.07 1447.87 L1777.07 1447.87 L1807.34 1447.87 L1807.34 1447.87 L1777.07 1447.87 L1777.07 1447.87  Z\" fill=\"#009af9\" fill-rule=\"evenodd\" fill-opacity=\"1\"/>\n",
       "<polyline clip-path=\"url(#clip312)\" style=\"stroke:#000000; stroke-linecap:round; stroke-linejoin:round; stroke-width:4; stroke-opacity:1; fill:none\" points=\"1777.07,1447.87 1777.07,1447.87 1807.34,1447.87 1777.07,1447.87 \"/>\n",
       "<path clip-path=\"url(#clip312)\" d=\"M1807.34 1447.87 L1807.34 1447.87 L1837.61 1447.87 L1837.61 1447.87 L1807.34 1447.87 L1807.34 1447.87  Z\" fill=\"#009af9\" fill-rule=\"evenodd\" fill-opacity=\"1\"/>\n",
       "<polyline clip-path=\"url(#clip312)\" style=\"stroke:#000000; stroke-linecap:round; stroke-linejoin:round; stroke-width:4; stroke-opacity:1; fill:none\" points=\"1807.34,1447.87 1807.34,1447.87 1837.61,1447.87 1807.34,1447.87 \"/>\n",
       "<path clip-path=\"url(#clip312)\" d=\"M1837.61 1447.87 L1837.61 1447.87 L1867.89 1447.87 L1867.89 1447.87 L1837.61 1447.87 L1837.61 1447.87  Z\" fill=\"#009af9\" fill-rule=\"evenodd\" fill-opacity=\"1\"/>\n",
       "<polyline clip-path=\"url(#clip312)\" style=\"stroke:#000000; stroke-linecap:round; stroke-linejoin:round; stroke-width:4; stroke-opacity:1; fill:none\" points=\"1837.61,1447.87 1837.61,1447.87 1867.89,1447.87 1837.61,1447.87 \"/>\n",
       "<path clip-path=\"url(#clip312)\" d=\"M1867.89 1447.87 L1867.89 1447.87 L1898.16 1447.87 L1898.16 1447.87 L1867.89 1447.87 L1867.89 1447.87  Z\" fill=\"#009af9\" fill-rule=\"evenodd\" fill-opacity=\"1\"/>\n",
       "<polyline clip-path=\"url(#clip312)\" style=\"stroke:#000000; stroke-linecap:round; stroke-linejoin:round; stroke-width:4; stroke-opacity:1; fill:none\" points=\"1867.89,1447.87 1867.89,1447.87 1898.16,1447.87 1867.89,1447.87 \"/>\n",
       "<path clip-path=\"url(#clip312)\" d=\"M1898.16 1447.87 L1898.16 1447.87 L1928.43 1447.87 L1928.43 1447.87 L1898.16 1447.87 L1898.16 1447.87  Z\" fill=\"#009af9\" fill-rule=\"evenodd\" fill-opacity=\"1\"/>\n",
       "<polyline clip-path=\"url(#clip312)\" style=\"stroke:#000000; stroke-linecap:round; stroke-linejoin:round; stroke-width:4; stroke-opacity:1; fill:none\" points=\"1898.16,1447.87 1898.16,1447.87 1928.43,1447.87 1898.16,1447.87 \"/>\n",
       "<path clip-path=\"url(#clip312)\" d=\"M1928.43 1447.87 L1928.43 1447.87 L1958.7 1447.87 L1958.7 1447.87 L1928.43 1447.87 L1928.43 1447.87  Z\" fill=\"#009af9\" fill-rule=\"evenodd\" fill-opacity=\"1\"/>\n",
       "<polyline clip-path=\"url(#clip312)\" style=\"stroke:#000000; stroke-linecap:round; stroke-linejoin:round; stroke-width:4; stroke-opacity:1; fill:none\" points=\"1928.43,1447.87 1928.43,1447.87 1958.7,1447.87 1928.43,1447.87 \"/>\n",
       "<path clip-path=\"url(#clip312)\" d=\"M1958.7 1447.87 L1958.7 1447.87 L1988.97 1447.87 L1988.97 1447.87 L1958.7 1447.87 L1958.7 1447.87  Z\" fill=\"#009af9\" fill-rule=\"evenodd\" fill-opacity=\"1\"/>\n",
       "<polyline clip-path=\"url(#clip312)\" style=\"stroke:#000000; stroke-linecap:round; stroke-linejoin:round; stroke-width:4; stroke-opacity:1; fill:none\" points=\"1958.7,1447.87 1958.7,1447.87 1988.97,1447.87 1958.7,1447.87 \"/>\n",
       "<path clip-path=\"url(#clip312)\" d=\"M1988.97 1447.87 L1988.97 1447.87 L2019.25 1447.87 L2019.25 1447.87 L1988.97 1447.87 L1988.97 1447.87  Z\" fill=\"#009af9\" fill-rule=\"evenodd\" fill-opacity=\"1\"/>\n",
       "<polyline clip-path=\"url(#clip312)\" style=\"stroke:#000000; stroke-linecap:round; stroke-linejoin:round; stroke-width:4; stroke-opacity:1; fill:none\" points=\"1988.97,1447.87 1988.97,1447.87 2019.25,1447.87 1988.97,1447.87 \"/>\n",
       "<path clip-path=\"url(#clip312)\" d=\"M2019.25 1447.87 L2019.25 1447.87 L2049.52 1447.87 L2049.52 1447.87 L2019.25 1447.87 L2019.25 1447.87  Z\" fill=\"#009af9\" fill-rule=\"evenodd\" fill-opacity=\"1\"/>\n",
       "<polyline clip-path=\"url(#clip312)\" style=\"stroke:#000000; stroke-linecap:round; stroke-linejoin:round; stroke-width:4; stroke-opacity:1; fill:none\" points=\"2019.25,1447.87 2019.25,1447.87 2049.52,1447.87 2019.25,1447.87 \"/>\n",
       "<path clip-path=\"url(#clip312)\" d=\"M2049.52 1447.87 L2049.52 1447.87 L2079.79 1447.87 L2079.79 1447.87 L2049.52 1447.87 L2049.52 1447.87  Z\" fill=\"#009af9\" fill-rule=\"evenodd\" fill-opacity=\"1\"/>\n",
       "<polyline clip-path=\"url(#clip312)\" style=\"stroke:#000000; stroke-linecap:round; stroke-linejoin:round; stroke-width:4; stroke-opacity:1; fill:none\" points=\"2049.52,1447.87 2049.52,1447.87 2079.79,1447.87 2049.52,1447.87 \"/>\n",
       "<path clip-path=\"url(#clip312)\" d=\"M2079.79 1424.06 L2079.79 1447.87 L2110.06 1447.87 L2110.06 1424.06 L2079.79 1424.06 L2079.79 1424.06  Z\" fill=\"#009af9\" fill-rule=\"evenodd\" fill-opacity=\"1\"/>\n",
       "<polyline clip-path=\"url(#clip312)\" style=\"stroke:#000000; stroke-linecap:round; stroke-linejoin:round; stroke-width:4; stroke-opacity:1; fill:none\" points=\"2079.79,1424.06 2079.79,1447.87 2110.06,1447.87 2110.06,1424.06 2079.79,1424.06 \"/>\n",
       "<path clip-path=\"url(#clip312)\" d=\"M2110.06 1447.87 L2110.06 1447.87 L2140.34 1447.87 L2140.34 1447.87 L2110.06 1447.87 L2110.06 1447.87  Z\" fill=\"#009af9\" fill-rule=\"evenodd\" fill-opacity=\"1\"/>\n",
       "<polyline clip-path=\"url(#clip312)\" style=\"stroke:#000000; stroke-linecap:round; stroke-linejoin:round; stroke-width:4; stroke-opacity:1; fill:none\" points=\"2110.06,1447.87 2110.06,1447.87 2140.34,1447.87 2110.06,1447.87 \"/>\n",
       "<path clip-path=\"url(#clip312)\" d=\"M2140.34 1424.06 L2140.34 1447.87 L2170.61 1447.87 L2170.61 1424.06 L2140.34 1424.06 L2140.34 1424.06  Z\" fill=\"#009af9\" fill-rule=\"evenodd\" fill-opacity=\"1\"/>\n",
       "<polyline clip-path=\"url(#clip312)\" style=\"stroke:#000000; stroke-linecap:round; stroke-linejoin:round; stroke-width:4; stroke-opacity:1; fill:none\" points=\"2140.34,1424.06 2140.34,1447.87 2170.61,1447.87 2170.61,1424.06 2140.34,1424.06 \"/>\n",
       "<path clip-path=\"url(#clip312)\" d=\"M2170.61 1447.87 L2170.61 1447.87 L2200.88 1447.87 L2200.88 1447.87 L2170.61 1447.87 L2170.61 1447.87  Z\" fill=\"#009af9\" fill-rule=\"evenodd\" fill-opacity=\"1\"/>\n",
       "<polyline clip-path=\"url(#clip312)\" style=\"stroke:#000000; stroke-linecap:round; stroke-linejoin:round; stroke-width:4; stroke-opacity:1; fill:none\" points=\"2170.61,1447.87 2170.61,1447.87 2200.88,1447.87 2170.61,1447.87 \"/>\n",
       "<path clip-path=\"url(#clip312)\" d=\"M2200.88 1424.06 L2200.88 1447.87 L2231.15 1447.87 L2231.15 1424.06 L2200.88 1424.06 L2200.88 1424.06  Z\" fill=\"#009af9\" fill-rule=\"evenodd\" fill-opacity=\"1\"/>\n",
       "<polyline clip-path=\"url(#clip312)\" style=\"stroke:#000000; stroke-linecap:round; stroke-linejoin:round; stroke-width:4; stroke-opacity:1; fill:none\" points=\"2200.88,1424.06 2200.88,1447.87 2231.15,1447.87 2231.15,1424.06 2200.88,1424.06 \"/>\n",
       "<circle clip-path=\"url(#clip312)\" style=\"fill:#009af9; stroke:none; fill-opacity:0\" cx=\"278.593\" cy=\"162.047\" r=\"2\"/>\n",
       "<circle clip-path=\"url(#clip312)\" style=\"fill:#009af9; stroke:none; fill-opacity:0\" cx=\"308.865\" cy=\"828.772\" r=\"2\"/>\n",
       "<circle clip-path=\"url(#clip312)\" style=\"fill:#009af9; stroke:none; fill-opacity:0\" cx=\"339.137\" cy=\"1209.76\" r=\"2\"/>\n",
       "<circle clip-path=\"url(#clip312)\" style=\"fill:#009af9; stroke:none; fill-opacity:0\" cx=\"369.409\" cy=\"1352.63\" r=\"2\"/>\n",
       "<circle clip-path=\"url(#clip312)\" style=\"fill:#009af9; stroke:none; fill-opacity:0\" cx=\"399.682\" cy=\"1424.06\" r=\"2\"/>\n",
       "<circle clip-path=\"url(#clip312)\" style=\"fill:#009af9; stroke:none; fill-opacity:0\" cx=\"429.954\" cy=\"1424.06\" r=\"2\"/>\n",
       "<circle clip-path=\"url(#clip312)\" style=\"fill:#009af9; stroke:none; fill-opacity:0\" cx=\"460.226\" cy=\"1447.87\" r=\"2\"/>\n",
       "<circle clip-path=\"url(#clip312)\" style=\"fill:#009af9; stroke:none; fill-opacity:0\" cx=\"490.498\" cy=\"1447.87\" r=\"2\"/>\n",
       "<circle clip-path=\"url(#clip312)\" style=\"fill:#009af9; stroke:none; fill-opacity:0\" cx=\"520.771\" cy=\"1447.87\" r=\"2\"/>\n",
       "<circle clip-path=\"url(#clip312)\" style=\"fill:#009af9; stroke:none; fill-opacity:0\" cx=\"551.043\" cy=\"1447.87\" r=\"2\"/>\n",
       "<circle clip-path=\"url(#clip312)\" style=\"fill:#009af9; stroke:none; fill-opacity:0\" cx=\"581.315\" cy=\"1447.87\" r=\"2\"/>\n",
       "<circle clip-path=\"url(#clip312)\" style=\"fill:#009af9; stroke:none; fill-opacity:0\" cx=\"611.587\" cy=\"1447.87\" r=\"2\"/>\n",
       "<circle clip-path=\"url(#clip312)\" style=\"fill:#009af9; stroke:none; fill-opacity:0\" cx=\"641.86\" cy=\"1447.87\" r=\"2\"/>\n",
       "<circle clip-path=\"url(#clip312)\" style=\"fill:#009af9; stroke:none; fill-opacity:0\" cx=\"672.132\" cy=\"1447.87\" r=\"2\"/>\n",
       "<circle clip-path=\"url(#clip312)\" style=\"fill:#009af9; stroke:none; fill-opacity:0\" cx=\"702.404\" cy=\"1447.87\" r=\"2\"/>\n",
       "<circle clip-path=\"url(#clip312)\" style=\"fill:#009af9; stroke:none; fill-opacity:0\" cx=\"732.676\" cy=\"1447.87\" r=\"2\"/>\n",
       "<circle clip-path=\"url(#clip312)\" style=\"fill:#009af9; stroke:none; fill-opacity:0\" cx=\"762.949\" cy=\"1447.87\" r=\"2\"/>\n",
       "<circle clip-path=\"url(#clip312)\" style=\"fill:#009af9; stroke:none; fill-opacity:0\" cx=\"793.221\" cy=\"1447.87\" r=\"2\"/>\n",
       "<circle clip-path=\"url(#clip312)\" style=\"fill:#009af9; stroke:none; fill-opacity:0\" cx=\"823.493\" cy=\"1447.87\" r=\"2\"/>\n",
       "<circle clip-path=\"url(#clip312)\" style=\"fill:#009af9; stroke:none; fill-opacity:0\" cx=\"853.765\" cy=\"1447.87\" r=\"2\"/>\n",
       "<circle clip-path=\"url(#clip312)\" style=\"fill:#009af9; stroke:none; fill-opacity:0\" cx=\"884.038\" cy=\"1447.87\" r=\"2\"/>\n",
       "<circle clip-path=\"url(#clip312)\" style=\"fill:#009af9; stroke:none; fill-opacity:0\" cx=\"914.31\" cy=\"1447.87\" r=\"2\"/>\n",
       "<circle clip-path=\"url(#clip312)\" style=\"fill:#009af9; stroke:none; fill-opacity:0\" cx=\"944.582\" cy=\"1447.87\" r=\"2\"/>\n",
       "<circle clip-path=\"url(#clip312)\" style=\"fill:#009af9; stroke:none; fill-opacity:0\" cx=\"974.854\" cy=\"1447.87\" r=\"2\"/>\n",
       "<circle clip-path=\"url(#clip312)\" style=\"fill:#009af9; stroke:none; fill-opacity:0\" cx=\"1005.13\" cy=\"1447.87\" r=\"2\"/>\n",
       "<circle clip-path=\"url(#clip312)\" style=\"fill:#009af9; stroke:none; fill-opacity:0\" cx=\"1035.4\" cy=\"1447.87\" r=\"2\"/>\n",
       "<circle clip-path=\"url(#clip312)\" style=\"fill:#009af9; stroke:none; fill-opacity:0\" cx=\"1065.67\" cy=\"1447.87\" r=\"2\"/>\n",
       "<circle clip-path=\"url(#clip312)\" style=\"fill:#009af9; stroke:none; fill-opacity:0\" cx=\"1095.94\" cy=\"1447.87\" r=\"2\"/>\n",
       "<circle clip-path=\"url(#clip312)\" style=\"fill:#009af9; stroke:none; fill-opacity:0\" cx=\"1126.22\" cy=\"1447.87\" r=\"2\"/>\n",
       "<circle clip-path=\"url(#clip312)\" style=\"fill:#009af9; stroke:none; fill-opacity:0\" cx=\"1156.49\" cy=\"1447.87\" r=\"2\"/>\n",
       "<circle clip-path=\"url(#clip312)\" style=\"fill:#009af9; stroke:none; fill-opacity:0\" cx=\"1186.76\" cy=\"1447.87\" r=\"2\"/>\n",
       "<circle clip-path=\"url(#clip312)\" style=\"fill:#009af9; stroke:none; fill-opacity:0\" cx=\"1217.03\" cy=\"1447.87\" r=\"2\"/>\n",
       "<circle clip-path=\"url(#clip312)\" style=\"fill:#009af9; stroke:none; fill-opacity:0\" cx=\"1247.3\" cy=\"1447.87\" r=\"2\"/>\n",
       "<circle clip-path=\"url(#clip312)\" style=\"fill:#009af9; stroke:none; fill-opacity:0\" cx=\"1277.58\" cy=\"1447.87\" r=\"2\"/>\n",
       "<circle clip-path=\"url(#clip312)\" style=\"fill:#009af9; stroke:none; fill-opacity:0\" cx=\"1307.85\" cy=\"1447.87\" r=\"2\"/>\n",
       "<circle clip-path=\"url(#clip312)\" style=\"fill:#009af9; stroke:none; fill-opacity:0\" cx=\"1338.12\" cy=\"1447.87\" r=\"2\"/>\n",
       "<circle clip-path=\"url(#clip312)\" style=\"fill:#009af9; stroke:none; fill-opacity:0\" cx=\"1368.39\" cy=\"1447.87\" r=\"2\"/>\n",
       "<circle clip-path=\"url(#clip312)\" style=\"fill:#009af9; stroke:none; fill-opacity:0\" cx=\"1398.67\" cy=\"1447.87\" r=\"2\"/>\n",
       "<circle clip-path=\"url(#clip312)\" style=\"fill:#009af9; stroke:none; fill-opacity:0\" cx=\"1428.94\" cy=\"1447.87\" r=\"2\"/>\n",
       "<circle clip-path=\"url(#clip312)\" style=\"fill:#009af9; stroke:none; fill-opacity:0\" cx=\"1459.21\" cy=\"1447.87\" r=\"2\"/>\n",
       "<circle clip-path=\"url(#clip312)\" style=\"fill:#009af9; stroke:none; fill-opacity:0\" cx=\"1489.48\" cy=\"1447.87\" r=\"2\"/>\n",
       "<circle clip-path=\"url(#clip312)\" style=\"fill:#009af9; stroke:none; fill-opacity:0\" cx=\"1519.75\" cy=\"1447.87\" r=\"2\"/>\n",
       "<circle clip-path=\"url(#clip312)\" style=\"fill:#009af9; stroke:none; fill-opacity:0\" cx=\"1550.03\" cy=\"1447.87\" r=\"2\"/>\n",
       "<circle clip-path=\"url(#clip312)\" style=\"fill:#009af9; stroke:none; fill-opacity:0\" cx=\"1580.3\" cy=\"1447.87\" r=\"2\"/>\n",
       "<circle clip-path=\"url(#clip312)\" style=\"fill:#009af9; stroke:none; fill-opacity:0\" cx=\"1610.57\" cy=\"1447.87\" r=\"2\"/>\n",
       "<circle clip-path=\"url(#clip312)\" style=\"fill:#009af9; stroke:none; fill-opacity:0\" cx=\"1640.84\" cy=\"1447.87\" r=\"2\"/>\n",
       "<circle clip-path=\"url(#clip312)\" style=\"fill:#009af9; stroke:none; fill-opacity:0\" cx=\"1671.12\" cy=\"1424.06\" r=\"2\"/>\n",
       "<circle clip-path=\"url(#clip312)\" style=\"fill:#009af9; stroke:none; fill-opacity:0\" cx=\"1701.39\" cy=\"1447.87\" r=\"2\"/>\n",
       "<circle clip-path=\"url(#clip312)\" style=\"fill:#009af9; stroke:none; fill-opacity:0\" cx=\"1731.66\" cy=\"1447.87\" r=\"2\"/>\n",
       "<circle clip-path=\"url(#clip312)\" style=\"fill:#009af9; stroke:none; fill-opacity:0\" cx=\"1761.93\" cy=\"1447.87\" r=\"2\"/>\n",
       "<circle clip-path=\"url(#clip312)\" style=\"fill:#009af9; stroke:none; fill-opacity:0\" cx=\"1792.2\" cy=\"1447.87\" r=\"2\"/>\n",
       "<circle clip-path=\"url(#clip312)\" style=\"fill:#009af9; stroke:none; fill-opacity:0\" cx=\"1822.48\" cy=\"1447.87\" r=\"2\"/>\n",
       "<circle clip-path=\"url(#clip312)\" style=\"fill:#009af9; stroke:none; fill-opacity:0\" cx=\"1852.75\" cy=\"1447.87\" r=\"2\"/>\n",
       "<circle clip-path=\"url(#clip312)\" style=\"fill:#009af9; stroke:none; fill-opacity:0\" cx=\"1883.02\" cy=\"1447.87\" r=\"2\"/>\n",
       "<circle clip-path=\"url(#clip312)\" style=\"fill:#009af9; stroke:none; fill-opacity:0\" cx=\"1913.29\" cy=\"1447.87\" r=\"2\"/>\n",
       "<circle clip-path=\"url(#clip312)\" style=\"fill:#009af9; stroke:none; fill-opacity:0\" cx=\"1943.57\" cy=\"1447.87\" r=\"2\"/>\n",
       "<circle clip-path=\"url(#clip312)\" style=\"fill:#009af9; stroke:none; fill-opacity:0\" cx=\"1973.84\" cy=\"1447.87\" r=\"2\"/>\n",
       "<circle clip-path=\"url(#clip312)\" style=\"fill:#009af9; stroke:none; fill-opacity:0\" cx=\"2004.11\" cy=\"1447.87\" r=\"2\"/>\n",
       "<circle clip-path=\"url(#clip312)\" style=\"fill:#009af9; stroke:none; fill-opacity:0\" cx=\"2034.38\" cy=\"1447.87\" r=\"2\"/>\n",
       "<circle clip-path=\"url(#clip312)\" style=\"fill:#009af9; stroke:none; fill-opacity:0\" cx=\"2064.65\" cy=\"1447.87\" r=\"2\"/>\n",
       "<circle clip-path=\"url(#clip312)\" style=\"fill:#009af9; stroke:none; fill-opacity:0\" cx=\"2094.93\" cy=\"1424.06\" r=\"2\"/>\n",
       "<circle clip-path=\"url(#clip312)\" style=\"fill:#009af9; stroke:none; fill-opacity:0\" cx=\"2125.2\" cy=\"1447.87\" r=\"2\"/>\n",
       "<circle clip-path=\"url(#clip312)\" style=\"fill:#009af9; stroke:none; fill-opacity:0\" cx=\"2155.47\" cy=\"1424.06\" r=\"2\"/>\n",
       "<circle clip-path=\"url(#clip312)\" style=\"fill:#009af9; stroke:none; fill-opacity:0\" cx=\"2185.74\" cy=\"1447.87\" r=\"2\"/>\n",
       "<circle clip-path=\"url(#clip312)\" style=\"fill:#009af9; stroke:none; fill-opacity:0\" cx=\"2216.02\" cy=\"1424.06\" r=\"2\"/>\n",
       "<path clip-path=\"url(#clip312)\" d=\"M1171.62 1376.44 L1171.62 1447.87 L1474.35 1447.87 L1474.35 1376.44 L1171.62 1376.44 L1171.62 1376.44  Z\" fill=\"#e26f46\" fill-rule=\"evenodd\" fill-opacity=\"1\"/>\n",
       "<polyline clip-path=\"url(#clip312)\" style=\"stroke:#000000; stroke-linecap:round; stroke-linejoin:round; stroke-width:4; stroke-opacity:1; fill:none\" points=\"1171.62,1376.44 1171.62,1447.87 1474.35,1447.87 1474.35,1376.44 1171.62,1376.44 \"/>\n",
       "<path clip-path=\"url(#clip312)\" d=\"M1474.35 1328.82 L1474.35 1447.87 L1777.07 1447.87 L1777.07 1328.82 L1474.35 1328.82 L1474.35 1328.82  Z\" fill=\"#e26f46\" fill-rule=\"evenodd\" fill-opacity=\"1\"/>\n",
       "<polyline clip-path=\"url(#clip312)\" style=\"stroke:#000000; stroke-linecap:round; stroke-linejoin:round; stroke-width:4; stroke-opacity:1; fill:none\" points=\"1474.35,1328.82 1474.35,1447.87 1777.07,1447.87 1777.07,1328.82 1474.35,1328.82 \"/>\n",
       "<path clip-path=\"url(#clip312)\" d=\"M1777.07 1400.25 L1777.07 1447.87 L2079.79 1447.87 L2079.79 1400.25 L1777.07 1400.25 L1777.07 1400.25  Z\" fill=\"#e26f46\" fill-rule=\"evenodd\" fill-opacity=\"1\"/>\n",
       "<polyline clip-path=\"url(#clip312)\" style=\"stroke:#000000; stroke-linecap:round; stroke-linejoin:round; stroke-width:4; stroke-opacity:1; fill:none\" points=\"1777.07,1400.25 1777.07,1447.87 2079.79,1447.87 2079.79,1400.25 1777.07,1400.25 \"/>\n",
       "<circle clip-path=\"url(#clip312)\" style=\"fill:#e26f46; stroke:none; fill-opacity:0\" cx=\"1322.99\" cy=\"1376.44\" r=\"2\"/>\n",
       "<circle clip-path=\"url(#clip312)\" style=\"fill:#e26f46; stroke:none; fill-opacity:0\" cx=\"1625.71\" cy=\"1328.82\" r=\"2\"/>\n",
       "<circle clip-path=\"url(#clip312)\" style=\"fill:#e26f46; stroke:none; fill-opacity:0\" cx=\"1928.43\" cy=\"1400.25\" r=\"2\"/>\n",
       "<path clip-path=\"url(#clip310)\" d=\"M1787.81 324.425 L2279.06 324.425 L2279.06 168.905 L1787.81 168.905  Z\" fill=\"#ffffff\" fill-rule=\"evenodd\" fill-opacity=\"1\"/>\n",
       "<polyline clip-path=\"url(#clip310)\" style=\"stroke:#000000; stroke-linecap:round; stroke-linejoin:round; stroke-width:4; stroke-opacity:1; fill:none\" points=\"1787.81,324.425 2279.06,324.425 2279.06,168.905 1787.81,168.905 1787.81,324.425 \"/>\n",
       "<path clip-path=\"url(#clip310)\" d=\"M1812.37 241.481 L1959.77 241.481 L1959.77 200.009 L1812.37 200.009 L1812.37 241.481  Z\" fill=\"#009af9\" fill-rule=\"evenodd\" fill-opacity=\"1\"/>\n",
       "<polyline clip-path=\"url(#clip310)\" style=\"stroke:#000000; stroke-linecap:round; stroke-linejoin:round; stroke-width:4; stroke-opacity:1; fill:none\" points=\"1812.37,241.481 1959.77,241.481 1959.77,200.009 1812.37,200.009 1812.37,241.481 \"/>\n",
       "<path clip-path=\"url(#clip310)\" d=\"M2003.11 225.085 Q2003.11 220.386 2001.16 217.724 Q1999.24 215.039 1995.86 215.039 Q1992.48 215.039 1990.54 217.724 Q1988.62 220.386 1988.62 225.085 Q1988.62 229.784 1990.54 232.469 Q1992.48 235.131 1995.86 235.131 Q1999.24 235.131 2001.16 232.469 Q2003.11 229.784 2003.11 225.085 M1988.62 216.034 Q1989.96 213.719 1991.99 212.608 Q1994.06 211.474 1996.9 211.474 Q2001.62 211.474 2004.56 215.224 Q2007.53 218.974 2007.53 225.085 Q2007.53 231.196 2004.56 234.946 Q2001.62 238.696 1996.9 238.696 Q1994.06 238.696 1991.99 237.585 Q1989.96 236.451 1988.62 234.136 L1988.62 238.025 L1984.33 238.025 L1984.33 202.006 L1988.62 202.006 L1988.62 216.034 Z\" fill=\"#000000\" fill-rule=\"nonzero\" fill-opacity=\"1\" /><path clip-path=\"url(#clip310)\" d=\"M2026.37 224.992 Q2021.21 224.992 2019.22 226.173 Q2017.23 227.353 2017.23 230.201 Q2017.23 232.469 2018.71 233.812 Q2020.21 235.131 2022.78 235.131 Q2026.32 235.131 2028.45 232.631 Q2030.61 230.108 2030.61 225.941 L2030.61 224.992 L2026.37 224.992 M2034.87 223.233 L2034.87 238.025 L2030.61 238.025 L2030.61 234.089 Q2029.15 236.451 2026.97 237.585 Q2024.8 238.696 2021.65 238.696 Q2017.67 238.696 2015.31 236.474 Q2012.97 234.228 2012.97 230.478 Q2012.97 226.103 2015.88 223.881 Q2018.82 221.659 2024.63 221.659 L2030.61 221.659 L2030.61 221.242 Q2030.61 218.303 2028.66 216.705 Q2026.74 215.085 2023.24 215.085 Q2021.02 215.085 2018.92 215.617 Q2016.81 216.15 2014.87 217.215 L2014.87 213.279 Q2017.2 212.377 2019.4 211.937 Q2021.6 211.474 2023.68 211.474 Q2029.31 211.474 2032.09 214.391 Q2034.87 217.307 2034.87 223.233 Z\" fill=\"#000000\" fill-rule=\"nonzero\" fill-opacity=\"1\" /><path clip-path=\"url(#clip310)\" d=\"M2060.17 212.863 L2060.17 216.891 Q2058.36 215.965 2056.42 215.502 Q2054.47 215.039 2052.39 215.039 Q2049.22 215.039 2047.62 216.011 Q2046.05 216.983 2046.05 218.928 Q2046.05 220.409 2047.18 221.265 Q2048.31 222.099 2051.74 222.863 L2053.2 223.187 Q2057.74 224.159 2059.63 225.941 Q2061.55 227.701 2061.55 230.872 Q2061.55 234.483 2058.68 236.589 Q2055.84 238.696 2050.84 238.696 Q2048.75 238.696 2046.49 238.279 Q2044.24 237.886 2041.74 237.076 L2041.74 232.677 Q2044.1 233.904 2046.39 234.529 Q2048.68 235.131 2050.93 235.131 Q2053.94 235.131 2055.56 234.113 Q2057.18 233.071 2057.18 231.196 Q2057.18 229.46 2056 228.534 Q2054.84 227.608 2050.88 226.752 L2049.4 226.404 Q2045.44 225.571 2043.68 223.858 Q2041.93 222.122 2041.93 219.113 Q2041.93 215.455 2044.52 213.465 Q2047.11 211.474 2051.88 211.474 Q2054.24 211.474 2056.32 211.821 Q2058.41 212.168 2060.17 212.863 Z\" fill=\"#000000\" fill-rule=\"nonzero\" fill-opacity=\"1\" /><path clip-path=\"url(#clip310)\" d=\"M2090.51 223.997 L2090.51 226.08 L2070.93 226.08 Q2071.21 230.478 2073.57 232.793 Q2075.95 235.085 2080.19 235.085 Q2082.64 235.085 2084.93 234.483 Q2087.25 233.881 2089.52 232.677 L2089.52 236.705 Q2087.23 237.677 2084.82 238.187 Q2082.41 238.696 2079.93 238.696 Q2073.73 238.696 2070.1 235.085 Q2066.49 231.474 2066.49 225.316 Q2066.49 218.951 2069.91 215.224 Q2073.36 211.474 2079.19 211.474 Q2084.43 211.474 2087.46 214.853 Q2090.51 218.21 2090.51 223.997 M2086.25 222.747 Q2086.21 219.252 2084.29 217.168 Q2082.39 215.085 2079.24 215.085 Q2075.68 215.085 2073.52 217.099 Q2071.39 219.113 2071.07 222.77 L2086.25 222.747 Z\" fill=\"#000000\" fill-rule=\"nonzero\" fill-opacity=\"1\" /><path clip-path=\"url(#clip310)\" d=\"M2097.5 202.006 L2101.76 202.006 L2101.76 238.025 L2097.5 238.025 L2097.5 202.006 Z\" fill=\"#000000\" fill-rule=\"nonzero\" fill-opacity=\"1\" /><path clip-path=\"url(#clip310)\" d=\"M2110.67 212.099 L2114.93 212.099 L2114.93 238.025 L2110.67 238.025 L2110.67 212.099 M2110.67 202.006 L2114.93 202.006 L2114.93 207.4 L2110.67 207.4 L2110.67 202.006 Z\" fill=\"#000000\" fill-rule=\"nonzero\" fill-opacity=\"1\" /><path clip-path=\"url(#clip310)\" d=\"M2145.4 222.377 L2145.4 238.025 L2141.14 238.025 L2141.14 222.515 Q2141.14 218.835 2139.7 217.006 Q2138.27 215.178 2135.4 215.178 Q2131.95 215.178 2129.96 217.377 Q2127.97 219.576 2127.97 223.372 L2127.97 238.025 L2123.68 238.025 L2123.68 212.099 L2127.97 212.099 L2127.97 216.127 Q2129.49 213.789 2131.55 212.631 Q2133.64 211.474 2136.35 211.474 Q2140.81 211.474 2143.11 214.252 Q2145.4 217.006 2145.4 222.377 Z\" fill=\"#000000\" fill-rule=\"nonzero\" fill-opacity=\"1\" /><path clip-path=\"url(#clip310)\" d=\"M2176.07 223.997 L2176.07 226.08 L2156.48 226.08 Q2156.76 230.478 2159.12 232.793 Q2161.51 235.085 2165.74 235.085 Q2168.2 235.085 2170.49 234.483 Q2172.8 233.881 2175.07 232.677 L2175.07 236.705 Q2172.78 237.677 2170.37 238.187 Q2167.97 238.696 2165.49 238.696 Q2159.29 238.696 2155.65 235.085 Q2152.04 231.474 2152.04 225.316 Q2152.04 218.951 2155.47 215.224 Q2158.92 211.474 2164.75 211.474 Q2169.98 211.474 2173.01 214.853 Q2176.07 218.21 2176.07 223.997 M2171.81 222.747 Q2171.76 219.252 2169.84 217.168 Q2167.94 215.085 2164.79 215.085 Q2161.23 215.085 2159.08 217.099 Q2156.95 219.113 2156.62 222.77 L2171.81 222.747 Z\" fill=\"#000000\" fill-rule=\"nonzero\" fill-opacity=\"1\" /><path clip-path=\"url(#clip310)\" d=\"M1812.37 293.321 L1959.77 293.321 L1959.77 251.849 L1812.37 251.849 L1812.37 293.321  Z\" fill=\"#e26f46\" fill-rule=\"evenodd\" fill-opacity=\"1\"/>\n",
       "<polyline clip-path=\"url(#clip310)\" style=\"stroke:#000000; stroke-linecap:round; stroke-linejoin:round; stroke-width:4; stroke-opacity:1; fill:none\" points=\"1812.37,293.321 1959.77,293.321 1959.77,251.849 1812.37,251.849 1812.37,293.321 \"/>\n",
       "<path clip-path=\"url(#clip310)\" d=\"M2004.84 264.934 L2004.84 268.916 Q2003.04 267.92 2001.21 267.434 Q1999.4 266.925 1997.55 266.925 Q1993.41 266.925 1991.12 269.564 Q1988.82 272.18 1988.82 276.925 Q1988.82 281.67 1991.12 284.309 Q1993.41 286.925 1997.55 286.925 Q1999.4 286.925 2001.21 286.439 Q2003.04 285.929 2004.84 284.934 L2004.84 288.869 Q2003.06 289.703 2001.14 290.119 Q1999.24 290.536 1997.09 290.536 Q1991.23 290.536 1987.78 286.855 Q1984.33 283.175 1984.33 276.925 Q1984.33 270.582 1987.81 266.948 Q1991.3 263.314 1997.37 263.314 Q1999.33 263.314 2001.21 263.731 Q2003.08 264.124 2004.84 264.934 Z\" fill=\"#000000\" fill-rule=\"nonzero\" fill-opacity=\"1\" /><path clip-path=\"url(#clip310)\" d=\"M2022.3 266.925 Q2018.87 266.925 2016.88 269.61 Q2014.89 272.272 2014.89 276.925 Q2014.89 281.578 2016.86 284.263 Q2018.85 286.925 2022.3 286.925 Q2025.7 286.925 2027.69 284.24 Q2029.68 281.555 2029.68 276.925 Q2029.68 272.318 2027.69 269.633 Q2025.7 266.925 2022.3 266.925 M2022.3 263.314 Q2027.85 263.314 2031.02 266.925 Q2034.19 270.536 2034.19 276.925 Q2034.19 283.291 2031.02 286.925 Q2027.85 290.536 2022.3 290.536 Q2016.72 290.536 2013.55 286.925 Q2010.4 283.291 2010.4 276.925 Q2010.4 270.536 2013.55 266.925 Q2016.72 263.314 2022.3 263.314 Z\" fill=\"#000000\" fill-rule=\"nonzero\" fill-opacity=\"1\" /><path clip-path=\"url(#clip310)\" d=\"M2061.44 268.916 Q2063.04 266.045 2065.26 264.68 Q2067.48 263.314 2070.49 263.314 Q2074.54 263.314 2076.74 266.161 Q2078.94 268.985 2078.94 274.217 L2078.94 289.865 L2074.66 289.865 L2074.66 274.355 Q2074.66 270.629 2073.34 268.823 Q2072.02 267.018 2069.31 267.018 Q2066 267.018 2064.08 269.217 Q2062.16 271.416 2062.16 275.212 L2062.16 289.865 L2057.87 289.865 L2057.87 274.355 Q2057.87 270.605 2056.55 268.823 Q2055.24 267.018 2052.48 267.018 Q2049.22 267.018 2047.3 269.24 Q2045.37 271.439 2045.37 275.212 L2045.37 289.865 L2041.09 289.865 L2041.09 263.939 L2045.37 263.939 L2045.37 267.967 Q2046.83 265.582 2048.87 264.448 Q2050.91 263.314 2053.71 263.314 Q2056.53 263.314 2058.5 264.749 Q2060.49 266.184 2061.44 268.916 Z\" fill=\"#000000\" fill-rule=\"nonzero\" fill-opacity=\"1\" /><path clip-path=\"url(#clip310)\" d=\"M2091.55 285.976 L2091.55 299.726 L2087.27 299.726 L2087.27 263.939 L2091.55 263.939 L2091.55 267.874 Q2092.9 265.559 2094.93 264.448 Q2096.99 263.314 2099.84 263.314 Q2104.56 263.314 2107.5 267.064 Q2110.47 270.814 2110.47 276.925 Q2110.47 283.036 2107.5 286.786 Q2104.56 290.536 2099.84 290.536 Q2096.99 290.536 2094.93 289.425 Q2092.9 288.291 2091.55 285.976 M2106.05 276.925 Q2106.05 272.226 2104.1 269.564 Q2102.18 266.879 2098.8 266.879 Q2095.42 266.879 2093.48 269.564 Q2091.55 272.226 2091.55 276.925 Q2091.55 281.624 2093.48 284.309 Q2095.42 286.971 2098.8 286.971 Q2102.18 286.971 2104.1 284.309 Q2106.05 281.624 2106.05 276.925 Z\" fill=\"#000000\" fill-rule=\"nonzero\" fill-opacity=\"1\" /><path clip-path=\"url(#clip310)\" d=\"M2129.31 276.832 Q2124.15 276.832 2122.16 278.013 Q2120.17 279.193 2120.17 282.041 Q2120.17 284.309 2121.65 285.652 Q2123.15 286.971 2125.72 286.971 Q2129.26 286.971 2131.39 284.471 Q2133.55 281.948 2133.55 277.781 L2133.55 276.832 L2129.31 276.832 M2137.8 275.073 L2137.8 289.865 L2133.55 289.865 L2133.55 285.929 Q2132.09 288.291 2129.91 289.425 Q2127.73 290.536 2124.59 290.536 Q2120.61 290.536 2118.24 288.314 Q2115.91 286.068 2115.91 282.318 Q2115.91 277.943 2118.82 275.721 Q2121.76 273.499 2127.57 273.499 L2133.55 273.499 L2133.55 273.082 Q2133.55 270.143 2131.6 268.545 Q2129.68 266.925 2126.18 266.925 Q2123.96 266.925 2121.86 267.457 Q2119.75 267.99 2117.8 269.055 L2117.8 265.119 Q2120.14 264.217 2122.34 263.777 Q2124.54 263.314 2126.62 263.314 Q2132.25 263.314 2135.03 266.231 Q2137.8 269.147 2137.8 275.073 Z\" fill=\"#000000\" fill-rule=\"nonzero\" fill-opacity=\"1\" /><path clip-path=\"url(#clip310)\" d=\"M2161.6 267.92 Q2160.88 267.504 2160.03 267.318 Q2159.19 267.11 2158.17 267.11 Q2154.56 267.11 2152.62 269.471 Q2150.7 271.809 2150.7 276.207 L2150.7 289.865 L2146.42 289.865 L2146.42 263.939 L2150.7 263.939 L2150.7 267.967 Q2152.04 265.606 2154.19 264.471 Q2156.35 263.314 2159.42 263.314 Q2159.86 263.314 2160.4 263.383 Q2160.93 263.43 2161.58 263.545 L2161.6 267.92 Z\" fill=\"#000000\" fill-rule=\"nonzero\" fill-opacity=\"1\" /><path clip-path=\"url(#clip310)\" d=\"M2166.07 263.939 L2170.33 263.939 L2170.33 289.865 L2166.07 289.865 L2166.07 263.939 M2166.07 253.846 L2170.33 253.846 L2170.33 259.24 L2166.07 259.24 L2166.07 253.846 Z\" fill=\"#000000\" fill-rule=\"nonzero\" fill-opacity=\"1\" /><path clip-path=\"url(#clip310)\" d=\"M2195.77 264.703 L2195.77 268.731 Q2193.96 267.805 2192.02 267.342 Q2190.07 266.879 2187.99 266.879 Q2184.82 266.879 2183.22 267.851 Q2181.65 268.823 2181.65 270.768 Q2181.65 272.249 2182.78 273.105 Q2183.92 273.939 2187.34 274.703 L2188.8 275.027 Q2193.34 275.999 2195.23 277.781 Q2197.16 279.541 2197.16 282.712 Q2197.16 286.323 2194.29 288.429 Q2191.44 290.536 2186.44 290.536 Q2184.36 290.536 2182.09 290.119 Q2179.84 289.726 2177.34 288.916 L2177.34 284.517 Q2179.7 285.744 2181.99 286.369 Q2184.29 286.971 2186.53 286.971 Q2189.54 286.971 2191.16 285.953 Q2192.78 284.911 2192.78 283.036 Q2192.78 281.3 2191.6 280.374 Q2190.44 279.448 2186.48 278.592 L2185 278.244 Q2181.04 277.411 2179.29 275.698 Q2177.53 273.962 2177.53 270.953 Q2177.53 267.295 2180.12 265.305 Q2182.71 263.314 2187.48 263.314 Q2189.84 263.314 2191.92 263.661 Q2194.01 264.008 2195.77 264.703 Z\" fill=\"#000000\" fill-rule=\"nonzero\" fill-opacity=\"1\" /><path clip-path=\"url(#clip310)\" d=\"M2213.98 266.925 Q2210.56 266.925 2208.57 269.61 Q2206.58 272.272 2206.58 276.925 Q2206.58 281.578 2208.54 284.263 Q2210.54 286.925 2213.98 286.925 Q2217.39 286.925 2219.38 284.24 Q2221.37 281.555 2221.37 276.925 Q2221.37 272.318 2219.38 269.633 Q2217.39 266.925 2213.98 266.925 M2213.98 263.314 Q2219.54 263.314 2222.71 266.925 Q2225.88 270.536 2225.88 276.925 Q2225.88 283.291 2222.71 286.925 Q2219.54 290.536 2213.98 290.536 Q2208.41 290.536 2205.23 286.925 Q2202.09 283.291 2202.09 276.925 Q2202.09 270.536 2205.23 266.925 Q2208.41 263.314 2213.98 263.314 Z\" fill=\"#000000\" fill-rule=\"nonzero\" fill-opacity=\"1\" /><path clip-path=\"url(#clip310)\" d=\"M2254.49 274.217 L2254.49 289.865 L2250.23 289.865 L2250.23 274.355 Q2250.23 270.675 2248.8 268.846 Q2247.36 267.018 2244.49 267.018 Q2241.04 267.018 2239.05 269.217 Q2237.06 271.416 2237.06 275.212 L2237.06 289.865 L2232.78 289.865 L2232.78 263.939 L2237.06 263.939 L2237.06 267.967 Q2238.59 265.629 2240.65 264.471 Q2242.73 263.314 2245.44 263.314 Q2249.91 263.314 2252.2 266.092 Q2254.49 268.846 2254.49 274.217 Z\" fill=\"#000000\" fill-rule=\"nonzero\" fill-opacity=\"1\" /></svg>\n"
      ],
      "text/html": [
       "<?xml version=\"1.0\" encoding=\"utf-8\"?>\n",
       "<svg xmlns=\"http://www.w3.org/2000/svg\" xmlns:xlink=\"http://www.w3.org/1999/xlink\" width=\"600\" height=\"400\" viewBox=\"0 0 2400 1600\">\n",
       "<defs>\n",
       "  <clipPath id=\"clip360\">\n",
       "    <rect x=\"0\" y=\"0\" width=\"2400\" height=\"1600\"/>\n",
       "  </clipPath>\n",
       "</defs>\n",
       "<path clip-path=\"url(#clip360)\" d=\"M0 1600 L2400 1600 L2400 0 L0 0  Z\" fill=\"#ffffff\" fill-rule=\"evenodd\" fill-opacity=\"1\"/>\n",
       "<defs>\n",
       "  <clipPath id=\"clip361\">\n",
       "    <rect x=\"480\" y=\"0\" width=\"1681\" height=\"1600\"/>\n",
       "  </clipPath>\n",
       "</defs>\n",
       "<path clip-path=\"url(#clip360)\" d=\"M141.853 1486.45 L2352.76 1486.45 L2352.76 123.472 L141.853 123.472  Z\" fill=\"#ffffff\" fill-rule=\"evenodd\" fill-opacity=\"1\"/>\n",
       "<defs>\n",
       "  <clipPath id=\"clip362\">\n",
       "    <rect x=\"141\" y=\"123\" width=\"2212\" height=\"1364\"/>\n",
       "  </clipPath>\n",
       "</defs>\n",
       "<polyline clip-path=\"url(#clip362)\" style=\"stroke:#000000; stroke-linecap:round; stroke-linejoin:round; stroke-width:2; stroke-opacity:0.1; fill:none\" points=\"263.457,1486.45 263.457,123.472 \"/>\n",
       "<polyline clip-path=\"url(#clip362)\" style=\"stroke:#000000; stroke-linecap:round; stroke-linejoin:round; stroke-width:2; stroke-opacity:0.1; fill:none\" points=\"868.901,1486.45 868.901,123.472 \"/>\n",
       "<polyline clip-path=\"url(#clip362)\" style=\"stroke:#000000; stroke-linecap:round; stroke-linejoin:round; stroke-width:2; stroke-opacity:0.1; fill:none\" points=\"1474.35,1486.45 1474.35,123.472 \"/>\n",
       "<polyline clip-path=\"url(#clip362)\" style=\"stroke:#000000; stroke-linecap:round; stroke-linejoin:round; stroke-width:2; stroke-opacity:0.1; fill:none\" points=\"2079.79,1486.45 2079.79,123.472 \"/>\n",
       "<polyline clip-path=\"url(#clip360)\" style=\"stroke:#000000; stroke-linecap:round; stroke-linejoin:round; stroke-width:4; stroke-opacity:1; fill:none\" points=\"141.853,1486.45 2352.76,1486.45 \"/>\n",
       "<polyline clip-path=\"url(#clip360)\" style=\"stroke:#000000; stroke-linecap:round; stroke-linejoin:round; stroke-width:4; stroke-opacity:1; fill:none\" points=\"263.457,1486.45 263.457,1467.55 \"/>\n",
       "<polyline clip-path=\"url(#clip360)\" style=\"stroke:#000000; stroke-linecap:round; stroke-linejoin:round; stroke-width:4; stroke-opacity:1; fill:none\" points=\"868.901,1486.45 868.901,1467.55 \"/>\n",
       "<polyline clip-path=\"url(#clip360)\" style=\"stroke:#000000; stroke-linecap:round; stroke-linejoin:round; stroke-width:4; stroke-opacity:1; fill:none\" points=\"1474.35,1486.45 1474.35,1467.55 \"/>\n",
       "<polyline clip-path=\"url(#clip360)\" style=\"stroke:#000000; stroke-linecap:round; stroke-linejoin:round; stroke-width:4; stroke-opacity:1; fill:none\" points=\"2079.79,1486.45 2079.79,1467.55 \"/>\n",
       "<path clip-path=\"url(#clip360)\" d=\"M263.457 1517.37 Q259.845 1517.37 258.017 1520.93 Q256.211 1524.47 256.211 1531.6 Q256.211 1538.71 258.017 1542.27 Q259.845 1545.82 263.457 1545.82 Q267.091 1545.82 268.896 1542.27 Q270.725 1538.71 270.725 1531.6 Q270.725 1524.47 268.896 1520.93 Q267.091 1517.37 263.457 1517.37 M263.457 1513.66 Q269.267 1513.66 272.322 1518.27 Q275.401 1522.85 275.401 1531.6 Q275.401 1540.33 272.322 1544.94 Q269.267 1549.52 263.457 1549.52 Q257.646 1549.52 254.568 1544.94 Q251.512 1540.33 251.512 1531.6 Q251.512 1522.85 254.568 1518.27 Q257.646 1513.66 263.457 1513.66 Z\" fill=\"#000000\" fill-rule=\"nonzero\" fill-opacity=\"1\" /><path clip-path=\"url(#clip360)\" d=\"M828.508 1544.91 L836.147 1544.91 L836.147 1518.55 L827.837 1520.21 L827.837 1515.95 L836.101 1514.29 L840.777 1514.29 L840.777 1544.91 L848.415 1544.91 L848.415 1548.85 L828.508 1548.85 L828.508 1544.91 Z\" fill=\"#000000\" fill-rule=\"nonzero\" fill-opacity=\"1\" /><path clip-path=\"url(#clip360)\" d=\"M867.86 1517.37 Q864.249 1517.37 862.42 1520.93 Q860.614 1524.47 860.614 1531.6 Q860.614 1538.71 862.42 1542.27 Q864.249 1545.82 867.86 1545.82 Q871.494 1545.82 873.3 1542.27 Q875.128 1538.71 875.128 1531.6 Q875.128 1524.47 873.3 1520.93 Q871.494 1517.37 867.86 1517.37 M867.86 1513.66 Q873.67 1513.66 876.725 1518.27 Q879.804 1522.85 879.804 1531.6 Q879.804 1540.33 876.725 1544.94 Q873.67 1549.52 867.86 1549.52 Q862.05 1549.52 858.971 1544.94 Q855.915 1540.33 855.915 1531.6 Q855.915 1522.85 858.971 1518.27 Q862.05 1513.66 867.86 1513.66 Z\" fill=\"#000000\" fill-rule=\"nonzero\" fill-opacity=\"1\" /><path clip-path=\"url(#clip360)\" d=\"M898.022 1517.37 Q894.411 1517.37 892.582 1520.93 Q890.776 1524.47 890.776 1531.6 Q890.776 1538.71 892.582 1542.27 Q894.411 1545.82 898.022 1545.82 Q901.656 1545.82 903.461 1542.27 Q905.29 1538.71 905.29 1531.6 Q905.29 1524.47 903.461 1520.93 Q901.656 1517.37 898.022 1517.37 M898.022 1513.66 Q903.832 1513.66 906.887 1518.27 Q909.966 1522.85 909.966 1531.6 Q909.966 1540.33 906.887 1544.94 Q903.832 1549.52 898.022 1549.52 Q892.211 1549.52 889.133 1544.94 Q886.077 1540.33 886.077 1531.6 Q886.077 1522.85 889.133 1518.27 Q892.211 1513.66 898.022 1513.66 Z\" fill=\"#000000\" fill-rule=\"nonzero\" fill-opacity=\"1\" /><path clip-path=\"url(#clip360)\" d=\"M1438.04 1544.91 L1454.36 1544.91 L1454.36 1548.85 L1432.41 1548.85 L1432.41 1544.91 Q1435.08 1542.16 1439.66 1537.53 Q1444.27 1532.88 1445.45 1531.53 Q1447.69 1529.01 1448.57 1527.27 Q1449.47 1525.51 1449.47 1523.82 Q1449.47 1521.07 1447.53 1519.33 Q1445.61 1517.6 1442.51 1517.6 Q1440.31 1517.6 1437.85 1518.36 Q1435.42 1519.13 1432.65 1520.68 L1432.65 1515.95 Q1435.47 1514.82 1437.92 1514.24 Q1440.38 1513.66 1442.41 1513.66 Q1447.78 1513.66 1450.98 1516.35 Q1454.17 1519.03 1454.17 1523.52 Q1454.17 1525.65 1453.36 1527.57 Q1452.58 1529.47 1450.47 1532.07 Q1449.89 1532.74 1446.79 1535.95 Q1443.69 1539.15 1438.04 1544.91 Z\" fill=\"#000000\" fill-rule=\"nonzero\" fill-opacity=\"1\" /><path clip-path=\"url(#clip360)\" d=\"M1474.17 1517.37 Q1470.56 1517.37 1468.73 1520.93 Q1466.93 1524.47 1466.93 1531.6 Q1466.93 1538.71 1468.73 1542.27 Q1470.56 1545.82 1474.17 1545.82 Q1477.81 1545.82 1479.61 1542.27 Q1481.44 1538.71 1481.44 1531.6 Q1481.44 1524.47 1479.61 1520.93 Q1477.81 1517.37 1474.17 1517.37 M1474.17 1513.66 Q1479.98 1513.66 1483.04 1518.27 Q1486.12 1522.85 1486.12 1531.6 Q1486.12 1540.33 1483.04 1544.94 Q1479.98 1549.52 1474.17 1549.52 Q1468.36 1549.52 1465.28 1544.94 Q1462.23 1540.33 1462.23 1531.6 Q1462.23 1522.85 1465.28 1518.27 Q1468.36 1513.66 1474.17 1513.66 Z\" fill=\"#000000\" fill-rule=\"nonzero\" fill-opacity=\"1\" /><path clip-path=\"url(#clip360)\" d=\"M1504.33 1517.37 Q1500.72 1517.37 1498.89 1520.93 Q1497.09 1524.47 1497.09 1531.6 Q1497.09 1538.71 1498.89 1542.27 Q1500.72 1545.82 1504.33 1545.82 Q1507.97 1545.82 1509.77 1542.27 Q1511.6 1538.71 1511.6 1531.6 Q1511.6 1524.47 1509.77 1520.93 Q1507.97 1517.37 1504.33 1517.37 M1504.33 1513.66 Q1510.14 1513.66 1513.2 1518.27 Q1516.28 1522.85 1516.28 1531.6 Q1516.28 1540.33 1513.2 1544.94 Q1510.14 1549.52 1504.33 1549.52 Q1498.52 1549.52 1495.45 1544.94 Q1492.39 1540.33 1492.39 1531.6 Q1492.39 1522.85 1495.45 1518.27 Q1498.52 1513.66 1504.33 1513.66 Z\" fill=\"#000000\" fill-rule=\"nonzero\" fill-opacity=\"1\" /><path clip-path=\"url(#clip360)\" d=\"M2053.55 1530.21 Q2056.91 1530.93 2058.78 1533.2 Q2060.68 1535.47 2060.68 1538.8 Q2060.68 1543.92 2057.16 1546.72 Q2053.65 1549.52 2047.16 1549.52 Q2044.99 1549.52 2042.67 1549.08 Q2040.38 1548.66 2037.93 1547.81 L2037.93 1543.29 Q2039.87 1544.43 2042.19 1545.01 Q2044.5 1545.58 2047.03 1545.58 Q2051.42 1545.58 2053.71 1543.85 Q2056.03 1542.11 2056.03 1538.8 Q2056.03 1535.75 2053.88 1534.03 Q2051.75 1532.3 2047.93 1532.3 L2043.9 1532.3 L2043.9 1528.45 L2048.11 1528.45 Q2051.56 1528.45 2053.39 1527.09 Q2055.22 1525.7 2055.22 1523.11 Q2055.22 1520.45 2053.32 1519.03 Q2051.45 1517.6 2047.93 1517.6 Q2046.01 1517.6 2043.81 1518.01 Q2041.61 1518.43 2038.97 1519.31 L2038.97 1515.14 Q2041.63 1514.4 2043.95 1514.03 Q2046.28 1513.66 2048.34 1513.66 Q2053.67 1513.66 2056.77 1516.09 Q2059.87 1518.5 2059.87 1522.62 Q2059.87 1525.49 2058.23 1527.48 Q2056.59 1529.45 2053.55 1530.21 Z\" fill=\"#000000\" fill-rule=\"nonzero\" fill-opacity=\"1\" /><path clip-path=\"url(#clip360)\" d=\"M2079.55 1517.37 Q2075.94 1517.37 2074.11 1520.93 Q2072.3 1524.47 2072.3 1531.6 Q2072.3 1538.71 2074.11 1542.27 Q2075.94 1545.82 2079.55 1545.82 Q2083.18 1545.82 2084.99 1542.27 Q2086.82 1538.71 2086.82 1531.6 Q2086.82 1524.47 2084.99 1520.93 Q2083.18 1517.37 2079.55 1517.37 M2079.55 1513.66 Q2085.36 1513.66 2088.41 1518.27 Q2091.49 1522.85 2091.49 1531.6 Q2091.49 1540.33 2088.41 1544.94 Q2085.36 1549.52 2079.55 1549.52 Q2073.74 1549.52 2070.66 1544.94 Q2067.6 1540.33 2067.6 1531.6 Q2067.6 1522.85 2070.66 1518.27 Q2073.74 1513.66 2079.55 1513.66 Z\" fill=\"#000000\" fill-rule=\"nonzero\" fill-opacity=\"1\" /><path clip-path=\"url(#clip360)\" d=\"M2109.71 1517.37 Q2106.1 1517.37 2104.27 1520.93 Q2102.46 1524.47 2102.46 1531.6 Q2102.46 1538.71 2104.27 1542.27 Q2106.1 1545.82 2109.71 1545.82 Q2113.34 1545.82 2115.15 1542.27 Q2116.98 1538.71 2116.98 1531.6 Q2116.98 1524.47 2115.15 1520.93 Q2113.34 1517.37 2109.71 1517.37 M2109.71 1513.66 Q2115.52 1513.66 2118.58 1518.27 Q2121.65 1522.85 2121.65 1531.6 Q2121.65 1540.33 2118.58 1544.94 Q2115.52 1549.52 2109.71 1549.52 Q2103.9 1549.52 2100.82 1544.94 Q2097.77 1540.33 2097.77 1531.6 Q2097.77 1522.85 2100.82 1518.27 Q2103.9 1513.66 2109.71 1513.66 Z\" fill=\"#000000\" fill-rule=\"nonzero\" fill-opacity=\"1\" /><polyline clip-path=\"url(#clip362)\" style=\"stroke:#000000; stroke-linecap:round; stroke-linejoin:round; stroke-width:2; stroke-opacity:0.1; fill:none\" points=\"141.853,1447.87 2352.76,1447.87 \"/>\n",
       "<polyline clip-path=\"url(#clip362)\" style=\"stroke:#000000; stroke-linecap:round; stroke-linejoin:round; stroke-width:2; stroke-opacity:0.1; fill:none\" points=\"141.853,1209.76 2352.76,1209.76 \"/>\n",
       "<polyline clip-path=\"url(#clip362)\" style=\"stroke:#000000; stroke-linecap:round; stroke-linejoin:round; stroke-width:2; stroke-opacity:0.1; fill:none\" points=\"141.853,971.641 2352.76,971.641 \"/>\n",
       "<polyline clip-path=\"url(#clip362)\" style=\"stroke:#000000; stroke-linecap:round; stroke-linejoin:round; stroke-width:2; stroke-opacity:0.1; fill:none\" points=\"141.853,733.525 2352.76,733.525 \"/>\n",
       "<polyline clip-path=\"url(#clip362)\" style=\"stroke:#000000; stroke-linecap:round; stroke-linejoin:round; stroke-width:2; stroke-opacity:0.1; fill:none\" points=\"141.853,495.409 2352.76,495.409 \"/>\n",
       "<polyline clip-path=\"url(#clip362)\" style=\"stroke:#000000; stroke-linecap:round; stroke-linejoin:round; stroke-width:2; stroke-opacity:0.1; fill:none\" points=\"141.853,257.293 2352.76,257.293 \"/>\n",
       "<polyline clip-path=\"url(#clip360)\" style=\"stroke:#000000; stroke-linecap:round; stroke-linejoin:round; stroke-width:4; stroke-opacity:1; fill:none\" points=\"141.853,1486.45 141.853,123.472 \"/>\n",
       "<polyline clip-path=\"url(#clip360)\" style=\"stroke:#000000; stroke-linecap:round; stroke-linejoin:round; stroke-width:4; stroke-opacity:1; fill:none\" points=\"141.853,1447.87 160.751,1447.87 \"/>\n",
       "<polyline clip-path=\"url(#clip360)\" style=\"stroke:#000000; stroke-linecap:round; stroke-linejoin:round; stroke-width:4; stroke-opacity:1; fill:none\" points=\"141.853,1209.76 160.751,1209.76 \"/>\n",
       "<polyline clip-path=\"url(#clip360)\" style=\"stroke:#000000; stroke-linecap:round; stroke-linejoin:round; stroke-width:4; stroke-opacity:1; fill:none\" points=\"141.853,971.641 160.751,971.641 \"/>\n",
       "<polyline clip-path=\"url(#clip360)\" style=\"stroke:#000000; stroke-linecap:round; stroke-linejoin:round; stroke-width:4; stroke-opacity:1; fill:none\" points=\"141.853,733.525 160.751,733.525 \"/>\n",
       "<polyline clip-path=\"url(#clip360)\" style=\"stroke:#000000; stroke-linecap:round; stroke-linejoin:round; stroke-width:4; stroke-opacity:1; fill:none\" points=\"141.853,495.409 160.751,495.409 \"/>\n",
       "<polyline clip-path=\"url(#clip360)\" style=\"stroke:#000000; stroke-linecap:round; stroke-linejoin:round; stroke-width:4; stroke-opacity:1; fill:none\" points=\"141.853,257.293 160.751,257.293 \"/>\n",
       "<path clip-path=\"url(#clip360)\" d=\"M93.9086 1433.67 Q90.2975 1433.67 88.4688 1437.24 Q86.6632 1440.78 86.6632 1447.91 Q86.6632 1455.01 88.4688 1458.58 Q90.2975 1462.12 93.9086 1462.12 Q97.5428 1462.12 99.3483 1458.58 Q101.177 1455.01 101.177 1447.91 Q101.177 1440.78 99.3483 1437.24 Q97.5428 1433.67 93.9086 1433.67 M93.9086 1429.97 Q99.7187 1429.97 102.774 1434.57 Q105.853 1439.16 105.853 1447.91 Q105.853 1456.63 102.774 1461.24 Q99.7187 1465.82 93.9086 1465.82 Q88.0984 1465.82 85.0197 1461.24 Q81.9642 1456.63 81.9642 1447.91 Q81.9642 1439.16 85.0197 1434.57 Q88.0984 1429.97 93.9086 1429.97 Z\" fill=\"#000000\" fill-rule=\"nonzero\" fill-opacity=\"1\" /><path clip-path=\"url(#clip360)\" d=\"M54.5569 1223.1 L62.1958 1223.1 L62.1958 1196.74 L53.8856 1198.4 L53.8856 1194.14 L62.1495 1192.48 L66.8254 1192.48 L66.8254 1223.1 L74.4642 1223.1 L74.4642 1227.04 L54.5569 1227.04 L54.5569 1223.1 Z\" fill=\"#000000\" fill-rule=\"nonzero\" fill-opacity=\"1\" /><path clip-path=\"url(#clip360)\" d=\"M93.9086 1195.56 Q90.2975 1195.56 88.4688 1199.12 Q86.6632 1202.66 86.6632 1209.79 Q86.6632 1216.9 88.4688 1220.46 Q90.2975 1224 93.9086 1224 Q97.5428 1224 99.3483 1220.46 Q101.177 1216.9 101.177 1209.79 Q101.177 1202.66 99.3483 1199.12 Q97.5428 1195.56 93.9086 1195.56 M93.9086 1191.85 Q99.7187 1191.85 102.774 1196.46 Q105.853 1201.04 105.853 1209.79 Q105.853 1218.52 102.774 1223.13 Q99.7187 1227.71 93.9086 1227.71 Q88.0984 1227.71 85.0197 1223.13 Q81.9642 1218.52 81.9642 1209.79 Q81.9642 1201.04 85.0197 1196.46 Q88.0984 1191.85 93.9086 1191.85 Z\" fill=\"#000000\" fill-rule=\"nonzero\" fill-opacity=\"1\" /><path clip-path=\"url(#clip360)\" d=\"M57.7745 984.986 L74.0939 984.986 L74.0939 988.921 L52.1495 988.921 L52.1495 984.986 Q54.8115 982.231 59.3949 977.602 Q64.0013 972.949 65.1819 971.606 Q67.4272 969.083 68.3068 967.347 Q69.2096 965.588 69.2096 963.898 Q69.2096 961.144 67.2652 959.407 Q65.3439 957.671 62.2421 957.671 Q60.043 957.671 57.5893 958.435 Q55.1588 959.199 52.381 960.75 L52.381 956.028 Q55.2051 954.894 57.6588 954.315 Q60.1124 953.736 62.1495 953.736 Q67.5198 953.736 70.7142 956.421 Q73.9087 959.107 73.9087 963.597 Q73.9087 965.727 73.0985 967.648 Q72.3115 969.546 70.205 972.139 Q69.6263 972.81 66.5245 976.028 Q63.4226 979.222 57.7745 984.986 Z\" fill=\"#000000\" fill-rule=\"nonzero\" fill-opacity=\"1\" /><path clip-path=\"url(#clip360)\" d=\"M93.9086 957.44 Q90.2975 957.44 88.4688 961.005 Q86.6632 964.546 86.6632 971.676 Q86.6632 978.782 88.4688 982.347 Q90.2975 985.889 93.9086 985.889 Q97.5428 985.889 99.3483 982.347 Q101.177 978.782 101.177 971.676 Q101.177 964.546 99.3483 961.005 Q97.5428 957.44 93.9086 957.44 M93.9086 953.736 Q99.7187 953.736 102.774 958.343 Q105.853 962.926 105.853 971.676 Q105.853 980.403 102.774 985.009 Q99.7187 989.592 93.9086 989.592 Q88.0984 989.592 85.0197 985.009 Q81.9642 980.403 81.9642 971.676 Q81.9642 962.926 85.0197 958.343 Q88.0984 953.736 93.9086 953.736 Z\" fill=\"#000000\" fill-rule=\"nonzero\" fill-opacity=\"1\" /><path clip-path=\"url(#clip360)\" d=\"M67.9133 732.171 Q71.2698 732.889 73.1448 735.157 Q75.0429 737.426 75.0429 740.759 Q75.0429 745.875 71.5244 748.676 Q68.0059 751.477 61.5245 751.477 Q59.3486 751.477 57.0338 751.037 Q54.7421 750.62 52.2884 749.764 L52.2884 745.25 Q54.2328 746.384 56.5477 746.963 Q58.8625 747.541 61.3856 747.541 Q65.7837 747.541 68.0754 745.805 Q70.3902 744.069 70.3902 740.759 Q70.3902 737.703 68.2374 735.99 Q66.1078 734.254 62.2884 734.254 L58.2606 734.254 L58.2606 730.412 L62.4735 730.412 Q65.9226 730.412 67.7513 729.046 Q69.58 727.657 69.58 725.065 Q69.58 722.403 67.6819 720.991 Q65.8069 719.555 62.2884 719.555 Q60.3671 719.555 58.168 719.972 Q55.969 720.389 53.3301 721.268 L53.3301 717.102 Q55.9921 716.361 58.3069 715.991 Q60.6449 715.62 62.705 715.62 Q68.0291 715.62 71.1309 718.051 Q74.2327 720.458 74.2327 724.579 Q74.2327 727.449 72.5892 729.44 Q70.9457 731.407 67.9133 732.171 Z\" fill=\"#000000\" fill-rule=\"nonzero\" fill-opacity=\"1\" /><path clip-path=\"url(#clip360)\" d=\"M93.9086 719.324 Q90.2975 719.324 88.4688 722.889 Q86.6632 726.43 86.6632 733.56 Q86.6632 740.666 88.4688 744.231 Q90.2975 747.773 93.9086 747.773 Q97.5428 747.773 99.3483 744.231 Q101.177 740.666 101.177 733.56 Q101.177 726.43 99.3483 722.889 Q97.5428 719.324 93.9086 719.324 M93.9086 715.62 Q99.7187 715.62 102.774 720.227 Q105.853 724.81 105.853 733.56 Q105.853 742.287 102.774 746.893 Q99.7187 751.477 93.9086 751.477 Q88.0984 751.477 85.0197 746.893 Q81.9642 742.287 81.9642 733.56 Q81.9642 724.81 85.0197 720.227 Q88.0984 715.62 93.9086 715.62 Z\" fill=\"#000000\" fill-rule=\"nonzero\" fill-opacity=\"1\" /><path clip-path=\"url(#clip360)\" d=\"M66.5939 482.203 L54.7884 500.652 L66.5939 500.652 L66.5939 482.203 M65.367 478.129 L71.2466 478.129 L71.2466 500.652 L76.1772 500.652 L76.1772 504.541 L71.2466 504.541 L71.2466 512.689 L66.5939 512.689 L66.5939 504.541 L50.9921 504.541 L50.9921 500.027 L65.367 478.129 Z\" fill=\"#000000\" fill-rule=\"nonzero\" fill-opacity=\"1\" /><path clip-path=\"url(#clip360)\" d=\"M93.9086 481.208 Q90.2975 481.208 88.4688 484.773 Q86.6632 488.314 86.6632 495.444 Q86.6632 502.55 88.4688 506.115 Q90.2975 509.657 93.9086 509.657 Q97.5428 509.657 99.3483 506.115 Q101.177 502.55 101.177 495.444 Q101.177 488.314 99.3483 484.773 Q97.5428 481.208 93.9086 481.208 M93.9086 477.504 Q99.7187 477.504 102.774 482.111 Q105.853 486.694 105.853 495.444 Q105.853 504.171 102.774 508.777 Q99.7187 513.361 93.9086 513.361 Q88.0984 513.361 85.0197 508.777 Q81.9642 504.171 81.9642 495.444 Q81.9642 486.694 85.0197 482.111 Q88.0984 477.504 93.9086 477.504 Z\" fill=\"#000000\" fill-rule=\"nonzero\" fill-opacity=\"1\" /><path clip-path=\"url(#clip360)\" d=\"M53.793 240.013 L72.1494 240.013 L72.1494 243.948 L58.0754 243.948 L58.0754 252.421 Q59.0939 252.073 60.1124 251.911 Q61.131 251.726 62.1495 251.726 Q67.9365 251.726 71.3161 254.897 Q74.6957 258.069 74.6957 263.485 Q74.6957 269.064 71.2235 272.166 Q67.7513 275.245 61.4319 275.245 Q59.256 275.245 56.9875 274.874 Q54.7421 274.504 52.3347 273.763 L52.3347 269.064 Q54.418 270.198 56.6402 270.754 Q58.8625 271.309 61.3393 271.309 Q65.3439 271.309 67.6819 269.203 Q70.0198 267.096 70.0198 263.485 Q70.0198 259.874 67.6819 257.768 Q65.3439 255.661 61.3393 255.661 Q59.4643 255.661 57.5893 256.078 Q55.7375 256.495 53.793 257.374 L53.793 240.013 Z\" fill=\"#000000\" fill-rule=\"nonzero\" fill-opacity=\"1\" /><path clip-path=\"url(#clip360)\" d=\"M93.9086 243.092 Q90.2975 243.092 88.4688 246.657 Q86.6632 250.198 86.6632 257.328 Q86.6632 264.434 88.4688 267.999 Q90.2975 271.541 93.9086 271.541 Q97.5428 271.541 99.3483 267.999 Q101.177 264.434 101.177 257.328 Q101.177 250.198 99.3483 246.657 Q97.5428 243.092 93.9086 243.092 M93.9086 239.388 Q99.7187 239.388 102.774 243.995 Q105.853 248.578 105.853 257.328 Q105.853 266.055 102.774 270.661 Q99.7187 275.245 93.9086 275.245 Q88.0984 275.245 85.0197 270.661 Q81.9642 266.055 81.9642 257.328 Q81.9642 248.578 85.0197 243.995 Q88.0984 239.388 93.9086 239.388 Z\" fill=\"#000000\" fill-rule=\"nonzero\" fill-opacity=\"1\" /><path clip-path=\"url(#clip360)\" d=\"M793.036 17.6457 Q784.124 17.6457 778.858 24.2892 Q773.632 30.9327 773.632 42.3968 Q773.632 53.8203 778.858 60.4638 Q784.124 67.1073 793.036 67.1073 Q801.948 67.1073 807.133 60.4638 Q812.359 53.8203 812.359 42.3968 Q812.359 30.9327 807.133 24.2892 Q801.948 17.6457 793.036 17.6457 M793.036 11.0023 Q805.756 11.0023 813.372 19.5497 Q820.987 28.0566 820.987 42.3968 Q820.987 56.6965 813.372 65.2439 Q805.756 73.7508 793.036 73.7508 Q780.276 73.7508 772.619 65.2439 Q765.004 56.737 765.004 42.3968 Q765.004 28.0566 772.619 19.5497 Q780.276 11.0023 793.036 11.0023 Z\" fill=\"#000000\" fill-rule=\"nonzero\" fill-opacity=\"1\" /><path clip-path=\"url(#clip360)\" d=\"M863.319 34.0924 L863.319 9.54393 L870.773 9.54393 L870.773 72.576 L863.319 72.576 L863.319 65.7705 Q860.97 69.8214 857.364 71.8063 Q853.8 73.7508 848.776 73.7508 Q840.553 73.7508 835.368 67.1883 Q830.223 60.6258 830.223 49.9314 Q830.223 39.2371 835.368 32.6746 Q840.553 26.1121 848.776 26.1121 Q853.8 26.1121 857.364 28.0971 Q860.97 30.0415 863.319 34.0924 M837.92 49.9314 Q837.92 58.1548 841.282 62.8538 Q844.685 67.5124 850.599 67.5124 Q856.514 67.5124 859.916 62.8538 Q863.319 58.1548 863.319 49.9314 Q863.319 41.7081 859.916 37.0496 Q856.514 32.3505 850.599 32.3505 Q844.685 32.3505 841.282 37.0496 Q837.92 41.7081 837.92 49.9314 Z\" fill=\"#000000\" fill-rule=\"nonzero\" fill-opacity=\"1\" /><path clip-path=\"url(#clip360)\" d=\"M915.981 34.0924 L915.981 9.54393 L923.435 9.54393 L923.435 72.576 L915.981 72.576 L915.981 65.7705 Q913.631 69.8214 910.026 71.8063 Q906.461 73.7508 901.438 73.7508 Q893.215 73.7508 888.03 67.1883 Q882.885 60.6258 882.885 49.9314 Q882.885 39.2371 888.03 32.6746 Q893.215 26.1121 901.438 26.1121 Q906.461 26.1121 910.026 28.0971 Q913.631 30.0415 915.981 34.0924 M890.582 49.9314 Q890.582 58.1548 893.944 62.8538 Q897.347 67.5124 903.261 67.5124 Q909.175 67.5124 912.578 62.8538 Q915.981 58.1548 915.981 49.9314 Q915.981 41.7081 912.578 37.0496 Q909.175 32.3505 903.261 32.3505 Q897.347 32.3505 893.944 37.0496 Q890.582 41.7081 890.582 49.9314 Z\" fill=\"#000000\" fill-rule=\"nonzero\" fill-opacity=\"1\" /><path clip-path=\"url(#clip360)\" d=\"M967.711 28.5427 L967.711 35.5912 Q964.551 33.9709 961.149 33.1607 Q957.746 32.3505 954.1 32.3505 Q948.55 32.3505 945.755 34.0519 Q943 35.7533 943 39.156 Q943 41.7486 944.985 43.2475 Q946.97 44.7058 952.966 46.0426 L955.518 46.6097 Q963.458 48.3111 966.779 51.4303 Q970.142 54.509 970.142 60.0587 Q970.142 66.3781 965.118 70.0644 Q960.136 73.7508 951.386 73.7508 Q947.74 73.7508 943.77 73.0216 Q939.841 72.3329 935.466 70.9151 L935.466 63.2184 Q939.598 65.3654 943.608 66.4591 Q947.619 67.5124 951.548 67.5124 Q956.814 67.5124 959.65 65.73 Q962.485 63.9071 962.485 60.6258 Q962.485 57.5877 960.419 55.9673 Q958.394 54.3469 951.467 52.8481 L948.874 52.2405 Q941.947 50.7821 938.869 47.7845 Q935.79 44.7463 935.79 39.4801 Q935.79 33.0797 940.327 29.5959 Q944.864 26.1121 953.209 26.1121 Q957.341 26.1121 960.987 26.7198 Q964.632 27.3274 967.711 28.5427 Z\" fill=\"#000000\" fill-rule=\"nonzero\" fill-opacity=\"1\" /><path clip-path=\"url(#clip360)\" d=\"M1037.39 44.2197 Q1040.02 45.1109 1042.49 48.0275 Q1045 50.9442 1047.51 56.0483 L1055.82 72.576 L1047.03 72.576 L1039.29 57.061 Q1036.29 50.9847 1033.46 48.9997 Q1030.66 47.0148 1025.8 47.0148 L1016.89 47.0148 L1016.89 72.576 L1008.71 72.576 L1008.71 12.096 L1027.18 12.096 Q1037.55 12.096 1042.65 16.4305 Q1047.76 20.7649 1047.76 29.5149 Q1047.76 35.2267 1045.08 38.994 Q1042.45 42.7613 1037.39 44.2197 M1016.89 18.8205 L1016.89 40.2903 L1027.18 40.2903 Q1033.09 40.2903 1036.09 37.5762 Q1039.13 34.8216 1039.13 29.5149 Q1039.13 24.2082 1036.09 21.5346 Q1033.09 18.8205 1027.18 18.8205 L1016.89 18.8205 Z\" fill=\"#000000\" fill-rule=\"nonzero\" fill-opacity=\"1\" /><path clip-path=\"url(#clip360)\" d=\"M1084.82 49.7694 Q1075.79 49.7694 1072.31 51.8354 Q1068.82 53.9013 1068.82 58.8839 Q1068.82 62.8538 1071.41 65.2034 Q1074.05 67.5124 1078.54 67.5124 Q1084.74 67.5124 1088.47 63.1374 Q1092.24 58.7219 1092.24 51.4303 L1092.24 49.7694 L1084.82 49.7694 M1099.69 46.6907 L1099.69 72.576 L1092.24 72.576 L1092.24 65.6895 Q1089.68 69.8214 1085.88 71.8063 Q1082.07 73.7508 1076.56 73.7508 Q1069.59 73.7508 1065.46 69.8619 Q1061.37 65.9325 1061.37 59.3701 Q1061.37 51.7138 1066.47 47.825 Q1071.62 43.9361 1081.78 43.9361 L1092.24 43.9361 L1092.24 43.2069 Q1092.24 38.0623 1088.83 35.2672 Q1085.47 32.4315 1079.35 32.4315 Q1075.47 32.4315 1071.78 33.3632 Q1068.09 34.295 1064.69 36.1584 L1064.69 29.2718 Q1068.78 27.692 1072.63 26.9223 Q1076.48 26.1121 1080.12 26.1121 Q1089.97 26.1121 1094.83 31.2163 Q1099.69 36.3204 1099.69 46.6907 Z\" fill=\"#000000\" fill-rule=\"nonzero\" fill-opacity=\"1\" /><path clip-path=\"url(#clip360)\" d=\"M1122.42 14.324 L1122.42 27.2059 L1137.77 27.2059 L1137.77 32.9987 L1122.42 32.9987 L1122.42 57.6282 Q1122.42 63.1779 1123.91 64.7578 Q1125.45 66.3376 1130.11 66.3376 L1137.77 66.3376 L1137.77 72.576 L1130.11 72.576 Q1121.48 72.576 1118.2 69.3758 Q1114.92 66.1351 1114.92 57.6282 L1114.92 32.9987 L1109.45 32.9987 L1109.45 27.2059 L1114.92 27.2059 L1114.92 14.324 L1122.42 14.324 Z\" fill=\"#000000\" fill-rule=\"nonzero\" fill-opacity=\"1\" /><path clip-path=\"url(#clip360)\" d=\"M1147.57 27.2059 L1155.02 27.2059 L1155.02 72.576 L1147.57 72.576 L1147.57 27.2059 M1147.57 9.54393 L1155.02 9.54393 L1155.02 18.9825 L1147.57 18.9825 L1147.57 9.54393 Z\" fill=\"#000000\" fill-rule=\"nonzero\" fill-opacity=\"1\" /><path clip-path=\"url(#clip360)\" d=\"M1188.2 32.4315 Q1182.21 32.4315 1178.72 37.1306 Q1175.24 41.7891 1175.24 49.9314 Q1175.24 58.0738 1178.68 62.7728 Q1182.17 67.4314 1188.2 67.4314 Q1194.16 67.4314 1197.64 62.7323 Q1201.12 58.0333 1201.12 49.9314 Q1201.12 41.8701 1197.64 37.1711 Q1194.16 32.4315 1188.2 32.4315 M1188.2 26.1121 Q1197.92 26.1121 1203.47 32.4315 Q1209.02 38.7509 1209.02 49.9314 Q1209.02 61.0714 1203.47 67.4314 Q1197.92 73.7508 1188.2 73.7508 Q1178.44 73.7508 1172.89 67.4314 Q1167.38 61.0714 1167.38 49.9314 Q1167.38 38.7509 1172.89 32.4315 Q1178.44 26.1121 1188.2 26.1121 Z\" fill=\"#000000\" fill-rule=\"nonzero\" fill-opacity=\"1\" /><path clip-path=\"url(#clip360)\" d=\"M1293.36 16.7545 L1293.36 25.383 Q1289.23 21.5346 1284.53 19.6307 Q1279.87 17.7268 1274.61 17.7268 Q1264.24 17.7268 1258.73 24.0867 Q1253.22 30.4061 1253.22 42.3968 Q1253.22 54.3469 1258.73 60.7069 Q1264.24 67.0263 1274.61 67.0263 Q1279.87 67.0263 1284.53 65.1223 Q1289.23 63.2184 1293.36 59.3701 L1293.36 67.9175 Q1289.07 70.8341 1284.25 72.2924 Q1279.47 73.7508 1274.12 73.7508 Q1260.39 73.7508 1252.49 65.3654 Q1244.59 56.9395 1244.59 42.3968 Q1244.59 27.8135 1252.49 19.4281 Q1260.39 11.0023 1274.12 11.0023 Q1279.55 11.0023 1284.33 12.4606 Q1289.15 13.8784 1293.36 16.7545 Z\" fill=\"#000000\" fill-rule=\"nonzero\" fill-opacity=\"1\" /><path clip-path=\"url(#clip360)\" d=\"M1323.26 32.4315 Q1317.26 32.4315 1313.78 37.1306 Q1310.3 41.7891 1310.3 49.9314 Q1310.3 58.0738 1313.74 62.7728 Q1317.22 67.4314 1323.26 67.4314 Q1329.21 67.4314 1332.7 62.7323 Q1336.18 58.0333 1336.18 49.9314 Q1336.18 41.8701 1332.7 37.1711 Q1329.21 32.4315 1323.26 32.4315 M1323.26 26.1121 Q1332.98 26.1121 1338.53 32.4315 Q1344.08 38.7509 1344.08 49.9314 Q1344.08 61.0714 1338.53 67.4314 Q1332.98 73.7508 1323.26 73.7508 Q1313.5 73.7508 1307.95 67.4314 Q1302.44 61.0714 1302.44 49.9314 Q1302.44 38.7509 1307.95 32.4315 Q1313.5 26.1121 1323.26 26.1121 Z\" fill=\"#000000\" fill-rule=\"nonzero\" fill-opacity=\"1\" /><path clip-path=\"url(#clip360)\" d=\"M1391.76 35.9153 Q1394.55 30.8922 1398.44 28.5022 Q1402.33 26.1121 1407.6 26.1121 Q1414.69 26.1121 1418.54 31.0947 Q1422.38 36.0368 1422.38 45.1919 L1422.38 72.576 L1414.89 72.576 L1414.89 45.4349 Q1414.89 38.913 1412.58 35.7533 Q1410.27 32.5936 1405.53 32.5936 Q1399.74 32.5936 1396.38 36.4419 Q1393.02 40.2903 1393.02 46.9338 L1393.02 72.576 L1385.52 72.576 L1385.52 45.4349 Q1385.52 38.8725 1383.21 35.7533 Q1380.9 32.5936 1376.08 32.5936 Q1370.37 32.5936 1367.01 36.4824 Q1363.65 40.3308 1363.65 46.9338 L1363.65 72.576 L1356.15 72.576 L1356.15 27.2059 L1363.65 27.2059 L1363.65 34.2544 Q1366.2 30.082 1369.76 28.0971 Q1373.33 26.1121 1378.23 26.1121 Q1383.17 26.1121 1386.62 28.6237 Q1390.1 31.1352 1391.76 35.9153 Z\" fill=\"#000000\" fill-rule=\"nonzero\" fill-opacity=\"1\" /><path clip-path=\"url(#clip360)\" d=\"M1444.46 65.7705 L1444.46 89.8329 L1436.97 89.8329 L1436.97 27.2059 L1444.46 27.2059 L1444.46 34.0924 Q1446.81 30.0415 1450.38 28.0971 Q1453.98 26.1121 1458.96 26.1121 Q1467.23 26.1121 1472.37 32.6746 Q1477.56 39.2371 1477.56 49.9314 Q1477.56 60.6258 1472.37 67.1883 Q1467.23 73.7508 1458.96 73.7508 Q1453.98 73.7508 1450.38 71.8063 Q1446.81 69.8214 1444.46 65.7705 M1469.82 49.9314 Q1469.82 41.7081 1466.42 37.0496 Q1463.06 32.3505 1457.14 32.3505 Q1451.23 32.3505 1447.82 37.0496 Q1444.46 41.7081 1444.46 49.9314 Q1444.46 58.1548 1447.82 62.8538 Q1451.23 67.5124 1457.14 67.5124 Q1463.06 67.5124 1466.42 62.8538 Q1469.82 58.1548 1469.82 49.9314 Z\" fill=\"#000000\" fill-rule=\"nonzero\" fill-opacity=\"1\" /><path clip-path=\"url(#clip360)\" d=\"M1510.53 49.7694 Q1501.5 49.7694 1498.01 51.8354 Q1494.53 53.9013 1494.53 58.8839 Q1494.53 62.8538 1497.12 65.2034 Q1499.76 67.5124 1504.25 67.5124 Q1510.45 67.5124 1514.18 63.1374 Q1517.95 58.7219 1517.95 51.4303 L1517.95 49.7694 L1510.53 49.7694 M1525.4 46.6907 L1525.4 72.576 L1517.95 72.576 L1517.95 65.6895 Q1515.39 69.8214 1511.59 71.8063 Q1507.78 73.7508 1502.27 73.7508 Q1495.3 73.7508 1491.17 69.8619 Q1487.08 65.9325 1487.08 59.3701 Q1487.08 51.7138 1492.18 47.825 Q1497.33 43.9361 1507.49 43.9361 L1517.95 43.9361 L1517.95 43.2069 Q1517.95 38.0623 1514.54 35.2672 Q1511.18 32.4315 1505.06 32.4315 Q1501.17 32.4315 1497.49 33.3632 Q1493.8 34.295 1490.4 36.1584 L1490.4 29.2718 Q1494.49 27.692 1498.34 26.9223 Q1502.19 26.1121 1505.83 26.1121 Q1515.68 26.1121 1520.54 31.2163 Q1525.4 36.3204 1525.4 46.6907 Z\" fill=\"#000000\" fill-rule=\"nonzero\" fill-opacity=\"1\" /><path clip-path=\"url(#clip360)\" d=\"M1567.04 34.1734 Q1565.79 33.4443 1564.29 33.1202 Q1562.83 32.7556 1561.05 32.7556 Q1554.73 32.7556 1551.32 36.8875 Q1547.96 40.9789 1547.96 48.6757 L1547.96 72.576 L1540.47 72.576 L1540.47 27.2059 L1547.96 27.2059 L1547.96 34.2544 Q1550.31 30.1225 1554.08 28.1376 Q1557.85 26.1121 1563.23 26.1121 Q1564 26.1121 1564.94 26.2337 Q1565.87 26.3147 1567 26.5172 L1567.04 34.1734 Z\" fill=\"#000000\" fill-rule=\"nonzero\" fill-opacity=\"1\" /><path clip-path=\"url(#clip360)\" d=\"M1574.86 27.2059 L1582.31 27.2059 L1582.31 72.576 L1574.86 72.576 L1574.86 27.2059 M1574.86 9.54393 L1582.31 9.54393 L1582.31 18.9825 L1574.86 18.9825 L1574.86 9.54393 Z\" fill=\"#000000\" fill-rule=\"nonzero\" fill-opacity=\"1\" /><path clip-path=\"url(#clip360)\" d=\"M1626.83 28.5427 L1626.83 35.5912 Q1623.67 33.9709 1620.27 33.1607 Q1616.87 32.3505 1613.22 32.3505 Q1607.67 32.3505 1604.88 34.0519 Q1602.12 35.7533 1602.12 39.156 Q1602.12 41.7486 1604.11 43.2475 Q1606.09 44.7058 1612.09 46.0426 L1614.64 46.6097 Q1622.58 48.3111 1625.9 51.4303 Q1629.26 54.509 1629.26 60.0587 Q1629.26 66.3781 1624.24 70.0644 Q1619.26 73.7508 1610.51 73.7508 Q1606.86 73.7508 1602.89 73.0216 Q1598.96 72.3329 1594.59 70.9151 L1594.59 63.2184 Q1598.72 65.3654 1602.73 66.4591 Q1606.74 67.5124 1610.67 67.5124 Q1615.94 67.5124 1618.77 65.73 Q1621.61 63.9071 1621.61 60.6258 Q1621.61 57.5877 1619.54 55.9673 Q1617.52 54.3469 1610.59 52.8481 L1608 52.2405 Q1601.07 50.7821 1597.99 47.7845 Q1594.91 44.7463 1594.91 39.4801 Q1594.91 33.0797 1599.45 29.5959 Q1603.99 26.1121 1612.33 26.1121 Q1616.46 26.1121 1620.11 26.7198 Q1623.75 27.3274 1626.83 28.5427 Z\" fill=\"#000000\" fill-rule=\"nonzero\" fill-opacity=\"1\" /><path clip-path=\"url(#clip360)\" d=\"M1658.71 32.4315 Q1652.72 32.4315 1649.24 37.1306 Q1645.75 41.7891 1645.75 49.9314 Q1645.75 58.0738 1649.19 62.7728 Q1652.68 67.4314 1658.71 67.4314 Q1664.67 67.4314 1668.15 62.7323 Q1671.64 58.0333 1671.64 49.9314 Q1671.64 41.8701 1668.15 37.1711 Q1664.67 32.4315 1658.71 32.4315 M1658.71 26.1121 Q1668.44 26.1121 1673.99 32.4315 Q1679.54 38.7509 1679.54 49.9314 Q1679.54 61.0714 1673.99 67.4314 Q1668.44 73.7508 1658.71 73.7508 Q1648.95 73.7508 1643.4 67.4314 Q1637.89 61.0714 1637.89 49.9314 Q1637.89 38.7509 1643.4 32.4315 Q1648.95 26.1121 1658.71 26.1121 Z\" fill=\"#000000\" fill-rule=\"nonzero\" fill-opacity=\"1\" /><path clip-path=\"url(#clip360)\" d=\"M1729.61 45.1919 L1729.61 72.576 L1722.15 72.576 L1722.15 45.4349 Q1722.15 38.994 1719.64 35.7938 Q1717.13 32.5936 1712.11 32.5936 Q1706.07 32.5936 1702.59 36.4419 Q1699.1 40.2903 1699.1 46.9338 L1699.1 72.576 L1691.61 72.576 L1691.61 27.2059 L1699.1 27.2059 L1699.1 34.2544 Q1701.78 30.163 1705.38 28.1376 Q1709.03 26.1121 1713.77 26.1121 Q1721.58 26.1121 1725.59 30.9732 Q1729.61 35.7938 1729.61 45.1919 Z\" fill=\"#000000\" fill-rule=\"nonzero\" fill-opacity=\"1\" /><path clip-path=\"url(#clip362)\" d=\"M263.457 162.047 L263.457 1447.87 L293.729 1447.87 L293.729 162.047 L263.457 162.047 L263.457 162.047  Z\" fill=\"#009af9\" fill-rule=\"evenodd\" fill-opacity=\"1\"/>\n",
       "<polyline clip-path=\"url(#clip362)\" style=\"stroke:#000000; stroke-linecap:round; stroke-linejoin:round; stroke-width:4; stroke-opacity:1; fill:none\" points=\"263.457,162.047 263.457,1447.87 293.729,1447.87 293.729,162.047 263.457,162.047 \"/>\n",
       "<path clip-path=\"url(#clip362)\" d=\"M293.729 828.772 L293.729 1447.87 L324.001 1447.87 L324.001 828.772 L293.729 828.772 L293.729 828.772  Z\" fill=\"#009af9\" fill-rule=\"evenodd\" fill-opacity=\"1\"/>\n",
       "<polyline clip-path=\"url(#clip362)\" style=\"stroke:#000000; stroke-linecap:round; stroke-linejoin:round; stroke-width:4; stroke-opacity:1; fill:none\" points=\"293.729,828.772 293.729,1447.87 324.001,1447.87 324.001,828.772 293.729,828.772 \"/>\n",
       "<path clip-path=\"url(#clip362)\" d=\"M324.001 1209.76 L324.001 1447.87 L354.273 1447.87 L354.273 1209.76 L324.001 1209.76 L324.001 1209.76  Z\" fill=\"#009af9\" fill-rule=\"evenodd\" fill-opacity=\"1\"/>\n",
       "<polyline clip-path=\"url(#clip362)\" style=\"stroke:#000000; stroke-linecap:round; stroke-linejoin:round; stroke-width:4; stroke-opacity:1; fill:none\" points=\"324.001,1209.76 324.001,1447.87 354.273,1447.87 354.273,1209.76 324.001,1209.76 \"/>\n",
       "<path clip-path=\"url(#clip362)\" d=\"M354.273 1352.63 L354.273 1447.87 L384.546 1447.87 L384.546 1352.63 L354.273 1352.63 L354.273 1352.63  Z\" fill=\"#009af9\" fill-rule=\"evenodd\" fill-opacity=\"1\"/>\n",
       "<polyline clip-path=\"url(#clip362)\" style=\"stroke:#000000; stroke-linecap:round; stroke-linejoin:round; stroke-width:4; stroke-opacity:1; fill:none\" points=\"354.273,1352.63 354.273,1447.87 384.546,1447.87 384.546,1352.63 354.273,1352.63 \"/>\n",
       "<path clip-path=\"url(#clip362)\" d=\"M384.546 1424.06 L384.546 1447.87 L414.818 1447.87 L414.818 1424.06 L384.546 1424.06 L384.546 1424.06  Z\" fill=\"#009af9\" fill-rule=\"evenodd\" fill-opacity=\"1\"/>\n",
       "<polyline clip-path=\"url(#clip362)\" style=\"stroke:#000000; stroke-linecap:round; stroke-linejoin:round; stroke-width:4; stroke-opacity:1; fill:none\" points=\"384.546,1424.06 384.546,1447.87 414.818,1447.87 414.818,1424.06 384.546,1424.06 \"/>\n",
       "<path clip-path=\"url(#clip362)\" d=\"M414.818 1424.06 L414.818 1447.87 L445.09 1447.87 L445.09 1424.06 L414.818 1424.06 L414.818 1424.06  Z\" fill=\"#009af9\" fill-rule=\"evenodd\" fill-opacity=\"1\"/>\n",
       "<polyline clip-path=\"url(#clip362)\" style=\"stroke:#000000; stroke-linecap:round; stroke-linejoin:round; stroke-width:4; stroke-opacity:1; fill:none\" points=\"414.818,1424.06 414.818,1447.87 445.09,1447.87 445.09,1424.06 414.818,1424.06 \"/>\n",
       "<path clip-path=\"url(#clip362)\" d=\"M445.09 1447.87 L445.09 1447.87 L475.362 1447.87 L475.362 1447.87 L445.09 1447.87 L445.09 1447.87  Z\" fill=\"#009af9\" fill-rule=\"evenodd\" fill-opacity=\"1\"/>\n",
       "<polyline clip-path=\"url(#clip362)\" style=\"stroke:#000000; stroke-linecap:round; stroke-linejoin:round; stroke-width:4; stroke-opacity:1; fill:none\" points=\"445.09,1447.87 445.09,1447.87 475.362,1447.87 445.09,1447.87 \"/>\n",
       "<path clip-path=\"url(#clip362)\" d=\"M475.362 1447.87 L475.362 1447.87 L505.634 1447.87 L505.634 1447.87 L475.362 1447.87 L475.362 1447.87  Z\" fill=\"#009af9\" fill-rule=\"evenodd\" fill-opacity=\"1\"/>\n",
       "<polyline clip-path=\"url(#clip362)\" style=\"stroke:#000000; stroke-linecap:round; stroke-linejoin:round; stroke-width:4; stroke-opacity:1; fill:none\" points=\"475.362,1447.87 475.362,1447.87 505.634,1447.87 475.362,1447.87 \"/>\n",
       "<path clip-path=\"url(#clip362)\" d=\"M505.634 1447.87 L505.634 1447.87 L535.907 1447.87 L535.907 1447.87 L505.634 1447.87 L505.634 1447.87  Z\" fill=\"#009af9\" fill-rule=\"evenodd\" fill-opacity=\"1\"/>\n",
       "<polyline clip-path=\"url(#clip362)\" style=\"stroke:#000000; stroke-linecap:round; stroke-linejoin:round; stroke-width:4; stroke-opacity:1; fill:none\" points=\"505.634,1447.87 505.634,1447.87 535.907,1447.87 505.634,1447.87 \"/>\n",
       "<path clip-path=\"url(#clip362)\" d=\"M535.907 1447.87 L535.907 1447.87 L566.179 1447.87 L566.179 1447.87 L535.907 1447.87 L535.907 1447.87  Z\" fill=\"#009af9\" fill-rule=\"evenodd\" fill-opacity=\"1\"/>\n",
       "<polyline clip-path=\"url(#clip362)\" style=\"stroke:#000000; stroke-linecap:round; stroke-linejoin:round; stroke-width:4; stroke-opacity:1; fill:none\" points=\"535.907,1447.87 535.907,1447.87 566.179,1447.87 535.907,1447.87 \"/>\n",
       "<path clip-path=\"url(#clip362)\" d=\"M566.179 1447.87 L566.179 1447.87 L596.451 1447.87 L596.451 1447.87 L566.179 1447.87 L566.179 1447.87  Z\" fill=\"#009af9\" fill-rule=\"evenodd\" fill-opacity=\"1\"/>\n",
       "<polyline clip-path=\"url(#clip362)\" style=\"stroke:#000000; stroke-linecap:round; stroke-linejoin:round; stroke-width:4; stroke-opacity:1; fill:none\" points=\"566.179,1447.87 566.179,1447.87 596.451,1447.87 566.179,1447.87 \"/>\n",
       "<path clip-path=\"url(#clip362)\" d=\"M596.451 1447.87 L596.451 1447.87 L626.723 1447.87 L626.723 1447.87 L596.451 1447.87 L596.451 1447.87  Z\" fill=\"#009af9\" fill-rule=\"evenodd\" fill-opacity=\"1\"/>\n",
       "<polyline clip-path=\"url(#clip362)\" style=\"stroke:#000000; stroke-linecap:round; stroke-linejoin:round; stroke-width:4; stroke-opacity:1; fill:none\" points=\"596.451,1447.87 596.451,1447.87 626.723,1447.87 596.451,1447.87 \"/>\n",
       "<path clip-path=\"url(#clip362)\" d=\"M626.723 1447.87 L626.723 1447.87 L656.996 1447.87 L656.996 1447.87 L626.723 1447.87 L626.723 1447.87  Z\" fill=\"#009af9\" fill-rule=\"evenodd\" fill-opacity=\"1\"/>\n",
       "<polyline clip-path=\"url(#clip362)\" style=\"stroke:#000000; stroke-linecap:round; stroke-linejoin:round; stroke-width:4; stroke-opacity:1; fill:none\" points=\"626.723,1447.87 626.723,1447.87 656.996,1447.87 626.723,1447.87 \"/>\n",
       "<path clip-path=\"url(#clip362)\" d=\"M656.996 1447.87 L656.996 1447.87 L687.268 1447.87 L687.268 1447.87 L656.996 1447.87 L656.996 1447.87  Z\" fill=\"#009af9\" fill-rule=\"evenodd\" fill-opacity=\"1\"/>\n",
       "<polyline clip-path=\"url(#clip362)\" style=\"stroke:#000000; stroke-linecap:round; stroke-linejoin:round; stroke-width:4; stroke-opacity:1; fill:none\" points=\"656.996,1447.87 656.996,1447.87 687.268,1447.87 656.996,1447.87 \"/>\n",
       "<path clip-path=\"url(#clip362)\" d=\"M687.268 1447.87 L687.268 1447.87 L717.54 1447.87 L717.54 1447.87 L687.268 1447.87 L687.268 1447.87  Z\" fill=\"#009af9\" fill-rule=\"evenodd\" fill-opacity=\"1\"/>\n",
       "<polyline clip-path=\"url(#clip362)\" style=\"stroke:#000000; stroke-linecap:round; stroke-linejoin:round; stroke-width:4; stroke-opacity:1; fill:none\" points=\"687.268,1447.87 687.268,1447.87 717.54,1447.87 687.268,1447.87 \"/>\n",
       "<path clip-path=\"url(#clip362)\" d=\"M717.54 1447.87 L717.54 1447.87 L747.812 1447.87 L747.812 1447.87 L717.54 1447.87 L717.54 1447.87  Z\" fill=\"#009af9\" fill-rule=\"evenodd\" fill-opacity=\"1\"/>\n",
       "<polyline clip-path=\"url(#clip362)\" style=\"stroke:#000000; stroke-linecap:round; stroke-linejoin:round; stroke-width:4; stroke-opacity:1; fill:none\" points=\"717.54,1447.87 717.54,1447.87 747.812,1447.87 717.54,1447.87 \"/>\n",
       "<path clip-path=\"url(#clip362)\" d=\"M747.812 1447.87 L747.812 1447.87 L778.085 1447.87 L778.085 1447.87 L747.812 1447.87 L747.812 1447.87  Z\" fill=\"#009af9\" fill-rule=\"evenodd\" fill-opacity=\"1\"/>\n",
       "<polyline clip-path=\"url(#clip362)\" style=\"stroke:#000000; stroke-linecap:round; stroke-linejoin:round; stroke-width:4; stroke-opacity:1; fill:none\" points=\"747.812,1447.87 747.812,1447.87 778.085,1447.87 747.812,1447.87 \"/>\n",
       "<path clip-path=\"url(#clip362)\" d=\"M778.085 1447.87 L778.085 1447.87 L808.357 1447.87 L808.357 1447.87 L778.085 1447.87 L778.085 1447.87  Z\" fill=\"#009af9\" fill-rule=\"evenodd\" fill-opacity=\"1\"/>\n",
       "<polyline clip-path=\"url(#clip362)\" style=\"stroke:#000000; stroke-linecap:round; stroke-linejoin:round; stroke-width:4; stroke-opacity:1; fill:none\" points=\"778.085,1447.87 778.085,1447.87 808.357,1447.87 778.085,1447.87 \"/>\n",
       "<path clip-path=\"url(#clip362)\" d=\"M808.357 1447.87 L808.357 1447.87 L838.629 1447.87 L838.629 1447.87 L808.357 1447.87 L808.357 1447.87  Z\" fill=\"#009af9\" fill-rule=\"evenodd\" fill-opacity=\"1\"/>\n",
       "<polyline clip-path=\"url(#clip362)\" style=\"stroke:#000000; stroke-linecap:round; stroke-linejoin:round; stroke-width:4; stroke-opacity:1; fill:none\" points=\"808.357,1447.87 808.357,1447.87 838.629,1447.87 808.357,1447.87 \"/>\n",
       "<path clip-path=\"url(#clip362)\" d=\"M838.629 1447.87 L838.629 1447.87 L868.901 1447.87 L868.901 1447.87 L838.629 1447.87 L838.629 1447.87  Z\" fill=\"#009af9\" fill-rule=\"evenodd\" fill-opacity=\"1\"/>\n",
       "<polyline clip-path=\"url(#clip362)\" style=\"stroke:#000000; stroke-linecap:round; stroke-linejoin:round; stroke-width:4; stroke-opacity:1; fill:none\" points=\"838.629,1447.87 838.629,1447.87 868.901,1447.87 838.629,1447.87 \"/>\n",
       "<path clip-path=\"url(#clip362)\" d=\"M868.901 1447.87 L868.901 1447.87 L899.174 1447.87 L899.174 1447.87 L868.901 1447.87 L868.901 1447.87  Z\" fill=\"#009af9\" fill-rule=\"evenodd\" fill-opacity=\"1\"/>\n",
       "<polyline clip-path=\"url(#clip362)\" style=\"stroke:#000000; stroke-linecap:round; stroke-linejoin:round; stroke-width:4; stroke-opacity:1; fill:none\" points=\"868.901,1447.87 868.901,1447.87 899.174,1447.87 868.901,1447.87 \"/>\n",
       "<path clip-path=\"url(#clip362)\" d=\"M899.174 1447.87 L899.174 1447.87 L929.446 1447.87 L929.446 1447.87 L899.174 1447.87 L899.174 1447.87  Z\" fill=\"#009af9\" fill-rule=\"evenodd\" fill-opacity=\"1\"/>\n",
       "<polyline clip-path=\"url(#clip362)\" style=\"stroke:#000000; stroke-linecap:round; stroke-linejoin:round; stroke-width:4; stroke-opacity:1; fill:none\" points=\"899.174,1447.87 899.174,1447.87 929.446,1447.87 899.174,1447.87 \"/>\n",
       "<path clip-path=\"url(#clip362)\" d=\"M929.446 1447.87 L929.446 1447.87 L959.718 1447.87 L959.718 1447.87 L929.446 1447.87 L929.446 1447.87  Z\" fill=\"#009af9\" fill-rule=\"evenodd\" fill-opacity=\"1\"/>\n",
       "<polyline clip-path=\"url(#clip362)\" style=\"stroke:#000000; stroke-linecap:round; stroke-linejoin:round; stroke-width:4; stroke-opacity:1; fill:none\" points=\"929.446,1447.87 929.446,1447.87 959.718,1447.87 929.446,1447.87 \"/>\n",
       "<path clip-path=\"url(#clip362)\" d=\"M959.718 1447.87 L959.718 1447.87 L989.99 1447.87 L989.99 1447.87 L959.718 1447.87 L959.718 1447.87  Z\" fill=\"#009af9\" fill-rule=\"evenodd\" fill-opacity=\"1\"/>\n",
       "<polyline clip-path=\"url(#clip362)\" style=\"stroke:#000000; stroke-linecap:round; stroke-linejoin:round; stroke-width:4; stroke-opacity:1; fill:none\" points=\"959.718,1447.87 959.718,1447.87 989.99,1447.87 959.718,1447.87 \"/>\n",
       "<path clip-path=\"url(#clip362)\" d=\"M989.99 1447.87 L989.99 1447.87 L1020.26 1447.87 L1020.26 1447.87 L989.99 1447.87 L989.99 1447.87  Z\" fill=\"#009af9\" fill-rule=\"evenodd\" fill-opacity=\"1\"/>\n",
       "<polyline clip-path=\"url(#clip362)\" style=\"stroke:#000000; stroke-linecap:round; stroke-linejoin:round; stroke-width:4; stroke-opacity:1; fill:none\" points=\"989.99,1447.87 989.99,1447.87 1020.26,1447.87 989.99,1447.87 \"/>\n",
       "<path clip-path=\"url(#clip362)\" d=\"M1020.26 1447.87 L1020.26 1447.87 L1050.53 1447.87 L1050.53 1447.87 L1020.26 1447.87 L1020.26 1447.87  Z\" fill=\"#009af9\" fill-rule=\"evenodd\" fill-opacity=\"1\"/>\n",
       "<polyline clip-path=\"url(#clip362)\" style=\"stroke:#000000; stroke-linecap:round; stroke-linejoin:round; stroke-width:4; stroke-opacity:1; fill:none\" points=\"1020.26,1447.87 1020.26,1447.87 1050.53,1447.87 1020.26,1447.87 \"/>\n",
       "<path clip-path=\"url(#clip362)\" d=\"M1050.53 1447.87 L1050.53 1447.87 L1080.81 1447.87 L1080.81 1447.87 L1050.53 1447.87 L1050.53 1447.87  Z\" fill=\"#009af9\" fill-rule=\"evenodd\" fill-opacity=\"1\"/>\n",
       "<polyline clip-path=\"url(#clip362)\" style=\"stroke:#000000; stroke-linecap:round; stroke-linejoin:round; stroke-width:4; stroke-opacity:1; fill:none\" points=\"1050.53,1447.87 1050.53,1447.87 1080.81,1447.87 1050.53,1447.87 \"/>\n",
       "<path clip-path=\"url(#clip362)\" d=\"M1080.81 1447.87 L1080.81 1447.87 L1111.08 1447.87 L1111.08 1447.87 L1080.81 1447.87 L1080.81 1447.87  Z\" fill=\"#009af9\" fill-rule=\"evenodd\" fill-opacity=\"1\"/>\n",
       "<polyline clip-path=\"url(#clip362)\" style=\"stroke:#000000; stroke-linecap:round; stroke-linejoin:round; stroke-width:4; stroke-opacity:1; fill:none\" points=\"1080.81,1447.87 1080.81,1447.87 1111.08,1447.87 1080.81,1447.87 \"/>\n",
       "<path clip-path=\"url(#clip362)\" d=\"M1111.08 1447.87 L1111.08 1447.87 L1141.35 1447.87 L1141.35 1447.87 L1111.08 1447.87 L1111.08 1447.87  Z\" fill=\"#009af9\" fill-rule=\"evenodd\" fill-opacity=\"1\"/>\n",
       "<polyline clip-path=\"url(#clip362)\" style=\"stroke:#000000; stroke-linecap:round; stroke-linejoin:round; stroke-width:4; stroke-opacity:1; fill:none\" points=\"1111.08,1447.87 1111.08,1447.87 1141.35,1447.87 1111.08,1447.87 \"/>\n",
       "<path clip-path=\"url(#clip362)\" d=\"M1141.35 1447.87 L1141.35 1447.87 L1171.62 1447.87 L1171.62 1447.87 L1141.35 1447.87 L1141.35 1447.87  Z\" fill=\"#009af9\" fill-rule=\"evenodd\" fill-opacity=\"1\"/>\n",
       "<polyline clip-path=\"url(#clip362)\" style=\"stroke:#000000; stroke-linecap:round; stroke-linejoin:round; stroke-width:4; stroke-opacity:1; fill:none\" points=\"1141.35,1447.87 1141.35,1447.87 1171.62,1447.87 1141.35,1447.87 \"/>\n",
       "<path clip-path=\"url(#clip362)\" d=\"M1171.62 1447.87 L1171.62 1447.87 L1201.9 1447.87 L1201.9 1447.87 L1171.62 1447.87 L1171.62 1447.87  Z\" fill=\"#009af9\" fill-rule=\"evenodd\" fill-opacity=\"1\"/>\n",
       "<polyline clip-path=\"url(#clip362)\" style=\"stroke:#000000; stroke-linecap:round; stroke-linejoin:round; stroke-width:4; stroke-opacity:1; fill:none\" points=\"1171.62,1447.87 1171.62,1447.87 1201.9,1447.87 1171.62,1447.87 \"/>\n",
       "<path clip-path=\"url(#clip362)\" d=\"M1201.9 1447.87 L1201.9 1447.87 L1232.17 1447.87 L1232.17 1447.87 L1201.9 1447.87 L1201.9 1447.87  Z\" fill=\"#009af9\" fill-rule=\"evenodd\" fill-opacity=\"1\"/>\n",
       "<polyline clip-path=\"url(#clip362)\" style=\"stroke:#000000; stroke-linecap:round; stroke-linejoin:round; stroke-width:4; stroke-opacity:1; fill:none\" points=\"1201.9,1447.87 1201.9,1447.87 1232.17,1447.87 1201.9,1447.87 \"/>\n",
       "<path clip-path=\"url(#clip362)\" d=\"M1232.17 1447.87 L1232.17 1447.87 L1262.44 1447.87 L1262.44 1447.87 L1232.17 1447.87 L1232.17 1447.87  Z\" fill=\"#009af9\" fill-rule=\"evenodd\" fill-opacity=\"1\"/>\n",
       "<polyline clip-path=\"url(#clip362)\" style=\"stroke:#000000; stroke-linecap:round; stroke-linejoin:round; stroke-width:4; stroke-opacity:1; fill:none\" points=\"1232.17,1447.87 1232.17,1447.87 1262.44,1447.87 1232.17,1447.87 \"/>\n",
       "<path clip-path=\"url(#clip362)\" d=\"M1262.44 1447.87 L1262.44 1447.87 L1292.71 1447.87 L1292.71 1447.87 L1262.44 1447.87 L1262.44 1447.87  Z\" fill=\"#009af9\" fill-rule=\"evenodd\" fill-opacity=\"1\"/>\n",
       "<polyline clip-path=\"url(#clip362)\" style=\"stroke:#000000; stroke-linecap:round; stroke-linejoin:round; stroke-width:4; stroke-opacity:1; fill:none\" points=\"1262.44,1447.87 1262.44,1447.87 1292.71,1447.87 1262.44,1447.87 \"/>\n",
       "<path clip-path=\"url(#clip362)\" d=\"M1292.71 1447.87 L1292.71 1447.87 L1322.99 1447.87 L1322.99 1447.87 L1292.71 1447.87 L1292.71 1447.87  Z\" fill=\"#009af9\" fill-rule=\"evenodd\" fill-opacity=\"1\"/>\n",
       "<polyline clip-path=\"url(#clip362)\" style=\"stroke:#000000; stroke-linecap:round; stroke-linejoin:round; stroke-width:4; stroke-opacity:1; fill:none\" points=\"1292.71,1447.87 1292.71,1447.87 1322.99,1447.87 1292.71,1447.87 \"/>\n",
       "<path clip-path=\"url(#clip362)\" d=\"M1322.99 1447.87 L1322.99 1447.87 L1353.26 1447.87 L1353.26 1447.87 L1322.99 1447.87 L1322.99 1447.87  Z\" fill=\"#009af9\" fill-rule=\"evenodd\" fill-opacity=\"1\"/>\n",
       "<polyline clip-path=\"url(#clip362)\" style=\"stroke:#000000; stroke-linecap:round; stroke-linejoin:round; stroke-width:4; stroke-opacity:1; fill:none\" points=\"1322.99,1447.87 1322.99,1447.87 1353.26,1447.87 1322.99,1447.87 \"/>\n",
       "<path clip-path=\"url(#clip362)\" d=\"M1353.26 1447.87 L1353.26 1447.87 L1383.53 1447.87 L1383.53 1447.87 L1353.26 1447.87 L1353.26 1447.87  Z\" fill=\"#009af9\" fill-rule=\"evenodd\" fill-opacity=\"1\"/>\n",
       "<polyline clip-path=\"url(#clip362)\" style=\"stroke:#000000; stroke-linecap:round; stroke-linejoin:round; stroke-width:4; stroke-opacity:1; fill:none\" points=\"1353.26,1447.87 1353.26,1447.87 1383.53,1447.87 1353.26,1447.87 \"/>\n",
       "<path clip-path=\"url(#clip362)\" d=\"M1383.53 1447.87 L1383.53 1447.87 L1413.8 1447.87 L1413.8 1447.87 L1383.53 1447.87 L1383.53 1447.87  Z\" fill=\"#009af9\" fill-rule=\"evenodd\" fill-opacity=\"1\"/>\n",
       "<polyline clip-path=\"url(#clip362)\" style=\"stroke:#000000; stroke-linecap:round; stroke-linejoin:round; stroke-width:4; stroke-opacity:1; fill:none\" points=\"1383.53,1447.87 1383.53,1447.87 1413.8,1447.87 1383.53,1447.87 \"/>\n",
       "<path clip-path=\"url(#clip362)\" d=\"M1413.8 1447.87 L1413.8 1447.87 L1444.07 1447.87 L1444.07 1447.87 L1413.8 1447.87 L1413.8 1447.87  Z\" fill=\"#009af9\" fill-rule=\"evenodd\" fill-opacity=\"1\"/>\n",
       "<polyline clip-path=\"url(#clip362)\" style=\"stroke:#000000; stroke-linecap:round; stroke-linejoin:round; stroke-width:4; stroke-opacity:1; fill:none\" points=\"1413.8,1447.87 1413.8,1447.87 1444.07,1447.87 1413.8,1447.87 \"/>\n",
       "<path clip-path=\"url(#clip362)\" d=\"M1444.07 1447.87 L1444.07 1447.87 L1474.35 1447.87 L1474.35 1447.87 L1444.07 1447.87 L1444.07 1447.87  Z\" fill=\"#009af9\" fill-rule=\"evenodd\" fill-opacity=\"1\"/>\n",
       "<polyline clip-path=\"url(#clip362)\" style=\"stroke:#000000; stroke-linecap:round; stroke-linejoin:round; stroke-width:4; stroke-opacity:1; fill:none\" points=\"1444.07,1447.87 1444.07,1447.87 1474.35,1447.87 1444.07,1447.87 \"/>\n",
       "<path clip-path=\"url(#clip362)\" d=\"M1474.35 1447.87 L1474.35 1447.87 L1504.62 1447.87 L1504.62 1447.87 L1474.35 1447.87 L1474.35 1447.87  Z\" fill=\"#009af9\" fill-rule=\"evenodd\" fill-opacity=\"1\"/>\n",
       "<polyline clip-path=\"url(#clip362)\" style=\"stroke:#000000; stroke-linecap:round; stroke-linejoin:round; stroke-width:4; stroke-opacity:1; fill:none\" points=\"1474.35,1447.87 1474.35,1447.87 1504.62,1447.87 1474.35,1447.87 \"/>\n",
       "<path clip-path=\"url(#clip362)\" d=\"M1504.62 1447.87 L1504.62 1447.87 L1534.89 1447.87 L1534.89 1447.87 L1504.62 1447.87 L1504.62 1447.87  Z\" fill=\"#009af9\" fill-rule=\"evenodd\" fill-opacity=\"1\"/>\n",
       "<polyline clip-path=\"url(#clip362)\" style=\"stroke:#000000; stroke-linecap:round; stroke-linejoin:round; stroke-width:4; stroke-opacity:1; fill:none\" points=\"1504.62,1447.87 1504.62,1447.87 1534.89,1447.87 1504.62,1447.87 \"/>\n",
       "<path clip-path=\"url(#clip362)\" d=\"M1534.89 1447.87 L1534.89 1447.87 L1565.16 1447.87 L1565.16 1447.87 L1534.89 1447.87 L1534.89 1447.87  Z\" fill=\"#009af9\" fill-rule=\"evenodd\" fill-opacity=\"1\"/>\n",
       "<polyline clip-path=\"url(#clip362)\" style=\"stroke:#000000; stroke-linecap:round; stroke-linejoin:round; stroke-width:4; stroke-opacity:1; fill:none\" points=\"1534.89,1447.87 1534.89,1447.87 1565.16,1447.87 1534.89,1447.87 \"/>\n",
       "<path clip-path=\"url(#clip362)\" d=\"M1565.16 1447.87 L1565.16 1447.87 L1595.44 1447.87 L1595.44 1447.87 L1565.16 1447.87 L1565.16 1447.87  Z\" fill=\"#009af9\" fill-rule=\"evenodd\" fill-opacity=\"1\"/>\n",
       "<polyline clip-path=\"url(#clip362)\" style=\"stroke:#000000; stroke-linecap:round; stroke-linejoin:round; stroke-width:4; stroke-opacity:1; fill:none\" points=\"1565.16,1447.87 1565.16,1447.87 1595.44,1447.87 1565.16,1447.87 \"/>\n",
       "<path clip-path=\"url(#clip362)\" d=\"M1595.44 1447.87 L1595.44 1447.87 L1625.71 1447.87 L1625.71 1447.87 L1595.44 1447.87 L1595.44 1447.87  Z\" fill=\"#009af9\" fill-rule=\"evenodd\" fill-opacity=\"1\"/>\n",
       "<polyline clip-path=\"url(#clip362)\" style=\"stroke:#000000; stroke-linecap:round; stroke-linejoin:round; stroke-width:4; stroke-opacity:1; fill:none\" points=\"1595.44,1447.87 1595.44,1447.87 1625.71,1447.87 1595.44,1447.87 \"/>\n",
       "<path clip-path=\"url(#clip362)\" d=\"M1625.71 1447.87 L1625.71 1447.87 L1655.98 1447.87 L1655.98 1447.87 L1625.71 1447.87 L1625.71 1447.87  Z\" fill=\"#009af9\" fill-rule=\"evenodd\" fill-opacity=\"1\"/>\n",
       "<polyline clip-path=\"url(#clip362)\" style=\"stroke:#000000; stroke-linecap:round; stroke-linejoin:round; stroke-width:4; stroke-opacity:1; fill:none\" points=\"1625.71,1447.87 1625.71,1447.87 1655.98,1447.87 1625.71,1447.87 \"/>\n",
       "<path clip-path=\"url(#clip362)\" d=\"M1655.98 1424.06 L1655.98 1447.87 L1686.25 1447.87 L1686.25 1424.06 L1655.98 1424.06 L1655.98 1424.06  Z\" fill=\"#009af9\" fill-rule=\"evenodd\" fill-opacity=\"1\"/>\n",
       "<polyline clip-path=\"url(#clip362)\" style=\"stroke:#000000; stroke-linecap:round; stroke-linejoin:round; stroke-width:4; stroke-opacity:1; fill:none\" points=\"1655.98,1424.06 1655.98,1447.87 1686.25,1447.87 1686.25,1424.06 1655.98,1424.06 \"/>\n",
       "<path clip-path=\"url(#clip362)\" d=\"M1686.25 1447.87 L1686.25 1447.87 L1716.52 1447.87 L1716.52 1447.87 L1686.25 1447.87 L1686.25 1447.87  Z\" fill=\"#009af9\" fill-rule=\"evenodd\" fill-opacity=\"1\"/>\n",
       "<polyline clip-path=\"url(#clip362)\" style=\"stroke:#000000; stroke-linecap:round; stroke-linejoin:round; stroke-width:4; stroke-opacity:1; fill:none\" points=\"1686.25,1447.87 1686.25,1447.87 1716.52,1447.87 1686.25,1447.87 \"/>\n",
       "<path clip-path=\"url(#clip362)\" d=\"M1716.52 1447.87 L1716.52 1447.87 L1746.8 1447.87 L1746.8 1447.87 L1716.52 1447.87 L1716.52 1447.87  Z\" fill=\"#009af9\" fill-rule=\"evenodd\" fill-opacity=\"1\"/>\n",
       "<polyline clip-path=\"url(#clip362)\" style=\"stroke:#000000; stroke-linecap:round; stroke-linejoin:round; stroke-width:4; stroke-opacity:1; fill:none\" points=\"1716.52,1447.87 1716.52,1447.87 1746.8,1447.87 1716.52,1447.87 \"/>\n",
       "<path clip-path=\"url(#clip362)\" d=\"M1746.8 1447.87 L1746.8 1447.87 L1777.07 1447.87 L1777.07 1447.87 L1746.8 1447.87 L1746.8 1447.87  Z\" fill=\"#009af9\" fill-rule=\"evenodd\" fill-opacity=\"1\"/>\n",
       "<polyline clip-path=\"url(#clip362)\" style=\"stroke:#000000; stroke-linecap:round; stroke-linejoin:round; stroke-width:4; stroke-opacity:1; fill:none\" points=\"1746.8,1447.87 1746.8,1447.87 1777.07,1447.87 1746.8,1447.87 \"/>\n",
       "<path clip-path=\"url(#clip362)\" d=\"M1777.07 1447.87 L1777.07 1447.87 L1807.34 1447.87 L1807.34 1447.87 L1777.07 1447.87 L1777.07 1447.87  Z\" fill=\"#009af9\" fill-rule=\"evenodd\" fill-opacity=\"1\"/>\n",
       "<polyline clip-path=\"url(#clip362)\" style=\"stroke:#000000; stroke-linecap:round; stroke-linejoin:round; stroke-width:4; stroke-opacity:1; fill:none\" points=\"1777.07,1447.87 1777.07,1447.87 1807.34,1447.87 1777.07,1447.87 \"/>\n",
       "<path clip-path=\"url(#clip362)\" d=\"M1807.34 1447.87 L1807.34 1447.87 L1837.61 1447.87 L1837.61 1447.87 L1807.34 1447.87 L1807.34 1447.87  Z\" fill=\"#009af9\" fill-rule=\"evenodd\" fill-opacity=\"1\"/>\n",
       "<polyline clip-path=\"url(#clip362)\" style=\"stroke:#000000; stroke-linecap:round; stroke-linejoin:round; stroke-width:4; stroke-opacity:1; fill:none\" points=\"1807.34,1447.87 1807.34,1447.87 1837.61,1447.87 1807.34,1447.87 \"/>\n",
       "<path clip-path=\"url(#clip362)\" d=\"M1837.61 1447.87 L1837.61 1447.87 L1867.89 1447.87 L1867.89 1447.87 L1837.61 1447.87 L1837.61 1447.87  Z\" fill=\"#009af9\" fill-rule=\"evenodd\" fill-opacity=\"1\"/>\n",
       "<polyline clip-path=\"url(#clip362)\" style=\"stroke:#000000; stroke-linecap:round; stroke-linejoin:round; stroke-width:4; stroke-opacity:1; fill:none\" points=\"1837.61,1447.87 1837.61,1447.87 1867.89,1447.87 1837.61,1447.87 \"/>\n",
       "<path clip-path=\"url(#clip362)\" d=\"M1867.89 1447.87 L1867.89 1447.87 L1898.16 1447.87 L1898.16 1447.87 L1867.89 1447.87 L1867.89 1447.87  Z\" fill=\"#009af9\" fill-rule=\"evenodd\" fill-opacity=\"1\"/>\n",
       "<polyline clip-path=\"url(#clip362)\" style=\"stroke:#000000; stroke-linecap:round; stroke-linejoin:round; stroke-width:4; stroke-opacity:1; fill:none\" points=\"1867.89,1447.87 1867.89,1447.87 1898.16,1447.87 1867.89,1447.87 \"/>\n",
       "<path clip-path=\"url(#clip362)\" d=\"M1898.16 1447.87 L1898.16 1447.87 L1928.43 1447.87 L1928.43 1447.87 L1898.16 1447.87 L1898.16 1447.87  Z\" fill=\"#009af9\" fill-rule=\"evenodd\" fill-opacity=\"1\"/>\n",
       "<polyline clip-path=\"url(#clip362)\" style=\"stroke:#000000; stroke-linecap:round; stroke-linejoin:round; stroke-width:4; stroke-opacity:1; fill:none\" points=\"1898.16,1447.87 1898.16,1447.87 1928.43,1447.87 1898.16,1447.87 \"/>\n",
       "<path clip-path=\"url(#clip362)\" d=\"M1928.43 1447.87 L1928.43 1447.87 L1958.7 1447.87 L1958.7 1447.87 L1928.43 1447.87 L1928.43 1447.87  Z\" fill=\"#009af9\" fill-rule=\"evenodd\" fill-opacity=\"1\"/>\n",
       "<polyline clip-path=\"url(#clip362)\" style=\"stroke:#000000; stroke-linecap:round; stroke-linejoin:round; stroke-width:4; stroke-opacity:1; fill:none\" points=\"1928.43,1447.87 1928.43,1447.87 1958.7,1447.87 1928.43,1447.87 \"/>\n",
       "<path clip-path=\"url(#clip362)\" d=\"M1958.7 1447.87 L1958.7 1447.87 L1988.97 1447.87 L1988.97 1447.87 L1958.7 1447.87 L1958.7 1447.87  Z\" fill=\"#009af9\" fill-rule=\"evenodd\" fill-opacity=\"1\"/>\n",
       "<polyline clip-path=\"url(#clip362)\" style=\"stroke:#000000; stroke-linecap:round; stroke-linejoin:round; stroke-width:4; stroke-opacity:1; fill:none\" points=\"1958.7,1447.87 1958.7,1447.87 1988.97,1447.87 1958.7,1447.87 \"/>\n",
       "<path clip-path=\"url(#clip362)\" d=\"M1988.97 1447.87 L1988.97 1447.87 L2019.25 1447.87 L2019.25 1447.87 L1988.97 1447.87 L1988.97 1447.87  Z\" fill=\"#009af9\" fill-rule=\"evenodd\" fill-opacity=\"1\"/>\n",
       "<polyline clip-path=\"url(#clip362)\" style=\"stroke:#000000; stroke-linecap:round; stroke-linejoin:round; stroke-width:4; stroke-opacity:1; fill:none\" points=\"1988.97,1447.87 1988.97,1447.87 2019.25,1447.87 1988.97,1447.87 \"/>\n",
       "<path clip-path=\"url(#clip362)\" d=\"M2019.25 1447.87 L2019.25 1447.87 L2049.52 1447.87 L2049.52 1447.87 L2019.25 1447.87 L2019.25 1447.87  Z\" fill=\"#009af9\" fill-rule=\"evenodd\" fill-opacity=\"1\"/>\n",
       "<polyline clip-path=\"url(#clip362)\" style=\"stroke:#000000; stroke-linecap:round; stroke-linejoin:round; stroke-width:4; stroke-opacity:1; fill:none\" points=\"2019.25,1447.87 2019.25,1447.87 2049.52,1447.87 2019.25,1447.87 \"/>\n",
       "<path clip-path=\"url(#clip362)\" d=\"M2049.52 1447.87 L2049.52 1447.87 L2079.79 1447.87 L2079.79 1447.87 L2049.52 1447.87 L2049.52 1447.87  Z\" fill=\"#009af9\" fill-rule=\"evenodd\" fill-opacity=\"1\"/>\n",
       "<polyline clip-path=\"url(#clip362)\" style=\"stroke:#000000; stroke-linecap:round; stroke-linejoin:round; stroke-width:4; stroke-opacity:1; fill:none\" points=\"2049.52,1447.87 2049.52,1447.87 2079.79,1447.87 2049.52,1447.87 \"/>\n",
       "<path clip-path=\"url(#clip362)\" d=\"M2079.79 1424.06 L2079.79 1447.87 L2110.06 1447.87 L2110.06 1424.06 L2079.79 1424.06 L2079.79 1424.06  Z\" fill=\"#009af9\" fill-rule=\"evenodd\" fill-opacity=\"1\"/>\n",
       "<polyline clip-path=\"url(#clip362)\" style=\"stroke:#000000; stroke-linecap:round; stroke-linejoin:round; stroke-width:4; stroke-opacity:1; fill:none\" points=\"2079.79,1424.06 2079.79,1447.87 2110.06,1447.87 2110.06,1424.06 2079.79,1424.06 \"/>\n",
       "<path clip-path=\"url(#clip362)\" d=\"M2110.06 1447.87 L2110.06 1447.87 L2140.34 1447.87 L2140.34 1447.87 L2110.06 1447.87 L2110.06 1447.87  Z\" fill=\"#009af9\" fill-rule=\"evenodd\" fill-opacity=\"1\"/>\n",
       "<polyline clip-path=\"url(#clip362)\" style=\"stroke:#000000; stroke-linecap:round; stroke-linejoin:round; stroke-width:4; stroke-opacity:1; fill:none\" points=\"2110.06,1447.87 2110.06,1447.87 2140.34,1447.87 2110.06,1447.87 \"/>\n",
       "<path clip-path=\"url(#clip362)\" d=\"M2140.34 1424.06 L2140.34 1447.87 L2170.61 1447.87 L2170.61 1424.06 L2140.34 1424.06 L2140.34 1424.06  Z\" fill=\"#009af9\" fill-rule=\"evenodd\" fill-opacity=\"1\"/>\n",
       "<polyline clip-path=\"url(#clip362)\" style=\"stroke:#000000; stroke-linecap:round; stroke-linejoin:round; stroke-width:4; stroke-opacity:1; fill:none\" points=\"2140.34,1424.06 2140.34,1447.87 2170.61,1447.87 2170.61,1424.06 2140.34,1424.06 \"/>\n",
       "<path clip-path=\"url(#clip362)\" d=\"M2170.61 1447.87 L2170.61 1447.87 L2200.88 1447.87 L2200.88 1447.87 L2170.61 1447.87 L2170.61 1447.87  Z\" fill=\"#009af9\" fill-rule=\"evenodd\" fill-opacity=\"1\"/>\n",
       "<polyline clip-path=\"url(#clip362)\" style=\"stroke:#000000; stroke-linecap:round; stroke-linejoin:round; stroke-width:4; stroke-opacity:1; fill:none\" points=\"2170.61,1447.87 2170.61,1447.87 2200.88,1447.87 2170.61,1447.87 \"/>\n",
       "<path clip-path=\"url(#clip362)\" d=\"M2200.88 1424.06 L2200.88 1447.87 L2231.15 1447.87 L2231.15 1424.06 L2200.88 1424.06 L2200.88 1424.06  Z\" fill=\"#009af9\" fill-rule=\"evenodd\" fill-opacity=\"1\"/>\n",
       "<polyline clip-path=\"url(#clip362)\" style=\"stroke:#000000; stroke-linecap:round; stroke-linejoin:round; stroke-width:4; stroke-opacity:1; fill:none\" points=\"2200.88,1424.06 2200.88,1447.87 2231.15,1447.87 2231.15,1424.06 2200.88,1424.06 \"/>\n",
       "<circle clip-path=\"url(#clip362)\" style=\"fill:#009af9; stroke:none; fill-opacity:0\" cx=\"278.593\" cy=\"162.047\" r=\"2\"/>\n",
       "<circle clip-path=\"url(#clip362)\" style=\"fill:#009af9; stroke:none; fill-opacity:0\" cx=\"308.865\" cy=\"828.772\" r=\"2\"/>\n",
       "<circle clip-path=\"url(#clip362)\" style=\"fill:#009af9; stroke:none; fill-opacity:0\" cx=\"339.137\" cy=\"1209.76\" r=\"2\"/>\n",
       "<circle clip-path=\"url(#clip362)\" style=\"fill:#009af9; stroke:none; fill-opacity:0\" cx=\"369.409\" cy=\"1352.63\" r=\"2\"/>\n",
       "<circle clip-path=\"url(#clip362)\" style=\"fill:#009af9; stroke:none; fill-opacity:0\" cx=\"399.682\" cy=\"1424.06\" r=\"2\"/>\n",
       "<circle clip-path=\"url(#clip362)\" style=\"fill:#009af9; stroke:none; fill-opacity:0\" cx=\"429.954\" cy=\"1424.06\" r=\"2\"/>\n",
       "<circle clip-path=\"url(#clip362)\" style=\"fill:#009af9; stroke:none; fill-opacity:0\" cx=\"460.226\" cy=\"1447.87\" r=\"2\"/>\n",
       "<circle clip-path=\"url(#clip362)\" style=\"fill:#009af9; stroke:none; fill-opacity:0\" cx=\"490.498\" cy=\"1447.87\" r=\"2\"/>\n",
       "<circle clip-path=\"url(#clip362)\" style=\"fill:#009af9; stroke:none; fill-opacity:0\" cx=\"520.771\" cy=\"1447.87\" r=\"2\"/>\n",
       "<circle clip-path=\"url(#clip362)\" style=\"fill:#009af9; stroke:none; fill-opacity:0\" cx=\"551.043\" cy=\"1447.87\" r=\"2\"/>\n",
       "<circle clip-path=\"url(#clip362)\" style=\"fill:#009af9; stroke:none; fill-opacity:0\" cx=\"581.315\" cy=\"1447.87\" r=\"2\"/>\n",
       "<circle clip-path=\"url(#clip362)\" style=\"fill:#009af9; stroke:none; fill-opacity:0\" cx=\"611.587\" cy=\"1447.87\" r=\"2\"/>\n",
       "<circle clip-path=\"url(#clip362)\" style=\"fill:#009af9; stroke:none; fill-opacity:0\" cx=\"641.86\" cy=\"1447.87\" r=\"2\"/>\n",
       "<circle clip-path=\"url(#clip362)\" style=\"fill:#009af9; stroke:none; fill-opacity:0\" cx=\"672.132\" cy=\"1447.87\" r=\"2\"/>\n",
       "<circle clip-path=\"url(#clip362)\" style=\"fill:#009af9; stroke:none; fill-opacity:0\" cx=\"702.404\" cy=\"1447.87\" r=\"2\"/>\n",
       "<circle clip-path=\"url(#clip362)\" style=\"fill:#009af9; stroke:none; fill-opacity:0\" cx=\"732.676\" cy=\"1447.87\" r=\"2\"/>\n",
       "<circle clip-path=\"url(#clip362)\" style=\"fill:#009af9; stroke:none; fill-opacity:0\" cx=\"762.949\" cy=\"1447.87\" r=\"2\"/>\n",
       "<circle clip-path=\"url(#clip362)\" style=\"fill:#009af9; stroke:none; fill-opacity:0\" cx=\"793.221\" cy=\"1447.87\" r=\"2\"/>\n",
       "<circle clip-path=\"url(#clip362)\" style=\"fill:#009af9; stroke:none; fill-opacity:0\" cx=\"823.493\" cy=\"1447.87\" r=\"2\"/>\n",
       "<circle clip-path=\"url(#clip362)\" style=\"fill:#009af9; stroke:none; fill-opacity:0\" cx=\"853.765\" cy=\"1447.87\" r=\"2\"/>\n",
       "<circle clip-path=\"url(#clip362)\" style=\"fill:#009af9; stroke:none; fill-opacity:0\" cx=\"884.038\" cy=\"1447.87\" r=\"2\"/>\n",
       "<circle clip-path=\"url(#clip362)\" style=\"fill:#009af9; stroke:none; fill-opacity:0\" cx=\"914.31\" cy=\"1447.87\" r=\"2\"/>\n",
       "<circle clip-path=\"url(#clip362)\" style=\"fill:#009af9; stroke:none; fill-opacity:0\" cx=\"944.582\" cy=\"1447.87\" r=\"2\"/>\n",
       "<circle clip-path=\"url(#clip362)\" style=\"fill:#009af9; stroke:none; fill-opacity:0\" cx=\"974.854\" cy=\"1447.87\" r=\"2\"/>\n",
       "<circle clip-path=\"url(#clip362)\" style=\"fill:#009af9; stroke:none; fill-opacity:0\" cx=\"1005.13\" cy=\"1447.87\" r=\"2\"/>\n",
       "<circle clip-path=\"url(#clip362)\" style=\"fill:#009af9; stroke:none; fill-opacity:0\" cx=\"1035.4\" cy=\"1447.87\" r=\"2\"/>\n",
       "<circle clip-path=\"url(#clip362)\" style=\"fill:#009af9; stroke:none; fill-opacity:0\" cx=\"1065.67\" cy=\"1447.87\" r=\"2\"/>\n",
       "<circle clip-path=\"url(#clip362)\" style=\"fill:#009af9; stroke:none; fill-opacity:0\" cx=\"1095.94\" cy=\"1447.87\" r=\"2\"/>\n",
       "<circle clip-path=\"url(#clip362)\" style=\"fill:#009af9; stroke:none; fill-opacity:0\" cx=\"1126.22\" cy=\"1447.87\" r=\"2\"/>\n",
       "<circle clip-path=\"url(#clip362)\" style=\"fill:#009af9; stroke:none; fill-opacity:0\" cx=\"1156.49\" cy=\"1447.87\" r=\"2\"/>\n",
       "<circle clip-path=\"url(#clip362)\" style=\"fill:#009af9; stroke:none; fill-opacity:0\" cx=\"1186.76\" cy=\"1447.87\" r=\"2\"/>\n",
       "<circle clip-path=\"url(#clip362)\" style=\"fill:#009af9; stroke:none; fill-opacity:0\" cx=\"1217.03\" cy=\"1447.87\" r=\"2\"/>\n",
       "<circle clip-path=\"url(#clip362)\" style=\"fill:#009af9; stroke:none; fill-opacity:0\" cx=\"1247.3\" cy=\"1447.87\" r=\"2\"/>\n",
       "<circle clip-path=\"url(#clip362)\" style=\"fill:#009af9; stroke:none; fill-opacity:0\" cx=\"1277.58\" cy=\"1447.87\" r=\"2\"/>\n",
       "<circle clip-path=\"url(#clip362)\" style=\"fill:#009af9; stroke:none; fill-opacity:0\" cx=\"1307.85\" cy=\"1447.87\" r=\"2\"/>\n",
       "<circle clip-path=\"url(#clip362)\" style=\"fill:#009af9; stroke:none; fill-opacity:0\" cx=\"1338.12\" cy=\"1447.87\" r=\"2\"/>\n",
       "<circle clip-path=\"url(#clip362)\" style=\"fill:#009af9; stroke:none; fill-opacity:0\" cx=\"1368.39\" cy=\"1447.87\" r=\"2\"/>\n",
       "<circle clip-path=\"url(#clip362)\" style=\"fill:#009af9; stroke:none; fill-opacity:0\" cx=\"1398.67\" cy=\"1447.87\" r=\"2\"/>\n",
       "<circle clip-path=\"url(#clip362)\" style=\"fill:#009af9; stroke:none; fill-opacity:0\" cx=\"1428.94\" cy=\"1447.87\" r=\"2\"/>\n",
       "<circle clip-path=\"url(#clip362)\" style=\"fill:#009af9; stroke:none; fill-opacity:0\" cx=\"1459.21\" cy=\"1447.87\" r=\"2\"/>\n",
       "<circle clip-path=\"url(#clip362)\" style=\"fill:#009af9; stroke:none; fill-opacity:0\" cx=\"1489.48\" cy=\"1447.87\" r=\"2\"/>\n",
       "<circle clip-path=\"url(#clip362)\" style=\"fill:#009af9; stroke:none; fill-opacity:0\" cx=\"1519.75\" cy=\"1447.87\" r=\"2\"/>\n",
       "<circle clip-path=\"url(#clip362)\" style=\"fill:#009af9; stroke:none; fill-opacity:0\" cx=\"1550.03\" cy=\"1447.87\" r=\"2\"/>\n",
       "<circle clip-path=\"url(#clip362)\" style=\"fill:#009af9; stroke:none; fill-opacity:0\" cx=\"1580.3\" cy=\"1447.87\" r=\"2\"/>\n",
       "<circle clip-path=\"url(#clip362)\" style=\"fill:#009af9; stroke:none; fill-opacity:0\" cx=\"1610.57\" cy=\"1447.87\" r=\"2\"/>\n",
       "<circle clip-path=\"url(#clip362)\" style=\"fill:#009af9; stroke:none; fill-opacity:0\" cx=\"1640.84\" cy=\"1447.87\" r=\"2\"/>\n",
       "<circle clip-path=\"url(#clip362)\" style=\"fill:#009af9; stroke:none; fill-opacity:0\" cx=\"1671.12\" cy=\"1424.06\" r=\"2\"/>\n",
       "<circle clip-path=\"url(#clip362)\" style=\"fill:#009af9; stroke:none; fill-opacity:0\" cx=\"1701.39\" cy=\"1447.87\" r=\"2\"/>\n",
       "<circle clip-path=\"url(#clip362)\" style=\"fill:#009af9; stroke:none; fill-opacity:0\" cx=\"1731.66\" cy=\"1447.87\" r=\"2\"/>\n",
       "<circle clip-path=\"url(#clip362)\" style=\"fill:#009af9; stroke:none; fill-opacity:0\" cx=\"1761.93\" cy=\"1447.87\" r=\"2\"/>\n",
       "<circle clip-path=\"url(#clip362)\" style=\"fill:#009af9; stroke:none; fill-opacity:0\" cx=\"1792.2\" cy=\"1447.87\" r=\"2\"/>\n",
       "<circle clip-path=\"url(#clip362)\" style=\"fill:#009af9; stroke:none; fill-opacity:0\" cx=\"1822.48\" cy=\"1447.87\" r=\"2\"/>\n",
       "<circle clip-path=\"url(#clip362)\" style=\"fill:#009af9; stroke:none; fill-opacity:0\" cx=\"1852.75\" cy=\"1447.87\" r=\"2\"/>\n",
       "<circle clip-path=\"url(#clip362)\" style=\"fill:#009af9; stroke:none; fill-opacity:0\" cx=\"1883.02\" cy=\"1447.87\" r=\"2\"/>\n",
       "<circle clip-path=\"url(#clip362)\" style=\"fill:#009af9; stroke:none; fill-opacity:0\" cx=\"1913.29\" cy=\"1447.87\" r=\"2\"/>\n",
       "<circle clip-path=\"url(#clip362)\" style=\"fill:#009af9; stroke:none; fill-opacity:0\" cx=\"1943.57\" cy=\"1447.87\" r=\"2\"/>\n",
       "<circle clip-path=\"url(#clip362)\" style=\"fill:#009af9; stroke:none; fill-opacity:0\" cx=\"1973.84\" cy=\"1447.87\" r=\"2\"/>\n",
       "<circle clip-path=\"url(#clip362)\" style=\"fill:#009af9; stroke:none; fill-opacity:0\" cx=\"2004.11\" cy=\"1447.87\" r=\"2\"/>\n",
       "<circle clip-path=\"url(#clip362)\" style=\"fill:#009af9; stroke:none; fill-opacity:0\" cx=\"2034.38\" cy=\"1447.87\" r=\"2\"/>\n",
       "<circle clip-path=\"url(#clip362)\" style=\"fill:#009af9; stroke:none; fill-opacity:0\" cx=\"2064.65\" cy=\"1447.87\" r=\"2\"/>\n",
       "<circle clip-path=\"url(#clip362)\" style=\"fill:#009af9; stroke:none; fill-opacity:0\" cx=\"2094.93\" cy=\"1424.06\" r=\"2\"/>\n",
       "<circle clip-path=\"url(#clip362)\" style=\"fill:#009af9; stroke:none; fill-opacity:0\" cx=\"2125.2\" cy=\"1447.87\" r=\"2\"/>\n",
       "<circle clip-path=\"url(#clip362)\" style=\"fill:#009af9; stroke:none; fill-opacity:0\" cx=\"2155.47\" cy=\"1424.06\" r=\"2\"/>\n",
       "<circle clip-path=\"url(#clip362)\" style=\"fill:#009af9; stroke:none; fill-opacity:0\" cx=\"2185.74\" cy=\"1447.87\" r=\"2\"/>\n",
       "<circle clip-path=\"url(#clip362)\" style=\"fill:#009af9; stroke:none; fill-opacity:0\" cx=\"2216.02\" cy=\"1424.06\" r=\"2\"/>\n",
       "<path clip-path=\"url(#clip362)\" d=\"M1171.62 1376.44 L1171.62 1447.87 L1474.35 1447.87 L1474.35 1376.44 L1171.62 1376.44 L1171.62 1376.44  Z\" fill=\"#e26f46\" fill-rule=\"evenodd\" fill-opacity=\"1\"/>\n",
       "<polyline clip-path=\"url(#clip362)\" style=\"stroke:#000000; stroke-linecap:round; stroke-linejoin:round; stroke-width:4; stroke-opacity:1; fill:none\" points=\"1171.62,1376.44 1171.62,1447.87 1474.35,1447.87 1474.35,1376.44 1171.62,1376.44 \"/>\n",
       "<path clip-path=\"url(#clip362)\" d=\"M1474.35 1328.82 L1474.35 1447.87 L1777.07 1447.87 L1777.07 1328.82 L1474.35 1328.82 L1474.35 1328.82  Z\" fill=\"#e26f46\" fill-rule=\"evenodd\" fill-opacity=\"1\"/>\n",
       "<polyline clip-path=\"url(#clip362)\" style=\"stroke:#000000; stroke-linecap:round; stroke-linejoin:round; stroke-width:4; stroke-opacity:1; fill:none\" points=\"1474.35,1328.82 1474.35,1447.87 1777.07,1447.87 1777.07,1328.82 1474.35,1328.82 \"/>\n",
       "<path clip-path=\"url(#clip362)\" d=\"M1777.07 1400.25 L1777.07 1447.87 L2079.79 1447.87 L2079.79 1400.25 L1777.07 1400.25 L1777.07 1400.25  Z\" fill=\"#e26f46\" fill-rule=\"evenodd\" fill-opacity=\"1\"/>\n",
       "<polyline clip-path=\"url(#clip362)\" style=\"stroke:#000000; stroke-linecap:round; stroke-linejoin:round; stroke-width:4; stroke-opacity:1; fill:none\" points=\"1777.07,1400.25 1777.07,1447.87 2079.79,1447.87 2079.79,1400.25 1777.07,1400.25 \"/>\n",
       "<circle clip-path=\"url(#clip362)\" style=\"fill:#e26f46; stroke:none; fill-opacity:0\" cx=\"1322.99\" cy=\"1376.44\" r=\"2\"/>\n",
       "<circle clip-path=\"url(#clip362)\" style=\"fill:#e26f46; stroke:none; fill-opacity:0\" cx=\"1625.71\" cy=\"1328.82\" r=\"2\"/>\n",
       "<circle clip-path=\"url(#clip362)\" style=\"fill:#e26f46; stroke:none; fill-opacity:0\" cx=\"1928.43\" cy=\"1400.25\" r=\"2\"/>\n",
       "<path clip-path=\"url(#clip360)\" d=\"M1787.81 324.425 L2279.06 324.425 L2279.06 168.905 L1787.81 168.905  Z\" fill=\"#ffffff\" fill-rule=\"evenodd\" fill-opacity=\"1\"/>\n",
       "<polyline clip-path=\"url(#clip360)\" style=\"stroke:#000000; stroke-linecap:round; stroke-linejoin:round; stroke-width:4; stroke-opacity:1; fill:none\" points=\"1787.81,324.425 2279.06,324.425 2279.06,168.905 1787.81,168.905 1787.81,324.425 \"/>\n",
       "<path clip-path=\"url(#clip360)\" d=\"M1812.37 241.481 L1959.77 241.481 L1959.77 200.009 L1812.37 200.009 L1812.37 241.481  Z\" fill=\"#009af9\" fill-rule=\"evenodd\" fill-opacity=\"1\"/>\n",
       "<polyline clip-path=\"url(#clip360)\" style=\"stroke:#000000; stroke-linecap:round; stroke-linejoin:round; stroke-width:4; stroke-opacity:1; fill:none\" points=\"1812.37,241.481 1959.77,241.481 1959.77,200.009 1812.37,200.009 1812.37,241.481 \"/>\n",
       "<path clip-path=\"url(#clip360)\" d=\"M2003.11 225.085 Q2003.11 220.386 2001.16 217.724 Q1999.24 215.039 1995.86 215.039 Q1992.48 215.039 1990.54 217.724 Q1988.62 220.386 1988.62 225.085 Q1988.62 229.784 1990.54 232.469 Q1992.48 235.131 1995.86 235.131 Q1999.24 235.131 2001.16 232.469 Q2003.11 229.784 2003.11 225.085 M1988.62 216.034 Q1989.96 213.719 1991.99 212.608 Q1994.06 211.474 1996.9 211.474 Q2001.62 211.474 2004.56 215.224 Q2007.53 218.974 2007.53 225.085 Q2007.53 231.196 2004.56 234.946 Q2001.62 238.696 1996.9 238.696 Q1994.06 238.696 1991.99 237.585 Q1989.96 236.451 1988.62 234.136 L1988.62 238.025 L1984.33 238.025 L1984.33 202.006 L1988.62 202.006 L1988.62 216.034 Z\" fill=\"#000000\" fill-rule=\"nonzero\" fill-opacity=\"1\" /><path clip-path=\"url(#clip360)\" d=\"M2026.37 224.992 Q2021.21 224.992 2019.22 226.173 Q2017.23 227.353 2017.23 230.201 Q2017.23 232.469 2018.71 233.812 Q2020.21 235.131 2022.78 235.131 Q2026.32 235.131 2028.45 232.631 Q2030.61 230.108 2030.61 225.941 L2030.61 224.992 L2026.37 224.992 M2034.87 223.233 L2034.87 238.025 L2030.61 238.025 L2030.61 234.089 Q2029.15 236.451 2026.97 237.585 Q2024.8 238.696 2021.65 238.696 Q2017.67 238.696 2015.31 236.474 Q2012.97 234.228 2012.97 230.478 Q2012.97 226.103 2015.88 223.881 Q2018.82 221.659 2024.63 221.659 L2030.61 221.659 L2030.61 221.242 Q2030.61 218.303 2028.66 216.705 Q2026.74 215.085 2023.24 215.085 Q2021.02 215.085 2018.92 215.617 Q2016.81 216.15 2014.87 217.215 L2014.87 213.279 Q2017.2 212.377 2019.4 211.937 Q2021.6 211.474 2023.68 211.474 Q2029.31 211.474 2032.09 214.391 Q2034.87 217.307 2034.87 223.233 Z\" fill=\"#000000\" fill-rule=\"nonzero\" fill-opacity=\"1\" /><path clip-path=\"url(#clip360)\" d=\"M2060.17 212.863 L2060.17 216.891 Q2058.36 215.965 2056.42 215.502 Q2054.47 215.039 2052.39 215.039 Q2049.22 215.039 2047.62 216.011 Q2046.05 216.983 2046.05 218.928 Q2046.05 220.409 2047.18 221.265 Q2048.31 222.099 2051.74 222.863 L2053.2 223.187 Q2057.74 224.159 2059.63 225.941 Q2061.55 227.701 2061.55 230.872 Q2061.55 234.483 2058.68 236.589 Q2055.84 238.696 2050.84 238.696 Q2048.75 238.696 2046.49 238.279 Q2044.24 237.886 2041.74 237.076 L2041.74 232.677 Q2044.1 233.904 2046.39 234.529 Q2048.68 235.131 2050.93 235.131 Q2053.94 235.131 2055.56 234.113 Q2057.18 233.071 2057.18 231.196 Q2057.18 229.46 2056 228.534 Q2054.84 227.608 2050.88 226.752 L2049.4 226.404 Q2045.44 225.571 2043.68 223.858 Q2041.93 222.122 2041.93 219.113 Q2041.93 215.455 2044.52 213.465 Q2047.11 211.474 2051.88 211.474 Q2054.24 211.474 2056.32 211.821 Q2058.41 212.168 2060.17 212.863 Z\" fill=\"#000000\" fill-rule=\"nonzero\" fill-opacity=\"1\" /><path clip-path=\"url(#clip360)\" d=\"M2090.51 223.997 L2090.51 226.08 L2070.93 226.08 Q2071.21 230.478 2073.57 232.793 Q2075.95 235.085 2080.19 235.085 Q2082.64 235.085 2084.93 234.483 Q2087.25 233.881 2089.52 232.677 L2089.52 236.705 Q2087.23 237.677 2084.82 238.187 Q2082.41 238.696 2079.93 238.696 Q2073.73 238.696 2070.1 235.085 Q2066.49 231.474 2066.49 225.316 Q2066.49 218.951 2069.91 215.224 Q2073.36 211.474 2079.19 211.474 Q2084.43 211.474 2087.46 214.853 Q2090.51 218.21 2090.51 223.997 M2086.25 222.747 Q2086.21 219.252 2084.29 217.168 Q2082.39 215.085 2079.24 215.085 Q2075.68 215.085 2073.52 217.099 Q2071.39 219.113 2071.07 222.77 L2086.25 222.747 Z\" fill=\"#000000\" fill-rule=\"nonzero\" fill-opacity=\"1\" /><path clip-path=\"url(#clip360)\" d=\"M2097.5 202.006 L2101.76 202.006 L2101.76 238.025 L2097.5 238.025 L2097.5 202.006 Z\" fill=\"#000000\" fill-rule=\"nonzero\" fill-opacity=\"1\" /><path clip-path=\"url(#clip360)\" d=\"M2110.67 212.099 L2114.93 212.099 L2114.93 238.025 L2110.67 238.025 L2110.67 212.099 M2110.67 202.006 L2114.93 202.006 L2114.93 207.4 L2110.67 207.4 L2110.67 202.006 Z\" fill=\"#000000\" fill-rule=\"nonzero\" fill-opacity=\"1\" /><path clip-path=\"url(#clip360)\" d=\"M2145.4 222.377 L2145.4 238.025 L2141.14 238.025 L2141.14 222.515 Q2141.14 218.835 2139.7 217.006 Q2138.27 215.178 2135.4 215.178 Q2131.95 215.178 2129.96 217.377 Q2127.97 219.576 2127.97 223.372 L2127.97 238.025 L2123.68 238.025 L2123.68 212.099 L2127.97 212.099 L2127.97 216.127 Q2129.49 213.789 2131.55 212.631 Q2133.64 211.474 2136.35 211.474 Q2140.81 211.474 2143.11 214.252 Q2145.4 217.006 2145.4 222.377 Z\" fill=\"#000000\" fill-rule=\"nonzero\" fill-opacity=\"1\" /><path clip-path=\"url(#clip360)\" d=\"M2176.07 223.997 L2176.07 226.08 L2156.48 226.08 Q2156.76 230.478 2159.12 232.793 Q2161.51 235.085 2165.74 235.085 Q2168.2 235.085 2170.49 234.483 Q2172.8 233.881 2175.07 232.677 L2175.07 236.705 Q2172.78 237.677 2170.37 238.187 Q2167.97 238.696 2165.49 238.696 Q2159.29 238.696 2155.65 235.085 Q2152.04 231.474 2152.04 225.316 Q2152.04 218.951 2155.47 215.224 Q2158.92 211.474 2164.75 211.474 Q2169.98 211.474 2173.01 214.853 Q2176.07 218.21 2176.07 223.997 M2171.81 222.747 Q2171.76 219.252 2169.84 217.168 Q2167.94 215.085 2164.79 215.085 Q2161.23 215.085 2159.08 217.099 Q2156.95 219.113 2156.62 222.77 L2171.81 222.747 Z\" fill=\"#000000\" fill-rule=\"nonzero\" fill-opacity=\"1\" /><path clip-path=\"url(#clip360)\" d=\"M1812.37 293.321 L1959.77 293.321 L1959.77 251.849 L1812.37 251.849 L1812.37 293.321  Z\" fill=\"#e26f46\" fill-rule=\"evenodd\" fill-opacity=\"1\"/>\n",
       "<polyline clip-path=\"url(#clip360)\" style=\"stroke:#000000; stroke-linecap:round; stroke-linejoin:round; stroke-width:4; stroke-opacity:1; fill:none\" points=\"1812.37,293.321 1959.77,293.321 1959.77,251.849 1812.37,251.849 1812.37,293.321 \"/>\n",
       "<path clip-path=\"url(#clip360)\" d=\"M2004.84 264.934 L2004.84 268.916 Q2003.04 267.92 2001.21 267.434 Q1999.4 266.925 1997.55 266.925 Q1993.41 266.925 1991.12 269.564 Q1988.82 272.18 1988.82 276.925 Q1988.82 281.67 1991.12 284.309 Q1993.41 286.925 1997.55 286.925 Q1999.4 286.925 2001.21 286.439 Q2003.04 285.929 2004.84 284.934 L2004.84 288.869 Q2003.06 289.703 2001.14 290.119 Q1999.24 290.536 1997.09 290.536 Q1991.23 290.536 1987.78 286.855 Q1984.33 283.175 1984.33 276.925 Q1984.33 270.582 1987.81 266.948 Q1991.3 263.314 1997.37 263.314 Q1999.33 263.314 2001.21 263.731 Q2003.08 264.124 2004.84 264.934 Z\" fill=\"#000000\" fill-rule=\"nonzero\" fill-opacity=\"1\" /><path clip-path=\"url(#clip360)\" d=\"M2022.3 266.925 Q2018.87 266.925 2016.88 269.61 Q2014.89 272.272 2014.89 276.925 Q2014.89 281.578 2016.86 284.263 Q2018.85 286.925 2022.3 286.925 Q2025.7 286.925 2027.69 284.24 Q2029.68 281.555 2029.68 276.925 Q2029.68 272.318 2027.69 269.633 Q2025.7 266.925 2022.3 266.925 M2022.3 263.314 Q2027.85 263.314 2031.02 266.925 Q2034.19 270.536 2034.19 276.925 Q2034.19 283.291 2031.02 286.925 Q2027.85 290.536 2022.3 290.536 Q2016.72 290.536 2013.55 286.925 Q2010.4 283.291 2010.4 276.925 Q2010.4 270.536 2013.55 266.925 Q2016.72 263.314 2022.3 263.314 Z\" fill=\"#000000\" fill-rule=\"nonzero\" fill-opacity=\"1\" /><path clip-path=\"url(#clip360)\" d=\"M2061.44 268.916 Q2063.04 266.045 2065.26 264.68 Q2067.48 263.314 2070.49 263.314 Q2074.54 263.314 2076.74 266.161 Q2078.94 268.985 2078.94 274.217 L2078.94 289.865 L2074.66 289.865 L2074.66 274.355 Q2074.66 270.629 2073.34 268.823 Q2072.02 267.018 2069.31 267.018 Q2066 267.018 2064.08 269.217 Q2062.16 271.416 2062.16 275.212 L2062.16 289.865 L2057.87 289.865 L2057.87 274.355 Q2057.87 270.605 2056.55 268.823 Q2055.24 267.018 2052.48 267.018 Q2049.22 267.018 2047.3 269.24 Q2045.37 271.439 2045.37 275.212 L2045.37 289.865 L2041.09 289.865 L2041.09 263.939 L2045.37 263.939 L2045.37 267.967 Q2046.83 265.582 2048.87 264.448 Q2050.91 263.314 2053.71 263.314 Q2056.53 263.314 2058.5 264.749 Q2060.49 266.184 2061.44 268.916 Z\" fill=\"#000000\" fill-rule=\"nonzero\" fill-opacity=\"1\" /><path clip-path=\"url(#clip360)\" d=\"M2091.55 285.976 L2091.55 299.726 L2087.27 299.726 L2087.27 263.939 L2091.55 263.939 L2091.55 267.874 Q2092.9 265.559 2094.93 264.448 Q2096.99 263.314 2099.84 263.314 Q2104.56 263.314 2107.5 267.064 Q2110.47 270.814 2110.47 276.925 Q2110.47 283.036 2107.5 286.786 Q2104.56 290.536 2099.84 290.536 Q2096.99 290.536 2094.93 289.425 Q2092.9 288.291 2091.55 285.976 M2106.05 276.925 Q2106.05 272.226 2104.1 269.564 Q2102.18 266.879 2098.8 266.879 Q2095.42 266.879 2093.48 269.564 Q2091.55 272.226 2091.55 276.925 Q2091.55 281.624 2093.48 284.309 Q2095.42 286.971 2098.8 286.971 Q2102.18 286.971 2104.1 284.309 Q2106.05 281.624 2106.05 276.925 Z\" fill=\"#000000\" fill-rule=\"nonzero\" fill-opacity=\"1\" /><path clip-path=\"url(#clip360)\" d=\"M2129.31 276.832 Q2124.15 276.832 2122.16 278.013 Q2120.17 279.193 2120.17 282.041 Q2120.17 284.309 2121.65 285.652 Q2123.15 286.971 2125.72 286.971 Q2129.26 286.971 2131.39 284.471 Q2133.55 281.948 2133.55 277.781 L2133.55 276.832 L2129.31 276.832 M2137.8 275.073 L2137.8 289.865 L2133.55 289.865 L2133.55 285.929 Q2132.09 288.291 2129.91 289.425 Q2127.73 290.536 2124.59 290.536 Q2120.61 290.536 2118.24 288.314 Q2115.91 286.068 2115.91 282.318 Q2115.91 277.943 2118.82 275.721 Q2121.76 273.499 2127.57 273.499 L2133.55 273.499 L2133.55 273.082 Q2133.55 270.143 2131.6 268.545 Q2129.68 266.925 2126.18 266.925 Q2123.96 266.925 2121.86 267.457 Q2119.75 267.99 2117.8 269.055 L2117.8 265.119 Q2120.14 264.217 2122.34 263.777 Q2124.54 263.314 2126.62 263.314 Q2132.25 263.314 2135.03 266.231 Q2137.8 269.147 2137.8 275.073 Z\" fill=\"#000000\" fill-rule=\"nonzero\" fill-opacity=\"1\" /><path clip-path=\"url(#clip360)\" d=\"M2161.6 267.92 Q2160.88 267.504 2160.03 267.318 Q2159.19 267.11 2158.17 267.11 Q2154.56 267.11 2152.62 269.471 Q2150.7 271.809 2150.7 276.207 L2150.7 289.865 L2146.42 289.865 L2146.42 263.939 L2150.7 263.939 L2150.7 267.967 Q2152.04 265.606 2154.19 264.471 Q2156.35 263.314 2159.42 263.314 Q2159.86 263.314 2160.4 263.383 Q2160.93 263.43 2161.58 263.545 L2161.6 267.92 Z\" fill=\"#000000\" fill-rule=\"nonzero\" fill-opacity=\"1\" /><path clip-path=\"url(#clip360)\" d=\"M2166.07 263.939 L2170.33 263.939 L2170.33 289.865 L2166.07 289.865 L2166.07 263.939 M2166.07 253.846 L2170.33 253.846 L2170.33 259.24 L2166.07 259.24 L2166.07 253.846 Z\" fill=\"#000000\" fill-rule=\"nonzero\" fill-opacity=\"1\" /><path clip-path=\"url(#clip360)\" d=\"M2195.77 264.703 L2195.77 268.731 Q2193.96 267.805 2192.02 267.342 Q2190.07 266.879 2187.99 266.879 Q2184.82 266.879 2183.22 267.851 Q2181.65 268.823 2181.65 270.768 Q2181.65 272.249 2182.78 273.105 Q2183.92 273.939 2187.34 274.703 L2188.8 275.027 Q2193.34 275.999 2195.23 277.781 Q2197.16 279.541 2197.16 282.712 Q2197.16 286.323 2194.29 288.429 Q2191.44 290.536 2186.44 290.536 Q2184.36 290.536 2182.09 290.119 Q2179.84 289.726 2177.34 288.916 L2177.34 284.517 Q2179.7 285.744 2181.99 286.369 Q2184.29 286.971 2186.53 286.971 Q2189.54 286.971 2191.16 285.953 Q2192.78 284.911 2192.78 283.036 Q2192.78 281.3 2191.6 280.374 Q2190.44 279.448 2186.48 278.592 L2185 278.244 Q2181.04 277.411 2179.29 275.698 Q2177.53 273.962 2177.53 270.953 Q2177.53 267.295 2180.12 265.305 Q2182.71 263.314 2187.48 263.314 Q2189.84 263.314 2191.92 263.661 Q2194.01 264.008 2195.77 264.703 Z\" fill=\"#000000\" fill-rule=\"nonzero\" fill-opacity=\"1\" /><path clip-path=\"url(#clip360)\" d=\"M2213.98 266.925 Q2210.56 266.925 2208.57 269.61 Q2206.58 272.272 2206.58 276.925 Q2206.58 281.578 2208.54 284.263 Q2210.54 286.925 2213.98 286.925 Q2217.39 286.925 2219.38 284.24 Q2221.37 281.555 2221.37 276.925 Q2221.37 272.318 2219.38 269.633 Q2217.39 266.925 2213.98 266.925 M2213.98 263.314 Q2219.54 263.314 2222.71 266.925 Q2225.88 270.536 2225.88 276.925 Q2225.88 283.291 2222.71 286.925 Q2219.54 290.536 2213.98 290.536 Q2208.41 290.536 2205.23 286.925 Q2202.09 283.291 2202.09 276.925 Q2202.09 270.536 2205.23 266.925 Q2208.41 263.314 2213.98 263.314 Z\" fill=\"#000000\" fill-rule=\"nonzero\" fill-opacity=\"1\" /><path clip-path=\"url(#clip360)\" d=\"M2254.49 274.217 L2254.49 289.865 L2250.23 289.865 L2250.23 274.355 Q2250.23 270.675 2248.8 268.846 Q2247.36 267.018 2244.49 267.018 Q2241.04 267.018 2239.05 269.217 Q2237.06 271.416 2237.06 275.212 L2237.06 289.865 L2232.78 289.865 L2232.78 263.939 L2237.06 263.939 L2237.06 267.967 Q2238.59 265.629 2240.65 264.471 Q2242.73 263.314 2245.44 263.314 Q2249.91 263.314 2252.2 266.092 Q2254.49 268.846 2254.49 274.217 Z\" fill=\"#000000\" fill-rule=\"nonzero\" fill-opacity=\"1\" /></svg>\n"
      ]
     },
     "metadata": {},
     "output_type": "display_data"
    }
   ],
   "source": [
    "histogram(odds_ratios, label=\"baseline\")\n",
    "title!(\"Odds Ratio Comparison\")\n",
    "histogram!(ftf_odds_ratio, label=\"comparison\")"
   ]
  },
  {
   "attachments": {},
   "cell_type": "markdown",
   "metadata": {},
   "source": [
    "Let's look in more depth at a single run with this sampler. We were using the total duration spent on each node during $10^6$ time units in order to evaluate if the sampler is working well. We can dig in by looking at another output of the model. The \"observations\" are a dictionary with an entry for each transition that tells us the total number of times that transition fired. If we group them by source node, that tells us how the particle left each node. If one type of transition wasn't firing properly due to some code error, it should show up as a bias in how the particle leaves the node."
   ]
  },
  {
   "cell_type": "code",
   "execution_count": null,
   "metadata": {},
   "outputs": [],
   "source": [
    "rng = Xoshiro(2431243)\n",
    "groc_ftf = deepcopy(singleton_groc)\n",
    "sampler_ftf = FirstToFire{keyspace(GraphOccupancy)}()\n",
    "occupancy_ftf, observations_ftf = run_graph_occupancy(groc_ftf, 1e7, sampler_ftf, rng)\n",
    "groc_fr = deepcopy(singleton_groc)\n",
    "sampler_fr = FirstReaction{keyspace(GraphOccupancy)}()\n",
    "occupancy_fr, observations_fr = run_graph_occupancy(groc_fr, 1e7, sampler_fr, rng)\n"
   ]
  },
  {
   "attachments": {},
   "cell_type": "markdown",
   "metadata": {},
   "source": [
    "Just looking at the raw occupancies shows that the total dwell time on node 4 could be off. Because this is a particle on a graph, you can see dwell time increase on one node because of a problem on a neighboring node that dumps out to it. That is, this high dwell time doesn't mean there is a problem with the distributions on that node. We'll have to dig a little deeper."
   ]
  },
  {
   "cell_type": "code",
   "execution_count": null,
   "metadata": {},
   "outputs": [],
   "source": [
    "hcat(occupancy_fr, occupancy_ftf)"
   ]
  },
  {
   "cell_type": "code",
   "execution_count": null,
   "metadata": {},
   "outputs": [],
   "source": [
    "sort(collect(observations_fr), by = a -> a[1][1])"
   ]
  },
  {
   "cell_type": "code",
   "execution_count": null,
   "metadata": {},
   "outputs": [],
   "source": [
    "sort(collect(observations_ftf), by = a -> a[1][1])"
   ]
  },
  {
   "attachments": {},
   "cell_type": "markdown",
   "metadata": {},
   "source": [
    "Here, I'm trying to summarize, node-by-node, the probability of leaving that node for a neighbor. So, given that you are at node 5, you can go to nodes 4, 6, 7, 2, 8, or 1. Let's take every transitition from 5 to each of those, normalize by the each direction, and turn it into a probability for P[4|5], P[6|5], and so on. Do this for both the FirstReaction and FirstToFire and compare the tuples."
   ]
  },
  {
   "cell_type": "code",
   "execution_count": null,
   "metadata": {},
   "outputs": [],
   "source": [
    "ways_out = Array{Dict{Int,Tuple{Float64,Float64}},1}()\n",
    "node_cnt = nv(singleton_groc.g)\n",
    "for init_ways in 1:node_cnt\n",
    "    comparator = Dict{Int,Tuple{Float64,Float64}}()\n",
    "    totals = zeros(Int64, 0)\n",
    "    for obs in [observations_fr, observations_ftf]\n",
    "        total_calls = 0\n",
    "        for jump_to in neighbors(singleton_groc.g, init_ways)\n",
    "            total_calls += obs[(init_ways, jump_to)].call_cnt\n",
    "        end\n",
    "        push!(totals, total_calls)\n",
    "    end\n",
    "    for way_out in neighbors(singleton_groc.g, init_ways)\n",
    "        comparator[way_out] = (observations_fr[(init_ways, way_out)].call_cnt / totals[1],\n",
    "            observations_ftf[(init_ways, way_out)].call_cnt / totals[2])\n",
    "    end\n",
    "    push!(ways_out, comparator)\n",
    "end\n",
    "ways_out"
   ]
  },
  {
   "attachments": {},
   "cell_type": "markdown",
   "metadata": {},
   "source": [
    "Actually, that node 4 only has a single path to another node. Let's see what the transition away is. It does have a relative_enabling_time, meaning it always claims to have a te 0.9 time units in the past."
   ]
  },
  {
   "cell_type": "code",
   "execution_count": null,
   "metadata": {},
   "outputs": [],
   "source": [
    "singleton_groc.transition[(4,5)]"
   ]
  },
  {
   "attachments": {},
   "cell_type": "markdown",
   "metadata": {},
   "source": [
    "And in the other direction there is also an offset, this time into the future. This one is more suspicious, actually."
   ]
  },
  {
   "cell_type": "code",
   "execution_count": null,
   "metadata": {},
   "outputs": [],
   "source": [
    "singleton_groc.transition[(5,4)] "
   ]
  },
  {
   "cell_type": "code",
   "execution_count": null,
   "metadata": {},
   "outputs": [],
   "source": [
    "for dest in [1,2,4,6,7,8]\n",
    "    print(\"fr  \")\n",
    "    println(observations_fr[(5,dest)])\n",
    "    print(\"ftf \")\n",
    "    println(observations_ftf[(5,dest)])\n",
    "end"
   ]
  },
  {
   "cell_type": "code",
   "execution_count": null,
   "metadata": {},
   "outputs": [],
   "source": [
    "observations_ftf[(5,4)]"
   ]
  },
  {
   "cell_type": "code",
   "execution_count": null,
   "metadata": {},
   "outputs": [],
   "source": []
  }
 ],
 "metadata": {
  "kernelspec": {
   "display_name": "Julia 1.8.5",
   "language": "julia",
   "name": "julia-1.8"
  },
  "language_info": {
   "file_extension": ".jl",
   "mimetype": "application/julia",
   "name": "julia",
   "version": "1.8.5"
  },
  "orig_nbformat": 4
 },
 "nbformat": 4,
 "nbformat_minor": 2
}
