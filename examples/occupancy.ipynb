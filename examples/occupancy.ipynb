{
 "cells": [
  {
   "attachments": {},
   "cell_type": "markdown",
   "metadata": {},
   "source": [
    "# Test Samplers by Hopping on a Graph\n",
    "\n",
    "Let's test samplers by checking whether they run a model the same way. The model is that a particle hops around a graph, from graph node to graph node. Each hop is determined by a continuous univariate distribution. We'll let a particle hop around and then ask, at the end, how much time it spent on each node."
   ]
  },
  {
   "cell_type": "code",
   "execution_count": 1,
   "metadata": {},
   "outputs": [
    {
     "name": "stderr",
     "output_type": "stream",
     "text": [
      "\u001b[32m\u001b[1m  Activating\u001b[22m\u001b[39m project at `~/dev/Fleck/examples`\n"
     ]
    }
   ],
   "source": [
    "using Pkg\n",
    "Pkg.activate(\".\")\n",
    "using Fleck\n",
    "using LinearAlgebra\n",
    "using Revise"
   ]
  },
  {
   "cell_type": "code",
   "execution_count": 10,
   "metadata": {},
   "outputs": [
    {
     "data": {
      "text/plain": [
       "sample_run_graph_occupancy (generic function with 1 method)"
      ]
     },
     "metadata": {},
     "output_type": "display_data"
    }
   ],
   "source": [
    "include(\"../test/graph_occupancy.jl\")"
   ]
  },
  {
   "attachments": {},
   "cell_type": "markdown",
   "metadata": {},
   "source": [
    "Make the model. This model is made by a random number generator, where the random number generator determines which nodes are connected (so you can hop from one to the other) and which distribution determines the speed of each hop."
   ]
  },
  {
   "cell_type": "code",
   "execution_count": 3,
   "metadata": {},
   "outputs": [
    {
     "data": {
      "text/plain": [
       "24"
      ]
     },
     "metadata": {},
     "output_type": "display_data"
    }
   ],
   "source": [
    "Threads.nthreads()"
   ]
  },
  {
   "cell_type": "code",
   "execution_count": 3,
   "metadata": {},
   "outputs": [
    {
     "data": {
      "text/plain": [
       "8"
      ]
     },
     "metadata": {},
     "output_type": "display_data"
    }
   ],
   "source": [
    "model_rng = Xoshiro(3498217)  # Random number generator.\n",
    "singleton_groc = GraphOccupancy(model_rng)\n",
    "length(singleton_groc)"
   ]
  },
  {
   "cell_type": "code",
   "execution_count": 4,
   "metadata": {},
   "outputs": [
    {
     "data": {
      "text/plain": [
       "generate_samples (generic function with 1 method)"
      ]
     },
     "metadata": {},
     "output_type": "display_data"
    }
   ],
   "source": [
    "function generate_samples(singleton_groc, singleton_sampler, trial_cnt)\n",
    "    occupancy = zeros(Float64, (length(singleton_groc), trial_cnt))\n",
    "    rng = Xoshiro(24370233)\n",
    "    Threads.@threads for trial_idx in 1:trial_cnt\n",
    "        groc = deepcopy(singleton_groc)\n",
    "        sampler = deepcopy(singleton_sampler)\n",
    "        occ, observations = run_graph_occupancy(groc, 1e6, sampler, rng)\n",
    "        occupancy[:, trial_idx] .= occ\n",
    "    end\n",
    "    occupancy\n",
    "end"
   ]
  },
  {
   "cell_type": "code",
   "execution_count": 11,
   "metadata": {},
   "outputs": [
    {
     "data": {
      "text/plain": [
       "8×100 Matrix{Float64}:\n",
       "      2.1761e5      2.17855e5     2.18164e5  …     2.17873e5       2.18516e5\n",
       " 169254.0           1.69344e5     1.6892e5         1.68403e5  168563.0\n",
       "      0.0           0.0           0.0              0.0             0.0\n",
       "   2073.26       2157.37       2204.28          2096.51         2195.99\n",
       "      1.82777e5     1.82987e5     1.82702e5        1.82911e5       1.82838e5\n",
       "      1.83892e5     1.83931e5     1.83952e5  …     1.84469e5       1.84459e5\n",
       "      1.00826e5     1.00247e5     1.00445e5        1.00442e5       1.00003e5\n",
       "      1.43567e5     1.43478e5     1.43613e5        1.43805e5       1.43423e5"
      ]
     },
     "metadata": {},
     "output_type": "display_data"
    }
   ],
   "source": [
    "sampler = FirstReaction{keyspace(GraphOccupancy)}()\n",
    "trial_cnt = 100\n",
    "occupancy = generate_samples(singleton_groc, sampler, trial_cnt)"
   ]
  },
  {
   "attachments": {},
   "cell_type": "markdown",
   "metadata": {},
   "source": [
    "That zero dwell time is pesky. It means there was a component of the graph that wasn't connected, which is fine, but it will throw off the stats. We're going to see how likely each draw is using https://en.wikipedia.org/wiki/Multinomial_test."
   ]
  },
  {
   "cell_type": "code",
   "execution_count": 12,
   "metadata": {},
   "outputs": [
    {
     "data": {
      "text/plain": [
       "maximum_likelihood (generic function with 1 method)"
      ]
     },
     "metadata": {},
     "output_type": "display_data"
    }
   ],
   "source": [
    "function occupancy_likelihood_ratio(occupancy, mle)\n",
    "    # Sometimes a graph node is disconnected, so remove those.\n",
    "    keep_row = [sum(occupancy[check_idx,:]) > 0 for check_idx in 1:size(occupancy, 1)]\n",
    "    occupancy = occupancy[keep_row, :]\n",
    "    category_cnt = size(occupancy, 1)\n",
    "    trial_cnt = size(occupancy, 2)\n",
    "    odds_ratio = zeros(Float64, trial_cnt)\n",
    "    for trial_idx in 1:trial_cnt\n",
    "        relative_occupancy = occupancy[:, trial_idx] / sum(occupancy[:, trial_idx])\n",
    "        log_odds = 0.0\n",
    "        for node_idx in 1:category_cnt\n",
    "            log_odds += occupancy[node_idx, trial_idx] * log(mle[node_idx] / relative_occupancy[node_idx])\n",
    "        end\n",
    "        odds_ratio[trial_idx] = -2 * log_odds\n",
    "    end\n",
    "    return odds_ratio\n",
    "end\n",
    "\n",
    "function maximum_likelihood(occupancy)\n",
    "    # Sometimes a graph node is disconnected, so remove those.\n",
    "    keep_row = [sum(occupancy[check_idx,:]) > 0 for check_idx in 1:size(occupancy, 1)]\n",
    "    occupancy = occupancy[keep_row, :]\n",
    "    category_cnt = size(occupancy, 1)\n",
    "    trial_cnt = size(occupancy, 2)\n",
    "    expected_occupancy = sum(occupancy; dims=2) / trial_cnt\n",
    "    mle = expected_occupancy / sum(expected_occupancy)\n",
    "end"
   ]
  },
  {
   "cell_type": "code",
   "execution_count": 13,
   "metadata": {},
   "outputs": [
    {
     "data": {
      "text/plain": [
       "100-element Vector{Float64}:\n",
       "  0.47170872317769863\n",
       "  1.0477788100678254\n",
       "  1.1182296978115573\n",
       "  1.5920294628498368\n",
       "  1.6185251975797996\n",
       "  1.6484488613929784\n",
       "  1.7943514080777163\n",
       "  1.8962455154481006\n",
       "  1.9043175580173113\n",
       "  2.095203853303474\n",
       "  ⋮\n",
       " 16.035144818671824\n",
       " 16.525796267986777\n",
       " 18.74605687470853\n",
       " 19.547747469967817\n",
       " 19.68452057640343\n",
       " 58.28862117703375\n",
       " 60.447789636371\n",
       " 78.37708666751291\n",
       " 87.13441909130256"
      ]
     },
     "metadata": {},
     "output_type": "display_data"
    }
   ],
   "source": [
    "mle = maximum_likelihood(occupancy)\n",
    "odds_ratios = occupancy_likelihood_ratio(occupancy, mle)\n",
    "sort!(odds_ratios)"
   ]
  },
  {
   "cell_type": "code",
   "execution_count": 14,
   "metadata": {},
   "outputs": [
    {
     "data": {
      "text/plain": [
       "2-element Vector{Float64}:\n",
       " 1.7625206483190706e-10\n",
       " 1.7625206483190706e-10"
      ]
     },
     "metadata": {},
     "output_type": "display_data"
    }
   ],
   "source": [
    "perfect = zeros(length(mle), 2)\n",
    "perfect[:,1] .= mle * 1e6\n",
    "perfect[:,2] .= mle * 1e6\n",
    "occupancy_likelihood_ratio(perfect, mle)"
   ]
  },
  {
   "cell_type": "code",
   "execution_count": 15,
   "metadata": {},
   "outputs": [
    {
     "data": {
      "text/plain": [
       "8×10 Matrix{Float64}:\n",
       "    2.17429e5  217853.0           2.17895e5  …     2.17308e5     2.18072e5\n",
       "    1.67507e5       1.67498e5     1.67293e5        1.67087e5     1.66945e5\n",
       "    0.0             0.0           0.0              0.0           0.0\n",
       " 2065.57         2261.02       2028.96          2148.86       2003.96\n",
       "    1.80384e5       1.8076e5      1.80787e5        1.81309e5     1.80446e5\n",
       "    1.84179e5       1.84153e5     1.84484e5  …     1.84355e5     1.84647e5\n",
       "    1.03073e5       1.02267e5     1.02518e5        1.02757e5     1.02866e5\n",
       "    1.45362e5       1.45207e5     1.44994e5        1.45035e5     1.4502e5"
      ]
     },
     "metadata": {},
     "output_type": "display_data"
    }
   ],
   "source": [
    "sampler = FirstToFire{keyspace(GraphOccupancy)}()\n",
    "trial_cnt = 10\n",
    "first_to_fire = generate_samples(singleton_groc, sampler, trial_cnt)"
   ]
  },
  {
   "cell_type": "code",
   "execution_count": 16,
   "metadata": {},
   "outputs": [
    {
     "data": {
      "text/plain": [
       "10-element Vector{Float64}:\n",
       "  88.69783794716477\n",
       "  96.59095092402504\n",
       " 110.82891948863653\n",
       " 112.12921731210463\n",
       " 114.20145667326688\n",
       " 134.20945872844277\n",
       " 151.03119268754745\n",
       " 151.3439105802463\n",
       " 156.68062839833692\n",
       " 164.0930592848017"
      ]
     },
     "metadata": {},
     "output_type": "display_data"
    }
   ],
   "source": [
    "ftf_odds_ratio = occupancy_likelihood_ratio(first_to_fire, mle)\n",
    "sort!(ftf_odds_ratio)"
   ]
  },
  {
   "attachments": {},
   "cell_type": "markdown",
   "metadata": {},
   "source": [
    "Let's look in more depth at a single run with this sampler."
   ]
  },
  {
   "cell_type": "code",
   "execution_count": 18,
   "metadata": {},
   "outputs": [
    {
     "data": {
      "text/plain": [
       "([220023.25027902523, 168278.8198621476, 0.0, 2116.2548418180836, 179826.17919817506, 185069.21983681395, 100614.32042814745, 144071.62714050163], Dict{Tuple{Int64, Int64}, TransitionObserver}((6, 8) => TransitionObserver(2.730404958128929e-6, 4.030808224109933, 40965.46750952257, 92777), (4, 5) => TransitionObserver(6.938353180885315e-7, 9.118537008413114, 2116.2548418180836, 2037), (2, 5) => TransitionObserver(2.8100330382585526e-6, 5.646939960774034, 110854.93270651967, 182929), (6, 2) => TransitionObserver(0.46914584457408637, 4.612327880342491, 48236.69895598239, 55943), (2, 6) => TransitionObserver(0.001520805701147765, 5.80447075527627, 48999.1299832613, 53231), (7, 8) => TransitionObserver(6.8508670665323734e-6, 4.15953955904115, 34625.75952006418, 104299), (7, 2) => TransitionObserver(0.6103188297711313, 1.984100949135609, 16.414609279221622, 12), (5, 6) => TransitionObserver(3.760406980291009e-5, 2.6237527617486194, 5661.050004555574, 18037), (8, 5) => TransitionObserver(0.6909202589886263, 3.6175905942654936, 32689.265004221397, 31414), (2, 7) => TransitionObserver(0.00013385957572609186, 5.138986614882015, 8424.757172366622, 8968)…))"
      ]
     },
     "metadata": {},
     "output_type": "display_data"
    }
   ],
   "source": [
    "rng = Xoshiro(24370233)\n",
    "groc = deepcopy(singleton_groc)\n",
    "sampler_ftf = FirstToFire{keyspace(GraphOccupancy)}()\n",
    "occupancy_ftf, observations_ftf = run_graph_occupancy(groc, 1e6, sampler_ftf, rng)\n",
    "groc = deepcopy(singleton_groc)\n",
    "sampler_fr = FirstReaction{keyspace(GraphOccupancy)}()\n",
    "occupancy_fr, observations_fr = run_graph_occupancy(groc, 1e6, sampler_fr, rng)\n"
   ]
  },
  {
   "cell_type": "code",
   "execution_count": 19,
   "metadata": {},
   "outputs": [
    {
     "data": {
      "text/plain": [
       "8-element Vector{Float64}:\n",
       " 220023.25027902523\n",
       " 168278.8198621476\n",
       "      0.0\n",
       "   2116.2548418180836\n",
       " 179826.17919817506\n",
       " 185069.21983681395\n",
       " 100614.32042814745\n",
       " 144071.62714050163"
      ]
     },
     "metadata": {},
     "output_type": "display_data"
    }
   ],
   "source": [
    "occupancy_fr"
   ]
  },
  {
   "cell_type": "code",
   "execution_count": 20,
   "metadata": {},
   "outputs": [
    {
     "data": {
      "text/plain": [
       "8-element Vector{Float64}:\n",
       " 219959.52702019995\n",
       " 167643.61244652607\n",
       "      0.0\n",
       "   2059.5499834459224\n",
       " 179385.47956963518\n",
       " 186268.99871330644\n",
       " 100255.7374212472\n",
       " 144427.06985781007"
      ]
     },
     "metadata": {},
     "output_type": "display_data"
    }
   ],
   "source": [
    "occupancy_ftf"
   ]
  },
  {
   "cell_type": "code",
   "execution_count": 33,
   "metadata": {},
   "outputs": [
    {
     "data": {
      "text/plain": [
       "24-element Vector{Pair{Tuple{Int64, Int64}, TransitionObserver}}:\n",
       " (1, 5) => TransitionObserver(0.0034435114357620478, 3.188356563121488, 136111.35077488038, 190236)\n",
       " (1, 6) => TransitionObserver(0.11658225604332983, 2.8390970316249877, 83911.89950414485, 162011)\n",
       " (2, 5) => TransitionObserver(2.8100330382585526e-6, 5.646939960774034, 110854.93270651967, 182929)\n",
       " (2, 6) => TransitionObserver(0.001520805701147765, 5.80447075527627, 48999.1299832613, 53231)\n",
       " (2, 7) => TransitionObserver(0.00013385957572609186, 5.138986614882015, 8424.757172366622, 8968)\n",
       " (4, 5) => TransitionObserver(6.938353180885315e-7, 9.118537008413114, 2116.2548418180836, 2037)\n",
       " (5, 6) => TransitionObserver(3.760406980291009e-5, 2.6237527617486194, 5661.050004555574, 18037)\n",
       " (5, 1) => TransitionObserver(2.6095221983268857e-7, 2.6274962739553303, 50600.711254788985, 166528)\n",
       " (5, 7) => TransitionObserver(3.372860373929143e-5, 2.9786079837940633, 58404.629655935336, 133491)\n",
       " (5, 8) => TransitionObserver(4.774401895701885e-5, 2.584268501843326, 5708.241294425787, 17993)\n",
       "        ⋮\n",
       " (6, 1) => TransitionObserver(8.685747161507607e-7, 4.960338806762593, 81993.88035563944, 185719)\n",
       " (6, 7) => TransitionObserver(0.4171529288869351, 3.867785826791078, 118.52550693148851, 71)\n",
       " (7, 8) => TransitionObserver(6.8508670665323734e-6, 4.15953955904115, 34625.75952006418, 104299)\n",
       " (7, 2) => TransitionObserver(0.6103188297711313, 1.984100949135609, 16.414609279221622, 12)\n",
       " (7, 5) => TransitionObserver(7.164780981838703e-7, 3.2426540985470638, 32468.211215807107, 97359)\n",
       " (7, 6) => TransitionObserver(6.377056706696749e-6, 3.8386073417495936, 33503.93508299693, 100502)\n",
       " (8, 5) => TransitionObserver(0.6909202589886263, 3.6175905942654936, 32689.265004221397, 31414)\n",
       " (8, 6) => TransitionObserver(6.556123844347894e-5, 3.1574077628320083, 12477.97443438424, 24013)\n",
       " (8, 7) => TransitionObserver(8.337781764566898e-6, 4.582815930014476, 98904.387701896, 159642)"
      ]
     },
     "metadata": {},
     "output_type": "display_data"
    }
   ],
   "source": [
    "sort(collect(observations_fr), by = a -> a[1][1])"
   ]
  },
  {
   "cell_type": "code",
   "execution_count": 34,
   "metadata": {},
   "outputs": [
    {
     "data": {
      "text/plain": [
       "24-element Vector{Pair{Tuple{Int64, Int64}, TransitionObserver}}:\n",
       " (1, 5) => TransitionObserver(0.0024783797562122345, 3.3716992783010937, 135682.83927891665, 189022)\n",
       " (1, 6) => TransitionObserver(0.11658026571967639, 2.703791961350362, 84276.6877412833, 162980)\n",
       " (2, 5) => TransitionObserver(5.939131369814277e-6, 6.501587403821759, 110327.07119184342, 182297)\n",
       " (2, 6) => TransitionObserver(0.0020213420502841473, 5.993916473235004, 48789.66476348899, 53340)\n",
       " (2, 7) => TransitionObserver(9.694581967778504e-5, 5.528218869701959, 8526.876491193676, 8888)\n",
       " (4, 5) => TransitionObserver(0.0003514352720230818, 7.847983775194734, 2059.5499834459224, 2073)\n",
       " (5, 6) => TransitionObserver(3.406329778954387e-5, 3.2362204383825883, 5619.15471858897, 17883)\n",
       " (5, 1) => TransitionObserver(3.976165316998959e-6, 2.8505185908288695, 50462.39980393472, 166136)\n",
       " (5, 7) => TransitionObserver(6.881411536596715e-5, 2.9454364667180926, 58290.51969598826, 132783)\n",
       " (5, 8) => TransitionObserver(1.314561814069748e-5, 2.9408576394198462, 5673.913538079904, 17996)\n",
       "        ⋮\n",
       " (6, 1) => TransitionObserver(1.7392449080944061e-6, 5.595436343923211, 82552.10895110808, 185866)\n",
       " (6, 7) => TransitionObserver(0.3739017847656214, 4.497293831127536, 162.11319226191517, 91)\n",
       " (7, 8) => TransitionObserver(3.4911208786070347e-6, 3.7122119012201438, 34590.89774519846, 104491)\n",
       " (7, 2) => TransitionObserver(0.4582458487711847, 2.4249553073896095, 17.51614024618175, 14)\n",
       " (7, 5) => TransitionObserver(5.101901479065418e-6, 4.829353341134265, 32276.675891617102, 97073)\n",
       " (7, 6) => TransitionObserver(2.7750502340495586e-6, 4.626660998095758, 33370.647644185454, 100293)\n",
       " (8, 5) => TransitionObserver(0.6909135462483391, 3.7298287770245224, 32651.01786777495, 31273)\n",
       " (8, 6) => TransitionObserver(2.0079314708709717e-5, 3.4288896375801414, 12572.686501894652, 24075)\n",
       " (8, 7) => TransitionObserver(5.870126187801361e-6, 4.3416743545094505, 99203.36548814047, 160109)"
      ]
     },
     "metadata": {},
     "output_type": "display_data"
    }
   ],
   "source": [
    "sort(collect(observations_ftf), by = a -> a[1][1])"
   ]
  },
  {
   "cell_type": "code",
   "execution_count": null,
   "metadata": {},
   "outputs": [],
   "source": []
  }
 ],
 "metadata": {
  "kernelspec": {
   "display_name": "Julia 1.8.5",
   "language": "julia",
   "name": "julia-1.8"
  },
  "language_info": {
   "file_extension": ".jl",
   "mimetype": "application/julia",
   "name": "julia",
   "version": "1.8.5"
  },
  "orig_nbformat": 4
 },
 "nbformat": 4,
 "nbformat_minor": 2
}
