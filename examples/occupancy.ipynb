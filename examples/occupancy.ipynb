{
 "cells": [
  {
   "attachments": {},
   "cell_type": "markdown",
   "metadata": {},
   "source": [
    "# Test Samplers by Hopping on a Graph\n",
    "\n",
    "Let's test samplers by checking whether they run a model the same way. The model is that a particle hops around a graph, from graph node to graph node. Each hop is determined by a continuous univariate distribution. We'll let a particle hop around and then ask, at the end, how much time it spent on each node."
   ]
  },
  {
   "cell_type": "code",
   "execution_count": 1,
   "metadata": {},
   "outputs": [
    {
     "name": "stderr",
     "output_type": "stream",
     "text": [
      "\u001b[32m\u001b[1m  Activating\u001b[22m\u001b[39m project at `~/dev/Fleck/examples`\n"
     ]
    }
   ],
   "source": [
    "using Pkg\n",
    "Pkg.activate(\".\")\n",
    "using Fleck\n",
    "using LinearAlgebra\n",
    "using Revise"
   ]
  },
  {
   "cell_type": "code",
   "execution_count": 2,
   "metadata": {},
   "outputs": [
    {
     "data": {
      "text/plain": [
       "sample_run_graph_occupancy (generic function with 1 method)"
      ]
     },
     "metadata": {},
     "output_type": "display_data"
    }
   ],
   "source": [
    "include(\"../test/graph_occupancy.jl\")"
   ]
  },
  {
   "attachments": {},
   "cell_type": "markdown",
   "metadata": {},
   "source": [
    "Make the model. This model is made by a random number generator, where the random number generator determines which nodes are connected (so you can hop from one to the other) and which distribution determines the speed of each hop.\n",
    "\n",
    "Our plan is to use bootstrapping to estimate how much variance we should expect with different samplers. We'll start with a sampler we trust and run this 100 times. Then assume the average result is our expected value. We look at the odds ratio of those 100 draws to see how big they can get. Then, when we want to test another sampler, run it 10 or 100 times and look to see if its odds ratios are mostly within the range that we've seen already."
   ]
  },
  {
   "cell_type": "code",
   "execution_count": 3,
   "metadata": {},
   "outputs": [
    {
     "data": {
      "text/plain": [
       "24"
      ]
     },
     "metadata": {},
     "output_type": "display_data"
    }
   ],
   "source": [
    "Threads.nthreads()"
   ]
  },
  {
   "cell_type": "code",
   "execution_count": 3,
   "metadata": {},
   "outputs": [
    {
     "data": {
      "text/plain": [
       "8"
      ]
     },
     "metadata": {},
     "output_type": "display_data"
    }
   ],
   "source": [
    "model_rng = Xoshiro(3498217)  # Random number generator.\n",
    "singleton_groc = GraphOccupancy(model_rng)\n",
    "length(singleton_groc)"
   ]
  },
  {
   "cell_type": "code",
   "execution_count": 4,
   "metadata": {},
   "outputs": [
    {
     "data": {
      "text/plain": [
       "generate_samples (generic function with 1 method)"
      ]
     },
     "metadata": {},
     "output_type": "display_data"
    }
   ],
   "source": [
    "function generate_samples(singleton_groc, singleton_sampler, trial_cnt)\n",
    "    occupancy = zeros(Float64, (length(singleton_groc), trial_cnt))\n",
    "    rng = Xoshiro(24370233)\n",
    "    Threads.@threads for trial_idx in 1:trial_cnt\n",
    "        groc = deepcopy(singleton_groc)\n",
    "        sampler = deepcopy(singleton_sampler)\n",
    "        occ, observations = run_graph_occupancy(groc, 1e6, sampler, rng)\n",
    "        occupancy[:, trial_idx] .= occ\n",
    "    end\n",
    "    occupancy\n",
    "end"
   ]
  },
  {
   "cell_type": "code",
   "execution_count": 5,
   "metadata": {},
   "outputs": [
    {
     "data": {
      "text/plain": [
       "8×100 Matrix{Float64}:\n",
       "    2.29752e5     2.29604e5       2.29538e5  …     2.29357e5     2.29427e5\n",
       "    1.61046e5     1.61346e5  161444.0              1.60727e5     1.61009e5\n",
       "    0.0           0.0             0.0              0.0           0.0\n",
       " 1513.03       1590.13         1601.87          1440.34       1380.28\n",
       "    1.83855e5     1.83686e5       1.83997e5        1.83725e5     1.84079e5\n",
       "    1.76578e5     1.76796e5       1.76482e5  …     1.77218e5     1.76748e5\n",
       "    1.01639e5     1.01367e5       1.01653e5        1.0169e5      1.0162e5\n",
       "    1.45617e5     1.4561e5        1.45283e5        1.45844e5     1.45737e5"
      ]
     },
     "metadata": {},
     "output_type": "display_data"
    }
   ],
   "source": [
    "sampler = FirstReaction{keyspace(GraphOccupancy)}()\n",
    "trial_cnt = 100\n",
    "occupancy = generate_samples(singleton_groc, sampler, trial_cnt)"
   ]
  },
  {
   "attachments": {},
   "cell_type": "markdown",
   "metadata": {},
   "source": [
    "That zero dwell time is pesky. It means there was a component of the graph that wasn't connected, which is fine, but it will throw off the stats. We're going to see how likely each draw is using https://en.wikipedia.org/wiki/Multinomial_test."
   ]
  },
  {
   "cell_type": "code",
   "execution_count": 6,
   "metadata": {},
   "outputs": [
    {
     "data": {
      "text/plain": [
       "maximum_likelihood (generic function with 1 method)"
      ]
     },
     "metadata": {},
     "output_type": "display_data"
    }
   ],
   "source": [
    "function occupancy_likelihood_ratio(occupancy, mle)\n",
    "    # Sometimes a graph node is disconnected, so remove those.\n",
    "    keep_row = [sum(occupancy[check_idx,:]) > 0 for check_idx in 1:size(occupancy, 1)]\n",
    "    occupancy = occupancy[keep_row, :]\n",
    "    category_cnt = size(occupancy, 1)\n",
    "    trial_cnt = size(occupancy, 2)\n",
    "    odds_ratio = zeros(Float64, trial_cnt)\n",
    "    for trial_idx in 1:trial_cnt\n",
    "        relative_occupancy = occupancy[:, trial_idx] / sum(occupancy[:, trial_idx])\n",
    "        log_odds = 0.0\n",
    "        for node_idx in 1:category_cnt\n",
    "            log_odds += occupancy[node_idx, trial_idx] * log(mle[node_idx] / relative_occupancy[node_idx])\n",
    "        end\n",
    "        odds_ratio[trial_idx] = -2 * log_odds\n",
    "    end\n",
    "    return odds_ratio\n",
    "end\n",
    "\n",
    "function maximum_likelihood(occupancy)\n",
    "    # Sometimes a graph node is disconnected, so remove those.\n",
    "    keep_row = [sum(occupancy[check_idx,:]) > 0 for check_idx in 1:size(occupancy, 1)]\n",
    "    occupancy = occupancy[keep_row, :]\n",
    "    category_cnt = size(occupancy, 1)\n",
    "    trial_cnt = size(occupancy, 2)\n",
    "    expected_occupancy = sum(occupancy; dims=2) / trial_cnt\n",
    "    mle = expected_occupancy / sum(expected_occupancy)\n",
    "end"
   ]
  },
  {
   "attachments": {},
   "cell_type": "markdown",
   "metadata": {},
   "source": [
    "This set of 100 numbers is 100 odds ratios. If we do a bunch of draws from another sampler, we expect their odds ratios to be mostly in this range."
   ]
  },
  {
   "cell_type": "code",
   "execution_count": 7,
   "metadata": {},
   "outputs": [
    {
     "data": {
      "text/plain": [
       "100-element Vector{Float64}:\n",
       "   0.49345455918449943\n",
       "   0.7941154347736727\n",
       "   1.3462359633462597\n",
       "   1.3960414673955768\n",
       "   1.5440295841996203\n",
       "   1.5678766070710992\n",
       "   1.5750898709526666\n",
       "   1.8536652543081118\n",
       "   1.9829543509065388\n",
       "   2.0602998227698777\n",
       "   ⋮\n",
       "  13.663313791737664\n",
       "  13.798581498385033\n",
       "  14.179756557389737\n",
       "  17.54736500691581\n",
       "  22.801953752270265\n",
       "  61.346576818131894\n",
       "  74.85372854513116\n",
       "  94.48419734065669\n",
       " 108.65127090668057"
      ]
     },
     "metadata": {},
     "output_type": "display_data"
    }
   ],
   "source": [
    "mle = maximum_likelihood(occupancy)\n",
    "odds_ratios = occupancy_likelihood_ratio(occupancy, mle)\n",
    "sort!(odds_ratios)"
   ]
  },
  {
   "attachments": {},
   "cell_type": "markdown",
   "metadata": {},
   "source": [
    "Just checking that a perfect odds ratio is basically zero."
   ]
  },
  {
   "cell_type": "code",
   "execution_count": 8,
   "metadata": {},
   "outputs": [
    {
     "data": {
      "text/plain": [
       "2-element Vector{Float64}:\n",
       " -1.8427170534944764e-10\n",
       " -1.8427170534944764e-10"
      ]
     },
     "metadata": {},
     "output_type": "display_data"
    }
   ],
   "source": [
    "perfect = zeros(length(mle), 2)\n",
    "perfect[:,1] .= mle * 1e6\n",
    "perfect[:,2] .= mle * 1e6\n",
    "occupancy_likelihood_ratio(perfect, mle)"
   ]
  },
  {
   "attachments": {},
   "cell_type": "markdown",
   "metadata": {},
   "source": [
    "Now we're ready to evaluate the FirstToFire sampler. This should behave identically to the FirstReaction sampler, especially considering that this model disables all enabled nodes at every step."
   ]
  },
  {
   "cell_type": "code",
   "execution_count": 35,
   "metadata": {},
   "outputs": [
    {
     "name": "stdout",
     "output_type": "stream",
     "text": [
      "Expected old time 525859.0884321863 to be less than new time 525859.0884321863\n",
      "Expected old time 529726.7188908086 to be less than new time 529726.7188908086\n",
      "Transition was Exponential{Float64}(θ=0.919189636064143)\n",
      "Transition shift 0.0\n",
      "Transition memory false\n",
      "Transition consumed 0.0\n",
      "Transition was Exponential{Float64}(θ=0.9540092435974449)\n",
      "Transition shift 0.0\n",
      "Transition memory false\n",
      "Transition consumed 0.0\n"
     ]
    },
    {
     "data": {
      "text/plain": [
       "8×100 Matrix{Float64}:\n",
       "    2.28308e5       2.27544e5  …       2.2803e5      2.27459e5\n",
       "    1.59352e5       1.59931e5     159902.0           1.60343e5\n",
       "    0.0             0.0                0.0           0.0\n",
       " 1470.22         1504.78            1501.53       1427.81\n",
       "    1.82363e5       1.82732e5          1.82633e5     1.83229e5\n",
       "    1.75896e5  175329.0        …       1.76213e5     1.74845e5\n",
       "    1.05245e5       1.05091e5          1.04793e5     1.04964e5\n",
       "    1.47367e5       1.47868e5          1.46927e5     1.47732e5"
      ]
     },
     "metadata": {},
     "output_type": "display_data"
    }
   ],
   "source": [
    "sampler = FirstToFire{keyspace(GraphOccupancy)}()\n",
    "trial_cnt = 100\n",
    "first_to_fire = generate_samples(singleton_groc, sampler, trial_cnt)"
   ]
  },
  {
   "attachments": {},
   "cell_type": "markdown",
   "metadata": {},
   "source": [
    "Well, these odds don't look like they are in the right range."
   ]
  },
  {
   "cell_type": "code",
   "execution_count": 36,
   "metadata": {},
   "outputs": [
    {
     "data": {
      "text/plain": [
       "100-element Vector{Float64}:\n",
       " 108.80038192151687\n",
       " 115.62483626228914\n",
       " 124.02258491331668\n",
       " 124.38059189901787\n",
       " 125.95866491687502\n",
       " 127.52001715783945\n",
       " 127.79860457100949\n",
       " 129.69460152168585\n",
       " 141.13872019356677\n",
       " 145.2221799682875\n",
       "   ⋮\n",
       " 216.70654833379012\n",
       " 222.50752856145346\n",
       " 223.5938911574658\n",
       " 224.17995241333392\n",
       " 226.84122816242416\n",
       " 233.59314277986232\n",
       " 250.32552679576656\n",
       " 281.05655277413007\n",
       " 286.0982583300356"
      ]
     },
     "metadata": {},
     "output_type": "display_data"
    }
   ],
   "source": [
    "ftf_odds_ratio = occupancy_likelihood_ratio(first_to_fire, mle)\n",
    "sort!(ftf_odds_ratio)"
   ]
  },
  {
   "attachments": {},
   "cell_type": "markdown",
   "metadata": {},
   "source": [
    "Let's look in more depth at a single run with this sampler. We were using the total duration spent on each node during $10^6$ time units in order to evaluate if the sampler is working well. We can dig in by looking at another output of the model. The \"observations\" are a dictionary with an entry for each transition that tells us the total number of times that transition fired. If we group them by source node, that tells us how the particle left each node. If one type of transition wasn't firing properly due to some code error, it should show up as a bias in how the particle leaves the node."
   ]
  },
  {
   "cell_type": "code",
   "execution_count": 22,
   "metadata": {},
   "outputs": [
    {
     "data": {
      "text/plain": [
       "([2.31180496613119e6, 1.595318722941517e6, 0.0, 14263.47604591521, 1.8054266318270252e6, 1.787476771794091e6, 1.0183025283164126e6, 1.4674067812774011e6], Dict{Tuple{Int64, Int64}, TransitionObserver}((6, 8) => TransitionObserver(2.224929630756378e-6, 5.345915071666241, 0.4537133043736416, 405289.3908244516, 893272), (4, 5) => TransitionObserver(5.442136898636818e-5, 8.550146629102528, 1.002282063517336, 14263.47604591521, 14231), (2, 5) => TransitionObserver(7.729977369308472e-8, 6.9354165319819, 0.604621289751055, 1.0491019800773559e6, 1735139), (6, 2) => TransitionObserver(0.5691427085548639, 5.955648178234696, 0.9585710047237068, 423438.1970556455, 441739), (2, 6) => TransitionObserver(0.0009621046483516693, 6.907002249732614, 0.9138334472473781, 459827.28315317194, 503185), (7, 8) => TransitionObserver(3.9674341678619385e-7, 4.564894130453467, 0.33253663383340687, 352258.38397616474, 1059307), (7, 2) => TransitionObserver(0.2611461281776428, 3.3831943217664957, 1.3608218706302526, 254.47368980785723, 187), (5, 6) => TransitionObserver(1.2330710887908936e-6, 3.0050602620467544, 0.31383245505469204, 56596.85877701821, 180341), (2, 7) => TransitionObserver(0.00010904204100370407, 6.290487241465598, 0.915152276093912, 86389.4597109892, 94399), (8, 5) => TransitionObserver(0.7909085333812982, 4.586847765371203, 1.1370886754505172, 298276.5529894779, 262316)…))"
      ]
     },
     "metadata": {},
     "output_type": "display_data"
    }
   ],
   "source": [
    "rng = Xoshiro(2431243)\n",
    "groc_ftf = deepcopy(singleton_groc)\n",
    "sampler_ftf = FirstToFire{keyspace(GraphOccupancy)}()\n",
    "occupancy_ftf, observations_ftf = run_graph_occupancy(groc_ftf, 1e7, sampler_ftf, rng)\n",
    "groc_fr = deepcopy(singleton_groc)\n",
    "sampler_fr = FirstReaction{keyspace(GraphOccupancy)}()\n",
    "occupancy_fr, observations_fr = run_graph_occupancy(groc_fr, 1e7, sampler_fr, rng)\n"
   ]
  },
  {
   "attachments": {},
   "cell_type": "markdown",
   "metadata": {},
   "source": [
    "Just looking at the raw occupancies shows that the total dwell time on node 4 could be off. Because this is a particle on a graph, you can see dwell time increase on one node because of a problem on a neighboring node that dumps out to it. That is, this high dwell time doesn't mean there is a problem with the distributions on that node. We'll have to dig a little deeper."
   ]
  },
  {
   "cell_type": "code",
   "execution_count": 23,
   "metadata": {},
   "outputs": [
    {
     "data": {
      "text/plain": [
       "8×2 Matrix{Float64}:\n",
       "     2.3118e6       2.31296e6\n",
       "     1.59532e6      1.59358e6\n",
       "     0.0            0.0\n",
       " 14263.5        14070.7\n",
       "     1.80543e6      1.80624e6\n",
       "     1.78748e6      1.78737e6\n",
       "     1.0183e6       1.01799e6\n",
       "     1.46741e6      1.4678e6"
      ]
     },
     "metadata": {},
     "output_type": "display_data"
    }
   ],
   "source": [
    "hcat(occupancy_fr, occupancy_ftf)"
   ]
  },
  {
   "cell_type": "code",
   "execution_count": 24,
   "metadata": {},
   "outputs": [
    {
     "data": {
      "text/plain": [
       "24-element Vector{Pair{Tuple{Int64, Int64}, TransitionObserver}}:\n",
       " (1, 5) => TransitionObserver(0.0004142913967370987, 3.3154873268213123, 0.7184295751620818, 1.4606794013182377e6, 2033156)\n",
       " (1, 6) => TransitionObserver(0.21658028103411198, 3.0526506998576224, 0.5954087985870061, 851125.5648129521, 1429481)\n",
       " (2, 5) => TransitionObserver(7.729977369308472e-8, 6.9354165319819, 0.604621289751055, 1.0491019800773559e6, 1735139)\n",
       " (2, 6) => TransitionObserver(0.0009621046483516693, 6.907002249732614, 0.9138334472473781, 459827.28315317194, 503185)\n",
       " (2, 7) => TransitionObserver(0.00010904204100370407, 6.290487241465598, 0.915152276093912, 86389.4597109892, 94399)\n",
       " (4, 5) => TransitionObserver(5.442136898636818e-5, 8.550146629102528, 1.002282063517336, 14263.47604591521, 14231)\n",
       " (5, 6) => TransitionObserver(1.2330710887908936e-6, 3.0050602620467544, 0.31383245505469204, 56596.85877701821, 180341)\n",
       " (5, 1) => TransitionObserver(2.598389983177185e-7, 3.1215849025174975, 0.30532290833075487, 511526.0930239218, 1675361)\n",
       " (5, 7) => TransitionObserver(3.3010728657245636e-5, 3.4024405404925346, 0.4397761422131869, 589392.3835555352, 1340210)\n",
       " (5, 8) => TransitionObserver(1.721549779176712e-6, 2.6199177829548717, 0.3147724353473438, 56859.54840383814, 180637)\n",
       "        ⋮\n",
       " (6, 1) => TransitionObserver(8.069910109043121e-7, 5.554254803108051, 0.4535520943095293, 810622.319357064, 1787275)\n",
       " (6, 7) => TransitionObserver(0.346790979616344, 5.239134958945215, 1.652503030895236, 1127.0070670705509, 682)\n",
       " (7, 8) => TransitionObserver(3.9674341678619385e-7, 4.564894130453467, 0.33253663383340687, 352258.38397616474, 1059307)\n",
       " (7, 2) => TransitionObserver(0.2611461281776428, 3.3831943217664957, 1.3608218706302526, 254.47368980785723, 187)\n",
       " (7, 5) => TransitionObserver(2.6263296604156494e-7, 4.704421623144299, 0.3326047987331974, 327093.53721818834, 983430)\n",
       " (7, 6) => TransitionObserver(7.003545761108398e-7, 4.687421536073089, 0.33257280298371544, 338696.13343225163, 1018412)\n",
       " (8, 5) => TransitionObserver(0.7909085333812982, 4.586847765371203, 1.1370886754505172, 298276.5529894779, 262316)\n",
       " (8, 6) => TransitionObserver(3.511086106300354e-6, 4.121110022999346, 0.5369726650381271, 131480.4418979106, 244855)\n",
       " (8, 7) => TransitionObserver(2.9802322387695312e-8, 4.767103117424995, 0.6381433394463331, 1.0376497863900126e6, 1626045)"
      ]
     },
     "metadata": {},
     "output_type": "display_data"
    }
   ],
   "source": [
    "sort(collect(observations_fr), by = a -> a[1][1])"
   ]
  },
  {
   "cell_type": "code",
   "execution_count": 25,
   "metadata": {},
   "outputs": [
    {
     "data": {
      "text/plain": [
       "24-element Vector{Pair{Tuple{Int64, Int64}, TransitionObserver}}:\n",
       " (1, 5) => TransitionObserver(0.00013344455510377884, 3.4860272853984497, 0.7192650482879202, 1.4610955989357773e6, 2031373)\n",
       " (1, 6) => TransitionObserver(0.2165798507630825, 3.255967485718429, 0.5957999838047995, 851861.1134444748, 1429777)\n",
       " (2, 5) => TransitionObserver(3.5390257835388184e-8, 7.179546479135752, 0.6044925132029497, 1.048277064815816e6, 1734144)\n",
       " (2, 6) => TransitionObserver(0.0012898272834718227, 6.761778498068452, 0.9128762516626613, 459243.39455269, 503073)\n",
       " (2, 7) => TransitionObserver(8.825212717056274e-6, 6.503641169518232, 0.9122680860444093, 86056.98536082727, 94333)\n",
       " (4, 5) => TransitionObserver(0.00040536653250455856, 9.742169450037181, 1.0106061327827656, 14070.669186734445, 13923)\n",
       " (5, 6) => TransitionObserver(1.3532117009162903e-6, 3.060934967827052, 0.31297677441042165, 56536.12452949857, 180640)\n",
       " (5, 1) => TransitionObserver(4.807952791452408e-8, 3.2856816863641143, 0.30567179978108466, 511491.3210866813, 1673335)\n",
       " (5, 7) => TransitionObserver(1.8472783267498016e-5, 3.9499935377389193, 0.4401031810418603, 589884.3768521987, 1340332)\n",
       " (5, 8) => TransitionObserver(3.8063153624534607e-6, 2.901578073558994, 0.3135113967898214, 56540.83987685392, 180347)\n",
       "        ⋮\n",
       " (6, 1) => TransitionObserver(3.371387720108032e-7, 5.294854787178338, 0.4535931100794031, 810940.112503498, 1787814)\n",
       " (6, 7) => TransitionObserver(0.22247783560305834, 4.801192973623984, 1.5715595711598405, 964.9375766921421, 614)\n",
       " (7, 8) => TransitionObserver(6.575137376785278e-7, 5.440963165834546, 0.33270253989900317, 352502.9988585524, 1059514)\n",
       " (7, 2) => TransitionObserver(0.44762989273294806, 3.443770231679082, 1.491026123870171, 283.2949635353325, 190)\n",
       " (7, 5) => TransitionObserver(2.445694917696528e-7, 5.2468384969979525, 0.33231939761780044, 327035.18687627977, 984099)\n",
       " (7, 6) => TransitionObserver(6.780028343200684e-7, 4.811264798045158, 0.33254625000392357, 338165.28399023984, 1016897)\n",
       " (8, 5) => TransitionObserver(0.7909074313938618, 4.207406816305593, 1.1370617245316357, 299411.0933036703, 263320)\n",
       " (8, 6) => TransitionObserver(1.9138678908348083e-6, 3.77974246814847, 0.535978211320725, 131237.48091114743, 244856)\n",
       " (8, 7) => TransitionObserver(1.6391277313232422e-6, 4.743769041728228, 0.6380812907218514, 1.0371507296464024e6, 1625421)"
      ]
     },
     "metadata": {},
     "output_type": "display_data"
    }
   ],
   "source": [
    "sort(collect(observations_ftf), by = a -> a[1][1])"
   ]
  },
  {
   "attachments": {},
   "cell_type": "markdown",
   "metadata": {},
   "source": [
    "Here, I'm trying to summarize, node-by-node, the probability of leaving that node for a neighbor. So, given that you are at node 5, you can go to nodes 4, 6, 7, 2, 8, or 1. Let's take every transitition from 5 to each of those, normalize by the each direction, and turn it into a probability for P[4|5], P[6|5], and so on. Do this for both the FirstReaction and FirstToFire and compare the tuples."
   ]
  },
  {
   "cell_type": "code",
   "execution_count": 26,
   "metadata": {},
   "outputs": [
    {
     "data": {
      "text/plain": [
       "8-element Vector{Dict{Int64, Tuple{Float64, Float64}}}:\n",
       " Dict(5 => (0.5871698361682152, 0.5869069528913801), 6 => (0.41283016383178484, 0.41309304710862))\n",
       " Dict(5 => (0.7438255635152566, 0.7437730265274174), 6 => (0.21570713710972114, 0.2157676223971178), 7 => (0.04046729937502224, 0.04045935107546482))\n",
       " Dict()\n",
       " Dict(5 => (1.0, 1.0))\n",
       " Dict(4 => (0.0026944603856007402, 0.0026372674704053245), 6 => (0.034145294104393445, 0.03421647603634402), 7 => (0.25375186236989444, 0.2538830699664806), 2 => (0.3579985674733134, 0.3581423620582013), 8 => (0.03420133797159447, 0.03416097654853042), 1 => (0.31720847769520355, 0.3169598479200383))\n",
       " Dict(5 => (0.07502530896485297, 0.07480054028702526), 7 => (0.00020199782363635179, 0.00018191282820229535), 2 => (0.1308362413714053, 0.13054141583287485), 8 => (0.2645733136587848, 0.26479160167134635), 1 => (0.5293631381813206, 0.5296845293805512))\n",
       " Dict(5 => (0.3212420982211688, 0.3215274283660601), 6 => (0.33266913530563125, 0.33224327768157613), 2 => (6.108444156407529e-5, 6.207730257784167e-5), 8 => (0.34602768203163586, 0.346167216649786))\n",
       " Dict(5 => (0.12296738820635135, 0.12341599655417589), 6 => (0.11478209426518458, 0.11476206612588975), 7 => (0.7622505175284641, 0.7618219373199344))"
      ]
     },
     "metadata": {},
     "output_type": "display_data"
    }
   ],
   "source": [
    "ways_out = Array{Dict{Int,Tuple{Float64,Float64}},1}()\n",
    "node_cnt = nv(singleton_groc.g)\n",
    "for init_ways in 1:node_cnt\n",
    "    comparator = Dict{Int,Tuple{Float64,Float64}}()\n",
    "    totals = zeros(Int64, 0)\n",
    "    for obs in [observations_fr, observations_ftf]\n",
    "        total_calls = 0\n",
    "        for jump_to in neighbors(singleton_groc.g, init_ways)\n",
    "            total_calls += obs[(init_ways, jump_to)].call_cnt\n",
    "        end\n",
    "        push!(totals, total_calls)\n",
    "    end\n",
    "    for way_out in neighbors(singleton_groc.g, init_ways)\n",
    "        comparator[way_out] = (observations_fr[(init_ways, way_out)].call_cnt / totals[1],\n",
    "            observations_ftf[(init_ways, way_out)].call_cnt / totals[2])\n",
    "    end\n",
    "    push!(ways_out, comparator)\n",
    "end\n",
    "ways_out"
   ]
  },
  {
   "attachments": {},
   "cell_type": "markdown",
   "metadata": {},
   "source": [
    "Actually, that node 4 only has a single path to another node. Let's see what the transition away is. It does have a relative_enabling_time, meaning it always claims to have a te 0.9 time units in the past."
   ]
  },
  {
   "cell_type": "code",
   "execution_count": 27,
   "metadata": {},
   "outputs": [
    {
     "data": {
      "text/plain": [
       "Transition(Exponential{Float64}(θ=1.0025218240393494), -0.9162202776014298, false, 0.0)"
      ]
     },
     "metadata": {},
     "output_type": "display_data"
    }
   ],
   "source": [
    "singleton_groc.transition[(4,5)]"
   ]
  },
  {
   "attachments": {},
   "cell_type": "markdown",
   "metadata": {},
   "source": [
    "And in the other direction there is also an offset, this time into the future. This one is more suspicious, actually."
   ]
  },
  {
   "cell_type": "code",
   "execution_count": 28,
   "metadata": {},
   "outputs": [
    {
     "data": {
      "text/plain": [
       "Transition(Gamma{Float64}(α=2.0, θ=2.0), 0.5815720074869544, false, 0.0)"
      ]
     },
     "metadata": {},
     "output_type": "display_data"
    }
   ],
   "source": [
    "singleton_groc.transition[(5,4)] "
   ]
  },
  {
   "cell_type": "code",
   "execution_count": 34,
   "metadata": {},
   "outputs": [
    {
     "name": "stdout",
     "output_type": "stream",
     "text": [
      "fr  TransitionObserver(2.598389983177185e-7, 3.1215849025174975, 0.30532290833075487, 511526.0930239218, 1675361)\n",
      "ftf TransitionObserver(4.807952791452408e-8, 3.2856816863641143, 0.30567179978108466, 511491.3210866813, 1673335)\n",
      "fr  TransitionObserver(1.1082738637924194e-7, 3.160241512581706, 0.30479267458294546, 576301.0747234095, 1890797)\n",
      "ftf TransitionObserver(2.468004822731018e-8, 3.275742782279849, 0.30533464030926066, 577311.7764993749, 1890751)\n",
      "fr  TransitionObserver(0.5849626380950212, 3.1341096609830856, 1.0365169941186374, 14750.67334330233, 14231)\n",
      "ftf TransitionObserver(0.582367455586791, 3.1338147297501564, 1.03975434225738, 14476.499707249503, 13923)\n",
      "fr  TransitionObserver(1.2330710887908936e-6, 3.0050602620467544, 0.31383245505469204, 56596.85877701821, 180341)\n",
      "ftf TransitionObserver(1.3532117009162903e-6, 3.060934967827052, 0.31297677441042165, 56536.12452949857, 180640)\n",
      "fr  TransitionObserver(3.3010728657245636e-5, 3.4024405404925346, 0.4397761422131869, 589392.3835555352, 1340210)\n",
      "ftf TransitionObserver(1.8472783267498016e-5, 3.9499935377389193, 0.4401031810418603, 589884.3768521987, 1340332)\n",
      "fr  TransitionObserver(1.721549779176712e-6, 2.6199177829548717, 0.3147724353473438, 56859.54840383814, 180637)\n",
      "ftf TransitionObserver(3.8063153624534607e-6, 2.901578073558994, 0.3135113967898214, 56540.83987685392, 180347)\n"
     ]
    }
   ],
   "source": [
    "for dest in [1,2,4,6,7,8]\n",
    "    print(\"fr  \")\n",
    "    println(observations_fr[(5,dest)])\n",
    "    print(\"ftf \")\n",
    "    println(observations_ftf[(5,dest)])\n",
    "end"
   ]
  },
  {
   "cell_type": "code",
   "execution_count": 30,
   "metadata": {},
   "outputs": [
    {
     "data": {
      "text/plain": [
       "TransitionObserver(0.582367455586791, 3.1338147297501564, 1.03975434225738, 14476.499707249503, 13923)"
      ]
     },
     "metadata": {},
     "output_type": "display_data"
    }
   ],
   "source": [
    "observations_ftf[(5,4)]"
   ]
  },
  {
   "cell_type": "code",
   "execution_count": null,
   "metadata": {},
   "outputs": [],
   "source": []
  }
 ],
 "metadata": {
  "kernelspec": {
   "display_name": "Julia 1.8.5",
   "language": "julia",
   "name": "julia-1.8"
  },
  "language_info": {
   "file_extension": ".jl",
   "mimetype": "application/julia",
   "name": "julia",
   "version": "1.8.5"
  },
  "orig_nbformat": 4
 },
 "nbformat": 4,
 "nbformat_minor": 2
}
