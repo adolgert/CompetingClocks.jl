{
 "cells": [
  {
   "cell_type": "code",
   "execution_count": 11,
   "id": "471a5dda",
   "metadata": {},
   "outputs": [],
   "source": [
    "using Plots\n",
    "using Distributions\n",
    "using LaTeXStrings"
   ]
  },
  {
   "cell_type": "code",
   "execution_count": 13,
   "id": "aefdaf97",
   "metadata": {},
   "outputs": [
    {
     "name": "stdout",
     "output_type": "stream",
     "text": [
      "Plot{Plots.GRBackend() n=1}"
     ]
    }
   ],
   "source": [
    "x = 0:0.01:15\n",
    "y = pdf.(Gamma(5.0, 1.0), x)\n",
    "p = plot(x, y, label=\"Gamma(5,1)\")\n",
    "xlabel!(p, \"Time\")\n",
    "ylabel!(p, \"Probability Density Function\")\n",
    "title!(p, \"PDF of a Gamma Distribution\")\n",
    "savefig(p, \"gammapdf.png\")"
   ]
  },
  {
   "cell_type": "code",
   "execution_count": 4,
   "id": "8446f094",
   "metadata": {},
   "outputs": [
    {
     "data": {
      "text/plain": [
       "1-element Vector{Float64}:\n",
       " 0.0"
      ]
     },
     "execution_count": 4,
     "metadata": {},
     "output_type": "execute_result"
    }
   ],
   "source": [
    "collect(x)"
   ]
  },
  {
   "cell_type": "code",
   "execution_count": 9,
   "id": "fa229ee5",
   "metadata": {},
   "outputs": [
    {
     "name": "stderr",
     "output_type": "stream",
     "text": [
      "\u001b[32m\u001b[1m   Resolving\u001b[22m\u001b[39m package versions...\n",
      "\u001b[32m\u001b[1m    Updating\u001b[22m\u001b[39m `~/dev/Fleck/docs/notes/Project.toml`\n",
      "  \u001b[90m[b964fa9f] \u001b[39m\u001b[92m+ LaTeXStrings v1.3.1\u001b[39m\n",
      "\u001b[32m\u001b[1m  No Changes\u001b[22m\u001b[39m to `~/dev/Fleck/docs/notes/Manifest.toml`\n"
     ]
    }
   ],
   "source": [
    "using Pkg\n",
    "Pkg.add(\"LaTeXStrings\")"
   ]
  },
  {
   "cell_type": "code",
   "execution_count": 19,
   "id": "7cbc9372",
   "metadata": {},
   "outputs": [
    {
     "data": {
      "text/plain": [
       "hazard (generic function with 1 method)"
      ]
     },
     "execution_count": 19,
     "metadata": {},
     "output_type": "execute_result"
    }
   ],
   "source": [
    "survival = ccdf\n",
    "hazard(dist, x) = pdf(dist, x) / survival(dist, x)"
   ]
  },
  {
   "cell_type": "code",
   "execution_count": 22,
   "id": "c70e5181",
   "metadata": {},
   "outputs": [
    {
     "data": {
      "text/plain": [
       "\"/home/adolgert/dev/Fleck/docs/notes/gammahazard.png\""
      ]
     },
     "execution_count": 22,
     "metadata": {},
     "output_type": "execute_result"
    }
   ],
   "source": [
    "x = 0:0.01:15\n",
    "y = hazard.(Gamma(5.0, 1.0), x)\n",
    "p = plot(x, y, label=\"Gamma(5,1)\")\n",
    "xlabel!(p, \"Time\")\n",
    "ylabel!(p, \"Hazard Rate [per unit time]\")\n",
    "title!(p, \"Hazard of a Gamma Distribution\")\n",
    "savefig(p, \"gammahazard.png\")"
   ]
  },
  {
   "cell_type": "markdown",
   "id": "91d3514a",
   "metadata": {},
   "source": [
    "OK, now shift this distribution and see how it changes."
   ]
  },
  {
   "cell_type": "code",
   "execution_count": 30,
   "id": "c8e47a9b",
   "metadata": {},
   "outputs": [
    {
     "data": {
      "text/plain": [
       "\"/home/adolgert/dev/Fleck/docs/notes/shiftedgamma.png\""
      ]
     },
     "execution_count": 30,
     "metadata": {},
     "output_type": "execute_result"
    }
   ],
   "source": [
    "t=5.0\n",
    "conditional_survival(dist, intermediate, x) = survival(dist, x) / survival(dist, intermediate)\n",
    "shiftpdf(dist, intermediate, x) = hazard(dist, x) * conditional_survival(dist, intermediate, x)\n",
    "x1 = 5:0.01:15\n",
    "y1 = shiftpdf.(Gamma(5.0, 1.0), t, x1)\n",
    "plot(x1, y1, label=\"Shifted Gamma(5,1)\")\n",
    "x = 0:0.01:15\n",
    "y = pdf.(Gamma(5.0, 1.0), x)\n",
    "plot!(x, y, label=\"Gamma(5,1)\")\n",
    "vline!([t], label=\"New start time\")\n",
    "xlabel!(\"Time\")\n",
    "ylabel!(\"Probability Density Function\")\n",
    "title!(\"Change to PDF After Not Firing\")\n",
    "savefig(\"shiftedgamma.png\")"
   ]
  },
  {
   "cell_type": "code",
   "execution_count": 50,
   "id": "602ad494",
   "metadata": {},
   "outputs": [
    {
     "data": {
      "text/plain": [
       "\"/home/adolgert/dev/Fleck/docs/notes/competinghazards.png\""
      ]
     },
     "execution_count": 50,
     "metadata": {},
     "output_type": "execute_result"
    }
   ],
   "source": [
    "x = 0:0.01:15\n",
    "yw = hazard.(Weibull(1.8, 8), x)\n",
    "plot(x, yw, label=\"Weibull(2, 1)\")\n",
    "yg = hazard.(Gamma(5.0, 1.5), x)\n",
    "plot!(x, yg, label=\"Gamma(5,1.5)\")\n",
    "ye = hazard.(Exponential(4), x)\n",
    "plot!(x, ye, label=\"Exponential(4)\")\n",
    "xlabel!(\"Time\")\n",
    "ylabel!(\"Hazard [per unit time]\")\n",
    "title!(\"Three Hazard Rates\")\n",
    "savefig(\"competinghazards.png\")"
   ]
  },
  {
   "cell_type": "code",
   "execution_count": null,
   "id": "59c99c70",
   "metadata": {},
   "outputs": [],
   "source": []
  }
 ],
 "metadata": {
  "kernelspec": {
   "display_name": "Julia 1.10.0",
   "language": "julia",
   "name": "julia-1.10"
  },
  "language_info": {
   "file_extension": ".jl",
   "mimetype": "application/julia",
   "name": "julia",
   "version": "1.10.0"
  }
 },
 "nbformat": 4,
 "nbformat_minor": 5
}
