{
 "cells": [
  {
   "cell_type": "code",
   "execution_count": 1,
   "id": "471a5dda",
   "metadata": {},
   "outputs": [],
   "source": [
    "using Plots\n",
    "using Distributions\n",
    "using LaTeXStrings\n",
    "using QuadGK\n",
    "using ForwardDiff"
   ]
  },
  {
   "cell_type": "code",
   "execution_count": 13,
   "id": "aefdaf97",
   "metadata": {},
   "outputs": [
    {
     "name": "stdout",
     "output_type": "stream",
     "text": [
      "Plot{Plots.GRBackend() n=1}"
     ]
    }
   ],
   "source": [
    "x = 0:0.01:15\n",
    "y = pdf.(Gamma(5.0, 1.0), x)\n",
    "p = plot(x, y, label=\"Gamma(5,1)\")\n",
    "xlabel!(p, \"Time\")\n",
    "ylabel!(p, \"Probability Density Function\")\n",
    "title!(p, \"PDF of a Gamma Distribution\")\n",
    "savefig(p, \"gammapdf.png\")"
   ]
  },
  {
   "cell_type": "code",
   "execution_count": 2,
   "id": "7cbc9372",
   "metadata": {},
   "outputs": [
    {
     "data": {
      "text/plain": [
       "shiftpdf (generic function with 1 method)"
      ]
     },
     "execution_count": 2,
     "metadata": {},
     "output_type": "execute_result"
    }
   ],
   "source": [
    "survival = ccdf\n",
    "hazard(dist, x) = pdf(dist, x) / survival(dist, x)\n",
    "conditional_survival(dist, intermediate, x) = survival(dist, x) / survival(dist, intermediate)\n",
    "shiftpdf(dist, intermediate, x) = hazard(dist, x) * conditional_survival(dist, intermediate, x)"
   ]
  },
  {
   "cell_type": "code",
   "execution_count": 22,
   "id": "c70e5181",
   "metadata": {},
   "outputs": [
    {
     "data": {
      "text/plain": [
       "\"/home/adolgert/dev/Fleck/docs/notes/gammahazard.png\""
      ]
     },
     "execution_count": 22,
     "metadata": {},
     "output_type": "execute_result"
    }
   ],
   "source": [
    "x = 0:0.01:15\n",
    "y = hazard.(Gamma(5.0, 1.0), x)\n",
    "p = plot(x, y, label=\"Gamma(5,1)\")\n",
    "xlabel!(p, \"Time\")\n",
    "ylabel!(p, \"Hazard Rate [per unit time]\")\n",
    "title!(p, \"Hazard of a Gamma Distribution\")\n",
    "savefig(p, \"gammahazard.png\")"
   ]
  },
  {
   "cell_type": "markdown",
   "id": "91d3514a",
   "metadata": {},
   "source": [
    "OK, now shift this distribution and see how it changes."
   ]
  },
  {
   "cell_type": "code",
   "execution_count": 30,
   "id": "c8e47a9b",
   "metadata": {},
   "outputs": [
    {
     "data": {
      "text/plain": [
       "\"/home/adolgert/dev/Fleck/docs/notes/shiftedgamma.png\""
      ]
     },
     "execution_count": 30,
     "metadata": {},
     "output_type": "execute_result"
    }
   ],
   "source": [
    "t=5.0\n",
    "\n",
    "x1 = 5:0.01:15\n",
    "y1 = shiftpdf.(Gamma(5.0, 1.0), t, x1)\n",
    "plot(x1, y1, label=\"Shifted Gamma(5,1)\")\n",
    "x = 0:0.01:15\n",
    "y = pdf.(Gamma(5.0, 1.0), x)\n",
    "plot!(x, y, label=\"Gamma(5,1)\")\n",
    "vline!([t], label=\"New start time\")\n",
    "xlabel!(\"Time\")\n",
    "ylabel!(\"Probability Density Function\")\n",
    "title!(\"Change to PDF After Not Firing\")\n",
    "savefig(\"shiftedgamma.png\")"
   ]
  },
  {
   "cell_type": "code",
   "execution_count": 29,
   "id": "3340aa16",
   "metadata": {},
   "outputs": [
    {
     "data": {
      "text/plain": [
       "\"/home/adolgert/dev/Fleck/docs/notes/individual_distributions.png\""
      ]
     },
     "execution_count": 29,
     "metadata": {},
     "output_type": "execute_result"
    }
   ],
   "source": [
    "com_dists = [\n",
    "    Exponential(10),\n",
    "    Weibull(1.8, 8),\n",
    "    Gamma(5.0, 1.5)\n",
    "]\n",
    "com_diff_dists = [\n",
    "    Exponential(10.0),\n",
    "    Weibull(1.8, 8),\n",
    "    Gamma{ForwardDiff.Dual}(5.0, 1.5)\n",
    "]\n",
    "com_labels = [\"Exponential(10)\" \"Weibull(1.8, 8)\" \"Gamma(5,1.5)\"]\n",
    "com_x = 0:0.01:15\n",
    "com_hazard = stack([hazard.(d, com_x) for d in com_dists])\n",
    "a = plot(com_x, com_hazard,\n",
    "    label=com_labels,\n",
    "    title=\"Hazards of Individual Distributions\")\n",
    "com_pdf = stack([pdf.(d, com_x) for d in com_dists])\n",
    "b = plot(com_x, com_pdf,\n",
    "    label=[\"Exponential(10)\" \"Weibull(1.8, 8)\" \"Gamma(5,1.5)\"],\n",
    "    title=\"PDFs of Individual Distributions\"\n",
    "    )\n",
    "plot(a, b, layout=(1, 2), size=(1000, 400))\n",
    "savefig(\"individual_distributions.png\")"
   ]
  },
  {
   "cell_type": "code",
   "execution_count": 31,
   "id": "80280377",
   "metadata": {
    "scrolled": true
   },
   "outputs": [
    {
     "name": "stdout",
     "output_type": "stream",
     "text": [
      "tp = [0.38787017893511294, 0.35009751360605557, 0.26211976998246983]\n"
     ]
    },
    {
     "data": {
      "text/plain": [
       "\"/home/adolgert/dev/Fleck/docs/notes/conditional_on_which.png\""
      ]
     },
     "execution_count": 31,
     "metadata": {},
     "output_type": "execute_result"
    }
   ],
   "source": [
    "function marginal_probability_event(dists, which, t)\n",
    "    core_matrix = pdf(dists[which], t)\n",
    "    for i in eachindex(dists)\n",
    "        if i != which\n",
    "            core_matrix *= survival(dists[i], t)\n",
    "        end\n",
    "    end\n",
    "    core_matrix\n",
    "end\n",
    "\n",
    "total_probability(which, lim) = quadgk(t -> marginal_probability_event(com_dists, which, t), 0, lim, rtol=1e-3)[1]\n",
    "tp = total_probability.([1, 2, 3], Inf)\n",
    "@show tp\n",
    "bb = bar(reshape(com_labels, 3), tp, legend=:none, ylabel=\"Probability of Each Clock\")\n",
    "com_pdfs = zeros(Float64, length(com_x), length(com_dists))\n",
    "for pdfidx in eachindex(com_dists)\n",
    "    for (ix, x) in enumerate(com_x)\n",
    "        com_pdfs[ix, pdfidx] = marginal_probability_event(com_dists, pdfidx, x)\n",
    "    end\n",
    "end\n",
    "bp = plot(com_x, com_pdfs, labels=com_labels, title=\"PDFs of Competing Clocks\")\n",
    "plot(bb, bp, size=(1000, 400))\n",
    "savefig(\"conditional_on_which.png\")"
   ]
  },
  {
   "cell_type": "code",
   "execution_count": 32,
   "id": "d78e9f35",
   "metadata": {},
   "outputs": [
    {
     "data": {
      "text/plain": [
       "\"/home/adolgert/dev/Fleck/docs/notes/conditional_on_when.png\""
      ]
     },
     "execution_count": 32,
     "metadata": {},
     "output_type": "execute_result"
    }
   ],
   "source": [
    "function total_pdf(t)\n",
    "    factor1 = zero(Float64)\n",
    "    for dist in com_dists\n",
    "        factor1 += hazard(dist, t)\n",
    "    end\n",
    "    factor2 = one(Float64)\n",
    "    for dist in com_dists\n",
    "        factor2 *= survival(dist, t)\n",
    "    end\n",
    "    return factor1 * factor2\n",
    "end\n",
    "a = plot(com_x, total_pdf.(com_x), legend=:none, title=\"PDF for First to Fire\")\n",
    "\n",
    "function com_cond_prob(i, t)\n",
    "    hazard(com_dists[i], t) / sum(hazard.(com_dists, t))\n",
    "end\n",
    "com_rel_prob = stack([com_cond_prob.(i, com_x) for i in eachindex(com_dists)])\n",
    "b = plot(com_x, com_rel_prob, labels=com_labels, ylabel=\"Conditional Probability\",\n",
    "    title=\"Which Event Fires Given Firing Time\")\n",
    "plot(a, b, size=(1000, 400))\n",
    "savefig(\"conditional_on_when.png\")"
   ]
  },
  {
   "cell_type": "code",
   "execution_count": 50,
   "id": "602ad494",
   "metadata": {},
   "outputs": [
    {
     "data": {
      "text/plain": [
       "\"/home/adolgert/dev/Fleck/docs/notes/competinghazards.png\""
      ]
     },
     "execution_count": 50,
     "metadata": {},
     "output_type": "execute_result"
    }
   ],
   "source": [
    "x = 0:0.01:15\n",
    "yw = hazard.(Weibull(1.8, 8), x)\n",
    "plot(x, yw, label=\"Weibull(2, 1)\")\n",
    "yg = hazard.(Gamma(5.0, 1.5), x)\n",
    "plot!(x, yg, label=\"Gamma(5,1.5)\")\n",
    "ye = hazard.(Exponential(4), x)\n",
    "plot!(x, ye, label=\"Exponential(4)\")\n",
    "xlabel!(\"Time\")\n",
    "ylabel!(\"Hazard [per unit time]\")\n",
    "title!(\"Three Hazard Rates\")\n",
    "savefig(\"competinghazards.png\")"
   ]
  },
  {
   "cell_type": "code",
   "execution_count": 109,
   "id": "59c99c70",
   "metadata": {},
   "outputs": [
    {
     "name": "stderr",
     "output_type": "stream",
     "text": [
      "\u001b[32m\u001b[1m   Resolving\u001b[22m\u001b[39m package versions...\n",
      "\u001b[32m\u001b[1m    Updating\u001b[22m\u001b[39m `~/dev/Fleck/docs/notes/Project.toml`\n",
      "  \u001b[90m[f6369f11] \u001b[39m\u001b[92m+ ForwardDiff v0.10.36\u001b[39m\n",
      "\u001b[32m\u001b[1m    Updating\u001b[22m\u001b[39m `~/dev/Fleck/docs/notes/Manifest.toml`\n",
      "  \u001b[90m[bbf7d656] \u001b[39m\u001b[92m+ CommonSubexpressions v0.3.0\u001b[39m\n",
      "  \u001b[90m[163ba53b] \u001b[39m\u001b[92m+ DiffResults v1.1.0\u001b[39m\n",
      "  \u001b[90m[b552c78f] \u001b[39m\u001b[92m+ DiffRules v1.15.1\u001b[39m\n",
      "  \u001b[90m[f6369f11] \u001b[39m\u001b[92m+ ForwardDiff v0.10.36\u001b[39m\n",
      "  \u001b[90m[1e83bf80] \u001b[39m\u001b[92m+ StaticArraysCore v1.4.2\u001b[39m\n",
      "\u001b[32m\u001b[1mPrecompiling\u001b[22m\u001b[39m project...\n",
      "\u001b[32m  ✓ \u001b[39mForwardDiff\n",
      "  1 dependency successfully precompiled in 2 seconds. 178 already precompiled.\n"
     ]
    }
   ],
   "source": [
    "using Pkg\n",
    "Pkg.add(\"ForwardDiff\")"
   ]
  },
  {
   "cell_type": "code",
   "execution_count": 16,
   "id": "842cbbe0",
   "metadata": {},
   "outputs": [
    {
     "data": {
      "text/plain": [
       "1×3 Matrix{Int64}:\n",
       " 1  2  3"
      ]
     },
     "execution_count": 16,
     "metadata": {},
     "output_type": "execute_result"
    }
   ],
   "source": [
    "a=[1 2 3]"
   ]
  },
  {
   "cell_type": "code",
   "execution_count": 22,
   "id": "6d04fe6b",
   "metadata": {},
   "outputs": [
    {
     "name": "stderr",
     "output_type": "stream",
     "text": [
      "\u001b[32m\u001b[1m   Resolving\u001b[22m\u001b[39m package versions...\n",
      "\u001b[32m\u001b[1m    Updating\u001b[22m\u001b[39m `~/dev/Fleck/docs/notes/Project.toml`\n",
      "  \u001b[90m[1fd47b50] \u001b[39m\u001b[92m+ QuadGK v2.9.4\u001b[39m\n",
      "\u001b[32m\u001b[1m  No Changes\u001b[22m\u001b[39m to `~/dev/Fleck/docs/notes/Manifest.toml`\n"
     ]
    }
   ],
   "source": [
    "using Pkg\n",
    "Pkg.add(\"QuadGK\")"
   ]
  },
  {
   "cell_type": "code",
   "execution_count": 83,
   "id": "13d05d0e",
   "metadata": {},
   "outputs": [
    {
     "data": {
      "image/png": "[encoded data removed]",
      "image/svg+xml": [
       "<?xml version=\"1.0\" encoding=\"utf-8\"?>\n",
       "<svg xmlns=\"http://www.w3.org/2000/svg\" xmlns:xlink=\"http://www.w3.org/1999/xlink\" width=\"600\" height=\"400\" viewBox=\"0 0 2400 1600\">\n",
       "<defs>\n",
       "  <clipPath id=\"clip280\">\n",
       "    <rect x=\"0\" y=\"0\" width=\"2400\" height=\"1600\"/>\n",
       "  </clipPath>\n",
       "</defs>\n",
       "<path clip-path=\"url(#clip280)\" d=\"M0 1600 L2400 1600 L2400 0 L0 0  Z\" fill=\"#ffffff\" fill-rule=\"evenodd\" fill-opacity=\"1\"/>\n",
       "<defs>\n",
       "  <clipPath id=\"clip281\">\n",
       "    <rect x=\"480\" y=\"0\" width=\"1681\" height=\"1600\"/>\n",
       "  </clipPath>\n",
       "</defs>\n",
       "<path clip-path=\"url(#clip280)\" d=\"M112.177 1486.45 L2352.76 1486.45 L2352.76 47.2441 L112.177 47.2441  Z\" fill=\"#ffffff\" fill-rule=\"evenodd\" fill-opacity=\"1\"/>\n",
       "<defs>\n",
       "  <clipPath id=\"clip282\">\n",
       "    <rect x=\"112\" y=\"47\" width=\"2242\" height=\"1440\"/>\n",
       "  </clipPath>\n",
       "</defs>\n",
       "<polyline clip-path=\"url(#clip282)\" style=\"stroke:#000000; stroke-linecap:round; stroke-linejoin:round; stroke-width:2; stroke-opacity:0.1; fill:none\" points=\"520.285,1486.45 520.285,47.2441 \"/>\n",
       "<polyline clip-path=\"url(#clip282)\" style=\"stroke:#000000; stroke-linecap:round; stroke-linejoin:round; stroke-width:2; stroke-opacity:0.1; fill:none\" points=\"1232.47,1486.45 1232.47,47.2441 \"/>\n",
       "<polyline clip-path=\"url(#clip282)\" style=\"stroke:#000000; stroke-linecap:round; stroke-linejoin:round; stroke-width:2; stroke-opacity:0.1; fill:none\" points=\"1944.65,1486.45 1944.65,47.2441 \"/>\n",
       "<polyline clip-path=\"url(#clip280)\" style=\"stroke:#000000; stroke-linecap:round; stroke-linejoin:round; stroke-width:4; stroke-opacity:1; fill:none\" points=\"112.177,1486.45 2352.76,1486.45 \"/>\n",
       "<polyline clip-path=\"url(#clip280)\" style=\"stroke:#000000; stroke-linecap:round; stroke-linejoin:round; stroke-width:4; stroke-opacity:1; fill:none\" points=\"520.285,1486.45 520.285,1467.55 \"/>\n",
       "<polyline clip-path=\"url(#clip280)\" style=\"stroke:#000000; stroke-linecap:round; stroke-linejoin:round; stroke-width:4; stroke-opacity:1; fill:none\" points=\"1232.47,1486.45 1232.47,1467.55 \"/>\n",
       "<polyline clip-path=\"url(#clip280)\" style=\"stroke:#000000; stroke-linecap:round; stroke-linejoin:round; stroke-width:4; stroke-opacity:1; fill:none\" points=\"1944.65,1486.45 1944.65,1467.55 \"/>\n",
       "<path clip-path=\"url(#clip280)\" d=\"M522.739 1535.82 Q517.577 1535.82 515.586 1537 Q513.596 1538.18 513.596 1541.02 Q513.596 1543.29 515.077 1544.63 Q516.582 1545.95 519.151 1545.95 Q522.693 1545.95 524.822 1543.45 Q526.975 1540.93 526.975 1536.76 L526.975 1535.82 L522.739 1535.82 M531.234 1534.06 L531.234 1548.85 L526.975 1548.85 L526.975 1544.91 Q525.517 1547.27 523.341 1548.41 Q521.165 1549.52 518.017 1549.52 Q514.035 1549.52 511.674 1547.3 Q509.336 1545.05 509.336 1541.3 Q509.336 1536.93 512.253 1534.7 Q515.193 1532.48 521.003 1532.48 L526.975 1532.48 L526.975 1532.07 Q526.975 1529.13 525.031 1527.53 Q523.109 1525.91 519.614 1525.91 Q517.392 1525.91 515.285 1526.44 Q513.179 1526.97 511.235 1528.04 L511.235 1524.1 Q513.573 1523.2 515.772 1522.76 Q517.971 1522.3 520.054 1522.3 Q525.679 1522.3 528.457 1525.21 Q531.234 1528.13 531.234 1534.06 Z\" fill=\"#000000\" fill-rule=\"nonzero\" fill-opacity=\"1\" /><path clip-path=\"url(#clip280)\" d=\"M1239.64 1535.91 Q1239.64 1531.21 1237.7 1528.55 Q1235.78 1525.86 1232.4 1525.86 Q1229.02 1525.86 1227.07 1528.55 Q1225.15 1531.21 1225.15 1535.91 Q1225.15 1540.61 1227.07 1543.29 Q1229.02 1545.95 1232.4 1545.95 Q1235.78 1545.95 1237.7 1543.29 Q1239.64 1540.61 1239.64 1535.91 M1225.15 1526.86 Q1226.49 1524.54 1228.53 1523.43 Q1230.59 1522.3 1233.44 1522.3 Q1238.16 1522.3 1241.1 1526.05 Q1244.06 1529.8 1244.06 1535.91 Q1244.06 1542.02 1241.1 1545.77 Q1238.16 1549.52 1233.44 1549.52 Q1230.59 1549.52 1228.53 1548.41 Q1226.49 1547.27 1225.15 1544.96 L1225.15 1548.85 L1220.87 1548.85 L1220.87 1512.83 L1225.15 1512.83 L1225.15 1526.86 Z\" fill=\"#000000\" fill-rule=\"nonzero\" fill-opacity=\"1\" /><path clip-path=\"url(#clip280)\" d=\"M1954.9 1523.92 L1954.9 1527.9 Q1953.1 1526.9 1951.27 1526.42 Q1949.46 1525.91 1947.61 1525.91 Q1943.47 1525.91 1941.18 1528.55 Q1938.88 1531.16 1938.88 1535.91 Q1938.88 1540.65 1941.18 1543.29 Q1943.47 1545.91 1947.61 1545.91 Q1949.46 1545.91 1951.27 1545.42 Q1953.1 1544.91 1954.9 1543.92 L1954.9 1547.85 Q1953.12 1548.69 1951.2 1549.1 Q1949.3 1549.52 1947.15 1549.52 Q1941.29 1549.52 1937.84 1545.84 Q1934.39 1542.16 1934.39 1535.91 Q1934.39 1529.57 1937.87 1525.93 Q1941.36 1522.3 1947.43 1522.3 Q1949.39 1522.3 1951.27 1522.71 Q1953.14 1523.11 1954.9 1523.92 Z\" fill=\"#000000\" fill-rule=\"nonzero\" fill-opacity=\"1\" /><polyline clip-path=\"url(#clip282)\" style=\"stroke:#000000; stroke-linecap:round; stroke-linejoin:round; stroke-width:2; stroke-opacity:0.1; fill:none\" points=\"112.177,1486.45 2352.76,1486.45 \"/>\n",
       "<polyline clip-path=\"url(#clip282)\" style=\"stroke:#000000; stroke-linecap:round; stroke-linejoin:round; stroke-width:2; stroke-opacity:0.1; fill:none\" points=\"112.177,1126.65 2352.76,1126.65 \"/>\n",
       "<polyline clip-path=\"url(#clip282)\" style=\"stroke:#000000; stroke-linecap:round; stroke-linejoin:round; stroke-width:2; stroke-opacity:0.1; fill:none\" points=\"112.177,766.846 2352.76,766.846 \"/>\n",
       "<polyline clip-path=\"url(#clip282)\" style=\"stroke:#000000; stroke-linecap:round; stroke-linejoin:round; stroke-width:2; stroke-opacity:0.1; fill:none\" points=\"112.177,407.045 2352.76,407.045 \"/>\n",
       "<polyline clip-path=\"url(#clip282)\" style=\"stroke:#000000; stroke-linecap:round; stroke-linejoin:round; stroke-width:2; stroke-opacity:0.1; fill:none\" points=\"112.177,47.2441 2352.76,47.2441 \"/>\n",
       "<polyline clip-path=\"url(#clip280)\" style=\"stroke:#000000; stroke-linecap:round; stroke-linejoin:round; stroke-width:4; stroke-opacity:1; fill:none\" points=\"112.177,1486.45 112.177,47.2441 \"/>\n",
       "<polyline clip-path=\"url(#clip280)\" style=\"stroke:#000000; stroke-linecap:round; stroke-linejoin:round; stroke-width:4; stroke-opacity:1; fill:none\" points=\"112.177,1486.45 131.075,1486.45 \"/>\n",
       "<polyline clip-path=\"url(#clip280)\" style=\"stroke:#000000; stroke-linecap:round; stroke-linejoin:round; stroke-width:4; stroke-opacity:1; fill:none\" points=\"112.177,1126.65 131.075,1126.65 \"/>\n",
       "<polyline clip-path=\"url(#clip280)\" style=\"stroke:#000000; stroke-linecap:round; stroke-linejoin:round; stroke-width:4; stroke-opacity:1; fill:none\" points=\"112.177,766.846 131.075,766.846 \"/>\n",
       "<polyline clip-path=\"url(#clip280)\" style=\"stroke:#000000; stroke-linecap:round; stroke-linejoin:round; stroke-width:4; stroke-opacity:1; fill:none\" points=\"112.177,407.045 131.075,407.045 \"/>\n",
       "<polyline clip-path=\"url(#clip280)\" style=\"stroke:#000000; stroke-linecap:round; stroke-linejoin:round; stroke-width:4; stroke-opacity:1; fill:none\" points=\"112.177,47.2441 131.075,47.2441 \"/>\n",
       "<path clip-path=\"url(#clip280)\" d=\"M64.2328 1472.25 Q60.6217 1472.25 58.793 1475.81 Q56.9875 1479.35 56.9875 1486.48 Q56.9875 1493.59 58.793 1497.15 Q60.6217 1500.7 64.2328 1500.7 Q67.867 1500.7 69.6726 1497.15 Q71.5013 1493.59 71.5013 1486.48 Q71.5013 1479.35 69.6726 1475.81 Q67.867 1472.25 64.2328 1472.25 M64.2328 1468.54 Q70.0429 1468.54 73.0985 1473.15 Q76.1772 1477.73 76.1772 1486.48 Q76.1772 1495.21 73.0985 1499.82 Q70.0429 1504.4 64.2328 1504.4 Q58.4226 1504.4 55.344 1499.82 Q52.2884 1495.21 52.2884 1486.48 Q52.2884 1477.73 55.344 1473.15 Q58.4226 1468.54 64.2328 1468.54 Z\" fill=\"#000000\" fill-rule=\"nonzero\" fill-opacity=\"1\" /><path clip-path=\"url(#clip280)\" d=\"M56.2699 1139.99 L63.9087 1139.99 L63.9087 1113.63 L55.5986 1115.29 L55.5986 1111.03 L63.8624 1109.37 L68.5383 1109.37 L68.5383 1139.99 L76.1772 1139.99 L76.1772 1143.93 L56.2699 1143.93 L56.2699 1139.99 Z\" fill=\"#000000\" fill-rule=\"nonzero\" fill-opacity=\"1\" /><path clip-path=\"url(#clip280)\" d=\"M59.8578 780.191 L76.1772 780.191 L76.1772 784.126 L54.2328 784.126 L54.2328 780.191 Q56.8949 777.436 61.4782 772.807 Q66.0846 768.154 67.2652 766.811 Q69.5105 764.288 70.3902 762.552 Q71.2929 760.793 71.2929 759.103 Q71.2929 756.348 69.3485 754.612 Q67.4272 752.876 64.3254 752.876 Q62.1263 752.876 59.6726 753.64 Q57.2421 754.404 54.4643 755.955 L54.4643 751.233 Q57.2884 750.098 59.7421 749.52 Q62.1958 748.941 64.2328 748.941 Q69.6031 748.941 72.7976 751.626 Q75.992 754.311 75.992 758.802 Q75.992 760.932 75.1818 762.853 Q74.3948 764.751 72.2883 767.344 Q71.7096 768.015 68.6078 771.233 Q65.5059 774.427 59.8578 780.191 Z\" fill=\"#000000\" fill-rule=\"nonzero\" fill-opacity=\"1\" /><path clip-path=\"url(#clip280)\" d=\"M69.0476 405.691 Q72.404 406.408 74.279 408.677 Q76.1772 410.945 76.1772 414.279 Q76.1772 419.395 72.6587 422.195 Q69.1402 424.996 62.6587 424.996 Q60.4828 424.996 58.168 424.557 Q55.8764 424.14 53.4227 423.283 L53.4227 418.77 Q55.3671 419.904 57.6819 420.482 Q59.9967 421.061 62.5198 421.061 Q66.918 421.061 69.2096 419.325 Q71.5244 417.589 71.5244 414.279 Q71.5244 411.223 69.3717 409.51 Q67.242 407.774 63.4226 407.774 L59.3949 407.774 L59.3949 403.932 L63.6078 403.932 Q67.0569 403.932 68.8855 402.566 Q70.7142 401.177 70.7142 398.584 Q70.7142 395.922 68.8161 394.51 Q66.9411 393.075 63.4226 393.075 Q61.5013 393.075 59.3023 393.492 Q57.1032 393.909 54.4643 394.788 L54.4643 390.622 Q57.1264 389.881 59.4412 389.51 Q61.7791 389.14 63.8393 389.14 Q69.1633 389.14 72.2652 391.571 Q75.367 393.978 75.367 398.098 Q75.367 400.969 73.7235 402.959 Q72.08 404.927 69.0476 405.691 Z\" fill=\"#000000\" fill-rule=\"nonzero\" fill-opacity=\"1\" /><path clip-path=\"url(#clip280)\" d=\"M66.5939 34.0381 L54.7884 52.4871 L66.5939 52.4871 L66.5939 34.0381 M65.367 29.9641 L71.2466 29.9641 L71.2466 52.4871 L76.1772 52.4871 L76.1772 56.376 L71.2466 56.376 L71.2466 64.5241 L66.5939 64.5241 L66.5939 56.376 L50.9921 56.376 L50.9921 51.8621 L65.367 29.9641 Z\" fill=\"#000000\" fill-rule=\"nonzero\" fill-opacity=\"1\" /><path clip-path=\"url(#clip282)\" d=\"M235.413 47.2441 L235.413 1486.45 L805.158 1486.45 L805.158 47.2441 L235.413 47.2441 L235.413 47.2441  Z\" fill=\"#009af9\" fill-rule=\"evenodd\" fill-opacity=\"1\"/>\n",
       "<polyline clip-path=\"url(#clip282)\" style=\"stroke:#000000; stroke-linecap:round; stroke-linejoin:round; stroke-width:4; stroke-opacity:1; fill:none\" points=\"235.413,47.2441 235.413,1486.45 805.158,1486.45 805.158,47.2441 235.413,47.2441 \"/>\n",
       "<path clip-path=\"url(#clip282)\" d=\"M947.594 766.846 L947.594 1486.45 L1517.34 1486.45 L1517.34 766.846 L947.594 766.846 L947.594 766.846  Z\" fill=\"#009af9\" fill-rule=\"evenodd\" fill-opacity=\"1\"/>\n",
       "<polyline clip-path=\"url(#clip282)\" style=\"stroke:#000000; stroke-linecap:round; stroke-linejoin:round; stroke-width:4; stroke-opacity:1; fill:none\" points=\"947.594,766.846 947.594,1486.45 1517.34,1486.45 1517.34,766.846 947.594,766.846 \"/>\n",
       "<path clip-path=\"url(#clip282)\" d=\"M1659.78 407.045 L1659.78 1486.45 L2229.52 1486.45 L2229.52 407.045 L1659.78 407.045 L1659.78 407.045  Z\" fill=\"#009af9\" fill-rule=\"evenodd\" fill-opacity=\"1\"/>\n",
       "<polyline clip-path=\"url(#clip282)\" style=\"stroke:#000000; stroke-linecap:round; stroke-linejoin:round; stroke-width:4; stroke-opacity:1; fill:none\" points=\"1659.78,407.045 1659.78,1486.45 2229.52,1486.45 2229.52,407.045 1659.78,407.045 \"/>\n",
       "<circle clip-path=\"url(#clip282)\" style=\"fill:#009af9; stroke:none; fill-opacity:0\" cx=\"520.285\" cy=\"47.2441\" r=\"2\"/>\n",
       "<circle clip-path=\"url(#clip282)\" style=\"fill:#009af9; stroke:none; fill-opacity:0\" cx=\"1232.47\" cy=\"766.846\" r=\"2\"/>\n",
       "<circle clip-path=\"url(#clip282)\" style=\"fill:#009af9; stroke:none; fill-opacity:0\" cx=\"1944.65\" cy=\"407.045\" r=\"2\"/>\n",
       "<path clip-path=\"url(#clip280)\" d=\"M2001.58 198.898 L2278.07 198.898 L2278.07 95.2176 L2001.58 95.2176  Z\" fill=\"#ffffff\" fill-rule=\"evenodd\" fill-opacity=\"1\"/>\n",
       "<polyline clip-path=\"url(#clip280)\" style=\"stroke:#000000; stroke-linecap:round; stroke-linejoin:round; stroke-width:4; stroke-opacity:1; fill:none\" points=\"2001.58,198.898 2278.07,198.898 2278.07,95.2176 2001.58,95.2176 2001.58,198.898 \"/>\n",
       "<path clip-path=\"url(#clip280)\" d=\"M2026.48 167.794 L2175.85 167.794 L2175.85 126.322 L2026.48 126.322 L2026.48 167.794  Z\" fill=\"#009af9\" fill-rule=\"evenodd\" fill-opacity=\"1\"/>\n",
       "<polyline clip-path=\"url(#clip280)\" style=\"stroke:#000000; stroke-linecap:round; stroke-linejoin:round; stroke-width:4; stroke-opacity:1; fill:none\" points=\"2026.48,167.794 2175.85,167.794 2175.85,126.322 2026.48,126.322 2026.48,167.794 \"/>\n",
       "<path clip-path=\"url(#clip280)\" d=\"M2214.59 166.745 Q2212.78 171.375 2211.07 172.787 Q2209.36 174.199 2206.49 174.199 L2203.08 174.199 L2203.08 170.634 L2205.58 170.634 Q2207.34 170.634 2208.31 169.8 Q2209.29 168.967 2210.47 165.865 L2211.23 163.921 L2200.74 138.412 L2205.26 138.412 L2213.36 158.689 L2221.46 138.412 L2225.98 138.412 L2214.59 166.745 Z\" fill=\"#000000\" fill-rule=\"nonzero\" fill-opacity=\"1\" /><path clip-path=\"url(#clip280)\" d=\"M2233.27 160.402 L2240.91 160.402 L2240.91 134.037 L2232.6 135.703 L2232.6 131.444 L2240.86 129.778 L2245.54 129.778 L2245.54 160.402 L2253.17 160.402 L2253.17 164.338 L2233.27 164.338 L2233.27 160.402 Z\" fill=\"#000000\" fill-rule=\"nonzero\" fill-opacity=\"1\" /></svg>\n"
      ],
      "text/html": [
       "<?xml version=\"1.0\" encoding=\"utf-8\"?>\n",
       "<svg xmlns=\"http://www.w3.org/2000/svg\" xmlns:xlink=\"http://www.w3.org/1999/xlink\" width=\"600\" height=\"400\" viewBox=\"0 0 2400 1600\">\n",
       "<defs>\n",
       "  <clipPath id=\"clip330\">\n",
       "    <rect x=\"0\" y=\"0\" width=\"2400\" height=\"1600\"/>\n",
       "  </clipPath>\n",
       "</defs>\n",
       "<path clip-path=\"url(#clip330)\" d=\"M0 1600 L2400 1600 L2400 0 L0 0  Z\" fill=\"#ffffff\" fill-rule=\"evenodd\" fill-opacity=\"1\"/>\n",
       "<defs>\n",
       "  <clipPath id=\"clip331\">\n",
       "    <rect x=\"480\" y=\"0\" width=\"1681\" height=\"1600\"/>\n",
       "  </clipPath>\n",
       "</defs>\n",
       "<path clip-path=\"url(#clip330)\" d=\"M112.177 1486.45 L2352.76 1486.45 L2352.76 47.2441 L112.177 47.2441  Z\" fill=\"#ffffff\" fill-rule=\"evenodd\" fill-opacity=\"1\"/>\n",
       "<defs>\n",
       "  <clipPath id=\"clip332\">\n",
       "    <rect x=\"112\" y=\"47\" width=\"2242\" height=\"1440\"/>\n",
       "  </clipPath>\n",
       "</defs>\n",
       "<polyline clip-path=\"url(#clip332)\" style=\"stroke:#000000; stroke-linecap:round; stroke-linejoin:round; stroke-width:2; stroke-opacity:0.1; fill:none\" points=\"520.285,1486.45 520.285,47.2441 \"/>\n",
       "<polyline clip-path=\"url(#clip332)\" style=\"stroke:#000000; stroke-linecap:round; stroke-linejoin:round; stroke-width:2; stroke-opacity:0.1; fill:none\" points=\"1232.47,1486.45 1232.47,47.2441 \"/>\n",
       "<polyline clip-path=\"url(#clip332)\" style=\"stroke:#000000; stroke-linecap:round; stroke-linejoin:round; stroke-width:2; stroke-opacity:0.1; fill:none\" points=\"1944.65,1486.45 1944.65,47.2441 \"/>\n",
       "<polyline clip-path=\"url(#clip330)\" style=\"stroke:#000000; stroke-linecap:round; stroke-linejoin:round; stroke-width:4; stroke-opacity:1; fill:none\" points=\"112.177,1486.45 2352.76,1486.45 \"/>\n",
       "<polyline clip-path=\"url(#clip330)\" style=\"stroke:#000000; stroke-linecap:round; stroke-linejoin:round; stroke-width:4; stroke-opacity:1; fill:none\" points=\"520.285,1486.45 520.285,1467.55 \"/>\n",
       "<polyline clip-path=\"url(#clip330)\" style=\"stroke:#000000; stroke-linecap:round; stroke-linejoin:round; stroke-width:4; stroke-opacity:1; fill:none\" points=\"1232.47,1486.45 1232.47,1467.55 \"/>\n",
       "<polyline clip-path=\"url(#clip330)\" style=\"stroke:#000000; stroke-linecap:round; stroke-linejoin:round; stroke-width:4; stroke-opacity:1; fill:none\" points=\"1944.65,1486.45 1944.65,1467.55 \"/>\n",
       "<path clip-path=\"url(#clip330)\" d=\"M522.739 1535.82 Q517.577 1535.82 515.586 1537 Q513.596 1538.18 513.596 1541.02 Q513.596 1543.29 515.077 1544.63 Q516.582 1545.95 519.151 1545.95 Q522.693 1545.95 524.822 1543.45 Q526.975 1540.93 526.975 1536.76 L526.975 1535.82 L522.739 1535.82 M531.234 1534.06 L531.234 1548.85 L526.975 1548.85 L526.975 1544.91 Q525.517 1547.27 523.341 1548.41 Q521.165 1549.52 518.017 1549.52 Q514.035 1549.52 511.674 1547.3 Q509.336 1545.05 509.336 1541.3 Q509.336 1536.93 512.253 1534.7 Q515.193 1532.48 521.003 1532.48 L526.975 1532.48 L526.975 1532.07 Q526.975 1529.13 525.031 1527.53 Q523.109 1525.91 519.614 1525.91 Q517.392 1525.91 515.285 1526.44 Q513.179 1526.97 511.235 1528.04 L511.235 1524.1 Q513.573 1523.2 515.772 1522.76 Q517.971 1522.3 520.054 1522.3 Q525.679 1522.3 528.457 1525.21 Q531.234 1528.13 531.234 1534.06 Z\" fill=\"#000000\" fill-rule=\"nonzero\" fill-opacity=\"1\" /><path clip-path=\"url(#clip330)\" d=\"M1239.64 1535.91 Q1239.64 1531.21 1237.7 1528.55 Q1235.78 1525.86 1232.4 1525.86 Q1229.02 1525.86 1227.07 1528.55 Q1225.15 1531.21 1225.15 1535.91 Q1225.15 1540.61 1227.07 1543.29 Q1229.02 1545.95 1232.4 1545.95 Q1235.78 1545.95 1237.7 1543.29 Q1239.64 1540.61 1239.64 1535.91 M1225.15 1526.86 Q1226.49 1524.54 1228.53 1523.43 Q1230.59 1522.3 1233.44 1522.3 Q1238.16 1522.3 1241.1 1526.05 Q1244.06 1529.8 1244.06 1535.91 Q1244.06 1542.02 1241.1 1545.77 Q1238.16 1549.52 1233.44 1549.52 Q1230.59 1549.52 1228.53 1548.41 Q1226.49 1547.27 1225.15 1544.96 L1225.15 1548.85 L1220.87 1548.85 L1220.87 1512.83 L1225.15 1512.83 L1225.15 1526.86 Z\" fill=\"#000000\" fill-rule=\"nonzero\" fill-opacity=\"1\" /><path clip-path=\"url(#clip330)\" d=\"M1954.9 1523.92 L1954.9 1527.9 Q1953.1 1526.9 1951.27 1526.42 Q1949.46 1525.91 1947.61 1525.91 Q1943.47 1525.91 1941.18 1528.55 Q1938.88 1531.16 1938.88 1535.91 Q1938.88 1540.65 1941.18 1543.29 Q1943.47 1545.91 1947.61 1545.91 Q1949.46 1545.91 1951.27 1545.42 Q1953.1 1544.91 1954.9 1543.92 L1954.9 1547.85 Q1953.12 1548.69 1951.2 1549.1 Q1949.3 1549.52 1947.15 1549.52 Q1941.29 1549.52 1937.84 1545.84 Q1934.39 1542.16 1934.39 1535.91 Q1934.39 1529.57 1937.87 1525.93 Q1941.36 1522.3 1947.43 1522.3 Q1949.39 1522.3 1951.27 1522.71 Q1953.14 1523.11 1954.9 1523.92 Z\" fill=\"#000000\" fill-rule=\"nonzero\" fill-opacity=\"1\" /><polyline clip-path=\"url(#clip332)\" style=\"stroke:#000000; stroke-linecap:round; stroke-linejoin:round; stroke-width:2; stroke-opacity:0.1; fill:none\" points=\"112.177,1486.45 2352.76,1486.45 \"/>\n",
       "<polyline clip-path=\"url(#clip332)\" style=\"stroke:#000000; stroke-linecap:round; stroke-linejoin:round; stroke-width:2; stroke-opacity:0.1; fill:none\" points=\"112.177,1126.65 2352.76,1126.65 \"/>\n",
       "<polyline clip-path=\"url(#clip332)\" style=\"stroke:#000000; stroke-linecap:round; stroke-linejoin:round; stroke-width:2; stroke-opacity:0.1; fill:none\" points=\"112.177,766.846 2352.76,766.846 \"/>\n",
       "<polyline clip-path=\"url(#clip332)\" style=\"stroke:#000000; stroke-linecap:round; stroke-linejoin:round; stroke-width:2; stroke-opacity:0.1; fill:none\" points=\"112.177,407.045 2352.76,407.045 \"/>\n",
       "<polyline clip-path=\"url(#clip332)\" style=\"stroke:#000000; stroke-linecap:round; stroke-linejoin:round; stroke-width:2; stroke-opacity:0.1; fill:none\" points=\"112.177,47.2441 2352.76,47.2441 \"/>\n",
       "<polyline clip-path=\"url(#clip330)\" style=\"stroke:#000000; stroke-linecap:round; stroke-linejoin:round; stroke-width:4; stroke-opacity:1; fill:none\" points=\"112.177,1486.45 112.177,47.2441 \"/>\n",
       "<polyline clip-path=\"url(#clip330)\" style=\"stroke:#000000; stroke-linecap:round; stroke-linejoin:round; stroke-width:4; stroke-opacity:1; fill:none\" points=\"112.177,1486.45 131.075,1486.45 \"/>\n",
       "<polyline clip-path=\"url(#clip330)\" style=\"stroke:#000000; stroke-linecap:round; stroke-linejoin:round; stroke-width:4; stroke-opacity:1; fill:none\" points=\"112.177,1126.65 131.075,1126.65 \"/>\n",
       "<polyline clip-path=\"url(#clip330)\" style=\"stroke:#000000; stroke-linecap:round; stroke-linejoin:round; stroke-width:4; stroke-opacity:1; fill:none\" points=\"112.177,766.846 131.075,766.846 \"/>\n",
       "<polyline clip-path=\"url(#clip330)\" style=\"stroke:#000000; stroke-linecap:round; stroke-linejoin:round; stroke-width:4; stroke-opacity:1; fill:none\" points=\"112.177,407.045 131.075,407.045 \"/>\n",
       "<polyline clip-path=\"url(#clip330)\" style=\"stroke:#000000; stroke-linecap:round; stroke-linejoin:round; stroke-width:4; stroke-opacity:1; fill:none\" points=\"112.177,47.2441 131.075,47.2441 \"/>\n",
       "<path clip-path=\"url(#clip330)\" d=\"M64.2328 1472.25 Q60.6217 1472.25 58.793 1475.81 Q56.9875 1479.35 56.9875 1486.48 Q56.9875 1493.59 58.793 1497.15 Q60.6217 1500.7 64.2328 1500.7 Q67.867 1500.7 69.6726 1497.15 Q71.5013 1493.59 71.5013 1486.48 Q71.5013 1479.35 69.6726 1475.81 Q67.867 1472.25 64.2328 1472.25 M64.2328 1468.54 Q70.0429 1468.54 73.0985 1473.15 Q76.1772 1477.73 76.1772 1486.48 Q76.1772 1495.21 73.0985 1499.82 Q70.0429 1504.4 64.2328 1504.4 Q58.4226 1504.4 55.344 1499.82 Q52.2884 1495.21 52.2884 1486.48 Q52.2884 1477.73 55.344 1473.15 Q58.4226 1468.54 64.2328 1468.54 Z\" fill=\"#000000\" fill-rule=\"nonzero\" fill-opacity=\"1\" /><path clip-path=\"url(#clip330)\" d=\"M56.2699 1139.99 L63.9087 1139.99 L63.9087 1113.63 L55.5986 1115.29 L55.5986 1111.03 L63.8624 1109.37 L68.5383 1109.37 L68.5383 1139.99 L76.1772 1139.99 L76.1772 1143.93 L56.2699 1143.93 L56.2699 1139.99 Z\" fill=\"#000000\" fill-rule=\"nonzero\" fill-opacity=\"1\" /><path clip-path=\"url(#clip330)\" d=\"M59.8578 780.191 L76.1772 780.191 L76.1772 784.126 L54.2328 784.126 L54.2328 780.191 Q56.8949 777.436 61.4782 772.807 Q66.0846 768.154 67.2652 766.811 Q69.5105 764.288 70.3902 762.552 Q71.2929 760.793 71.2929 759.103 Q71.2929 756.348 69.3485 754.612 Q67.4272 752.876 64.3254 752.876 Q62.1263 752.876 59.6726 753.64 Q57.2421 754.404 54.4643 755.955 L54.4643 751.233 Q57.2884 750.098 59.7421 749.52 Q62.1958 748.941 64.2328 748.941 Q69.6031 748.941 72.7976 751.626 Q75.992 754.311 75.992 758.802 Q75.992 760.932 75.1818 762.853 Q74.3948 764.751 72.2883 767.344 Q71.7096 768.015 68.6078 771.233 Q65.5059 774.427 59.8578 780.191 Z\" fill=\"#000000\" fill-rule=\"nonzero\" fill-opacity=\"1\" /><path clip-path=\"url(#clip330)\" d=\"M69.0476 405.691 Q72.404 406.408 74.279 408.677 Q76.1772 410.945 76.1772 414.279 Q76.1772 419.395 72.6587 422.195 Q69.1402 424.996 62.6587 424.996 Q60.4828 424.996 58.168 424.557 Q55.8764 424.14 53.4227 423.283 L53.4227 418.77 Q55.3671 419.904 57.6819 420.482 Q59.9967 421.061 62.5198 421.061 Q66.918 421.061 69.2096 419.325 Q71.5244 417.589 71.5244 414.279 Q71.5244 411.223 69.3717 409.51 Q67.242 407.774 63.4226 407.774 L59.3949 407.774 L59.3949 403.932 L63.6078 403.932 Q67.0569 403.932 68.8855 402.566 Q70.7142 401.177 70.7142 398.584 Q70.7142 395.922 68.8161 394.51 Q66.9411 393.075 63.4226 393.075 Q61.5013 393.075 59.3023 393.492 Q57.1032 393.909 54.4643 394.788 L54.4643 390.622 Q57.1264 389.881 59.4412 389.51 Q61.7791 389.14 63.8393 389.14 Q69.1633 389.14 72.2652 391.571 Q75.367 393.978 75.367 398.098 Q75.367 400.969 73.7235 402.959 Q72.08 404.927 69.0476 405.691 Z\" fill=\"#000000\" fill-rule=\"nonzero\" fill-opacity=\"1\" /><path clip-path=\"url(#clip330)\" d=\"M66.5939 34.0381 L54.7884 52.4871 L66.5939 52.4871 L66.5939 34.0381 M65.367 29.9641 L71.2466 29.9641 L71.2466 52.4871 L76.1772 52.4871 L76.1772 56.376 L71.2466 56.376 L71.2466 64.5241 L66.5939 64.5241 L66.5939 56.376 L50.9921 56.376 L50.9921 51.8621 L65.367 29.9641 Z\" fill=\"#000000\" fill-rule=\"nonzero\" fill-opacity=\"1\" /><path clip-path=\"url(#clip332)\" d=\"M235.413 47.2441 L235.413 1486.45 L805.158 1486.45 L805.158 47.2441 L235.413 47.2441 L235.413 47.2441  Z\" fill=\"#009af9\" fill-rule=\"evenodd\" fill-opacity=\"1\"/>\n",
       "<polyline clip-path=\"url(#clip332)\" style=\"stroke:#000000; stroke-linecap:round; stroke-linejoin:round; stroke-width:4; stroke-opacity:1; fill:none\" points=\"235.413,47.2441 235.413,1486.45 805.158,1486.45 805.158,47.2441 235.413,47.2441 \"/>\n",
       "<path clip-path=\"url(#clip332)\" d=\"M947.594 766.846 L947.594 1486.45 L1517.34 1486.45 L1517.34 766.846 L947.594 766.846 L947.594 766.846  Z\" fill=\"#009af9\" fill-rule=\"evenodd\" fill-opacity=\"1\"/>\n",
       "<polyline clip-path=\"url(#clip332)\" style=\"stroke:#000000; stroke-linecap:round; stroke-linejoin:round; stroke-width:4; stroke-opacity:1; fill:none\" points=\"947.594,766.846 947.594,1486.45 1517.34,1486.45 1517.34,766.846 947.594,766.846 \"/>\n",
       "<path clip-path=\"url(#clip332)\" d=\"M1659.78 407.045 L1659.78 1486.45 L2229.52 1486.45 L2229.52 407.045 L1659.78 407.045 L1659.78 407.045  Z\" fill=\"#009af9\" fill-rule=\"evenodd\" fill-opacity=\"1\"/>\n",
       "<polyline clip-path=\"url(#clip332)\" style=\"stroke:#000000; stroke-linecap:round; stroke-linejoin:round; stroke-width:4; stroke-opacity:1; fill:none\" points=\"1659.78,407.045 1659.78,1486.45 2229.52,1486.45 2229.52,407.045 1659.78,407.045 \"/>\n",
       "<circle clip-path=\"url(#clip332)\" style=\"fill:#009af9; stroke:none; fill-opacity:0\" cx=\"520.285\" cy=\"47.2441\" r=\"2\"/>\n",
       "<circle clip-path=\"url(#clip332)\" style=\"fill:#009af9; stroke:none; fill-opacity:0\" cx=\"1232.47\" cy=\"766.846\" r=\"2\"/>\n",
       "<circle clip-path=\"url(#clip332)\" style=\"fill:#009af9; stroke:none; fill-opacity:0\" cx=\"1944.65\" cy=\"407.045\" r=\"2\"/>\n",
       "<path clip-path=\"url(#clip330)\" d=\"M2001.58 198.898 L2278.07 198.898 L2278.07 95.2176 L2001.58 95.2176  Z\" fill=\"#ffffff\" fill-rule=\"evenodd\" fill-opacity=\"1\"/>\n",
       "<polyline clip-path=\"url(#clip330)\" style=\"stroke:#000000; stroke-linecap:round; stroke-linejoin:round; stroke-width:4; stroke-opacity:1; fill:none\" points=\"2001.58,198.898 2278.07,198.898 2278.07,95.2176 2001.58,95.2176 2001.58,198.898 \"/>\n",
       "<path clip-path=\"url(#clip330)\" d=\"M2026.48 167.794 L2175.85 167.794 L2175.85 126.322 L2026.48 126.322 L2026.48 167.794  Z\" fill=\"#009af9\" fill-rule=\"evenodd\" fill-opacity=\"1\"/>\n",
       "<polyline clip-path=\"url(#clip330)\" style=\"stroke:#000000; stroke-linecap:round; stroke-linejoin:round; stroke-width:4; stroke-opacity:1; fill:none\" points=\"2026.48,167.794 2175.85,167.794 2175.85,126.322 2026.48,126.322 2026.48,167.794 \"/>\n",
       "<path clip-path=\"url(#clip330)\" d=\"M2214.59 166.745 Q2212.78 171.375 2211.07 172.787 Q2209.36 174.199 2206.49 174.199 L2203.08 174.199 L2203.08 170.634 L2205.58 170.634 Q2207.34 170.634 2208.31 169.8 Q2209.29 168.967 2210.47 165.865 L2211.23 163.921 L2200.74 138.412 L2205.26 138.412 L2213.36 158.689 L2221.46 138.412 L2225.98 138.412 L2214.59 166.745 Z\" fill=\"#000000\" fill-rule=\"nonzero\" fill-opacity=\"1\" /><path clip-path=\"url(#clip330)\" d=\"M2233.27 160.402 L2240.91 160.402 L2240.91 134.037 L2232.6 135.703 L2232.6 131.444 L2240.86 129.778 L2245.54 129.778 L2245.54 160.402 L2253.17 160.402 L2253.17 164.338 L2233.27 164.338 L2233.27 160.402 Z\" fill=\"#000000\" fill-rule=\"nonzero\" fill-opacity=\"1\" /></svg>\n"
      ]
     },
     "execution_count": 83,
     "metadata": {},
     "output_type": "execute_result"
    }
   ],
   "source": [
    "bar([\"a\", \"b\", \"c\"], [4,2,3])"
   ]
  },
  {
   "cell_type": "code",
   "execution_count": null,
   "id": "0541b211",
   "metadata": {},
   "outputs": [],
   "source": []
  }
 ],
 "metadata": {
  "kernelspec": {
   "display_name": "Julia 1.10.0",
   "language": "julia",
   "name": "julia-1.10"
  },
  "language_info": {
   "file_extension": ".jl",
   "mimetype": "application/julia",
   "name": "julia",
   "version": "1.10.0"
  }
 },
 "nbformat": 4,
 "nbformat_minor": 5
}
